{
 "cells": [
  {
   "cell_type": "code",
   "execution_count": 1,
   "metadata": {},
   "outputs": [],
   "source": [
    "from myPackage.my_module import *\n",
    "from scipy import optimize"
   ]
  },
  {
   "cell_type": "markdown",
   "metadata": {},
   "source": [
    "### Projection definition"
   ]
  },
  {
   "cell_type": "code",
   "execution_count": 2,
   "metadata": {},
   "outputs": [],
   "source": [
    "def wer(th, v=1, base='psim'):\n",
    "    '''\n",
    "    Creates Werner state based on parameters of angle, visibility and Bell state\n",
    "    Args:\n",
    "        th: angle\n",
    "        v: visibility (default=1)\n",
    "        base: which Bell state to choose. Accepts one of the strings: \"psip\", \"psim\", \"phip\", \"phim\"\n",
    "        which means phi/psi with plus (p) or minus (m) sign (default=\"psim\")\n",
    "    Returns:\n",
    "        4x4 np.ndarray\n",
    "    \n",
    "    '''\n",
    "    match base:\n",
    "        case 'psim':\n",
    "            vec = np.sin(th)*OneZero - np.cos(th)*ZeroOne\n",
    "        case 'psip':\n",
    "            vec = np.sin(th)*OneZero + np.cos(th)*ZeroOne\n",
    "        case 'phip':\n",
    "            vec = np.sin(th)*OneOne + np.cos(th)*ZeroZero\n",
    "        case 'phim':\n",
    "            vec =np.sin(th)*OneOne - np.cos(th)*ZeroZero\n",
    "        case _:\n",
    "            raise ValueError(\"You must choose one of the following: psip, psim, phip, phim\")\n",
    "    return v * np.outer(vec,vec) + (1-v)/4 * np.identity(4)"
   ]
  },
  {
   "cell_type": "code",
   "execution_count": 3,
   "metadata": {},
   "outputs": [],
   "source": [
    "def non_opt_phi_proj(matrixA):\n",
    "    def get_params_phi(matrix):\n",
    "        v = 1 - 4*matrix[1,1]\n",
    "        if v==0:\n",
    "            return 0, 0    \n",
    "        alph = np.arcsin(matrix[0,3]/v*2)/2\n",
    "        return alph, v\n",
    "       \n",
    "    def projection(matrix):\n",
    "        return np.real(np.matrix([[matrix[0,0],0,0,matrix[0,3]/2+matrix[3,0]/2],\\\n",
    "                                    [0,matrix[2,2]/2+matrix[1,1]/2,0,0],\\\n",
    "                                    [0,0,matrix[2,2]/2+matrix[1,1]/2,0],\\\n",
    "                                    [matrix[0,3]/2+matrix[3,0]/2,0,0,matrix[3,3]]]))\n",
    "    \n",
    "    matrix_proj = projection(matrixA)\n",
    "    angle, vis = get_params_phi(matrix_proj)\n",
    "    dist = Frobenius_dist(matrix_proj, matrixA)\n",
    "    conc = concurrence(density_matrix(matrix_proj))\n",
    "    conc_org = concurrence(density_matrix(matrixA))\n",
    "    fid = matrix_fidelity(matrixA, matrix_proj)   \n",
    "    return {'distance': dist, 'concurrence' : conc, 'fidelity': fid,\\\n",
    "            'angle': angle, 'visibility': vis, 'projected': matrix_proj, 'original': matrixA, 'concurrence_org':conc_org}"
   ]
  },
  {
   "cell_type": "code",
   "execution_count": 4,
   "metadata": {},
   "outputs": [],
   "source": [
    "def projection(matrix):\n",
    "        return np.real(np.matrix([[matrix[0,0],0,0,matrix[0,3]/2+matrix[3,0]/2],\\\n",
    "                                  [0,matrix[2,2]/2+matrix[1,1]/2,0,0],\\\n",
    "                                  [0,0,matrix[2,2]/2+matrix[1,1]/2,0],\\\n",
    "                                  [matrix[0,3]/2+matrix[3,0]/2,0,0,matrix[3,3]]]))\n",
    "\n",
    "\n",
    "def phi_proj(matrixA, target='fidelity'):\n",
    "    '''\n",
    "    Performs a unitary rotation and projects onto phi+ state (optimizes for fidelity, distance or concurrence)\n",
    "    Args:\n",
    "        matrixA: matrix to be projected\n",
    "        target: function to be optimizes for. One of the following: 'fidelity', 'distance' or 'concurrence'\n",
    "    Returns:\n",
    "        A dict object:\n",
    "            fidelity/distance/concurrence: optimal value of the target function\n",
    "            parameters: 2x3 angles of unitary rotation\n",
    "            angle: angle of resulting phi+ state\n",
    "            visiblity: visibility of resulting phi+ state\n",
    "            projected: np.matrix result of projection\n",
    "            original: np.matrix original matrix\n",
    "    '''\n",
    "    def get_params_phi(matrix):\n",
    "        v = 1 - 4*matrix[1,1]\n",
    "        if v==0:\n",
    "            return 0, 0    \n",
    "        alph = np.arcsin(matrix[0,3]/v*2)/2\n",
    "        return alph, v\n",
    "    \n",
    "    \n",
    "    from scipy.optimize import differential_evolution\n",
    "    \n",
    "    def f(params, matrixA):\n",
    "        matrixA = matrixA.matrix if type(matrixA) == density_matrix else matrixA\n",
    "        paramsA = params[:3]\n",
    "        paramsB = params[3:]\n",
    "        rotated = rotate_matrix(matrixA, paramsA, paramsB)\n",
    "        projected = projection(rotated)\n",
    "        if target=='fidelity':\n",
    "            return -1*matrix_fidelity(density_matrix(projected), matrixA)\n",
    "        if target=='concurrence':\n",
    "            return -1*concurrence(projected)\n",
    "        if target=='distance':\n",
    "            return Frobenius_dist(matrixA, projected)\n",
    "    bounds = [(0,2*pi), (0,2*pi), (0,2*pi), (0,2*pi), (0,2*pi), (0,2*pi)]\n",
    "    res = differential_evolution(f, args=(matrixA,), bounds=bounds)\n",
    "    \n",
    "    if target=='distance':\n",
    "        res['fun'] = -res['fun']\n",
    "        \n",
    "    paramsA = res['x'][:3]\n",
    "    paramsB = res['x'][3:]\n",
    "    matrix_proj = projection(rotate_matrix(matrixA, paramsA, paramsB))\n",
    "    angle, vis = get_params_phi(matrix_proj)\n",
    "    dist = Frobenius_dist(matrix_proj, matrixA)\n",
    "    conc = concurrence(density_matrix(matrix_proj))\n",
    "    conc_org = concurrence(density_matrix(matrixA))\n",
    "    fid = matrix_fidelity(matrixA, matrix_proj)   \n",
    "    return {'distance': dist, 'concurrence' : conc, 'fidelity': fid,\\\n",
    "            'parameters': [paramsA, paramsB], 'angle': angle,\\\n",
    "            'visibility': vis, 'projected': matrix_proj, 'original': matrixA, 'target': target, 'concurrence_org':conc_org}\n",
    "    \n",
    "    \n",
    "    \n",
    "def phi_proj2(matrixA, target='fidelity'):\n",
    "    '''\n",
    "    Performs a unitary rotation and projects onto phi+ state (optimizes for fidelity, distance or concurrence)\n",
    "    Args:\n",
    "        matrixA: matrix to be projected\n",
    "        target: function to be optimizes for. One of the following: 'fidelity', 'distance' or 'concurrence'\n",
    "    Returns:\n",
    "        A dict object:\n",
    "            fidelity/distance/concurrence: optimal value of the target function\n",
    "            parameters: 2x3 angles of unitary rotation\n",
    "            angle: angle of resulting phi+ state\n",
    "            visiblity: visibility of resulting phi+ state\n",
    "            projected: np.matrix result of projection\n",
    "            original: np.matrix original matrix\n",
    "    '''\n",
    "    def get_params_phi(matrix):\n",
    "        v = 1 - 4*matrix[1,1]\n",
    "        if v==0:\n",
    "            return 0, 0    \n",
    "        alph = np.arcsin(matrix[0,3]/v*2)/2\n",
    "        return alph, v\n",
    "    \n",
    "    \n",
    "    from scipy.optimize import differential_evolution\n",
    "        \n",
    "    def f(params, matrixA):\n",
    "        matrixA = matrixA.matrix if type(matrixA) == density_matrix else matrixA\n",
    "        paramsA = params[:3]\n",
    "        paramsB = params[3:]\n",
    "        projected = projection(matrixA)\n",
    "        rotated = rotate_matrix_par(projected, paramsA, paramsB)\n",
    "        if target=='fidelity':\n",
    "            return -1*matrix_fidelity(density_matrix(rotated), matrixA)\n",
    "        if target=='concurrence':\n",
    "            return -1*concurrence(rotated)\n",
    "        if target=='distance':\n",
    "            return Frobenius_dist(matrixA, rotated)\n",
    "    bounds = [(0,2*pi), (0,2*pi), (0,2*pi), (0,2*pi), (0,2*pi), (0,2*pi)]\n",
    "    res = differential_evolution(f, args=(matrixA,), bounds=bounds, workers=1)\n",
    "    \n",
    "    if target=='distance':\n",
    "        res['fun'] = -res['fun']\n",
    "        \n",
    "    paramsA = res['x'][:3]\n",
    "    paramsB = res['x'][3:]\n",
    "    matrix_proj =rotate_matrix_par(projection(matrixA), paramsA, paramsB)\n",
    "    angle, vis = get_params_phi(matrix_proj)\n",
    "    dist = Frobenius_dist(matrix_proj, matrixA)\n",
    "    conc = concurrence(density_matrix(matrix_proj))\n",
    "    conc_org = concurrence(density_matrix(matrixA))\n",
    "    fid = matrix_fidelity(matrixA, matrix_proj)   \n",
    "    return {'distance': dist, 'concurrence' : conc, 'fidelity': fid,\\\n",
    "            'parameters': [paramsA, paramsB], 'angle': angle,\\\n",
    "            'visibility': vis, 'projected': matrix_proj, 'original': matrixA, 'target': target, 'concurrence_org':conc_org}    "
   ]
  },
  {
   "cell_type": "code",
   "execution_count": 5,
   "metadata": {},
   "outputs": [
    {
     "data": {
      "text/plain": [
       "{'distance': 2.909572094846027e-19,\n",
       " 'concurrence': 1.0,\n",
       " 'fidelity': 0.9999999999999991,\n",
       " 'parameters': [array([3.14159, 1.95107, 4.32242]),\n",
       "  array([3.14159, 4.33211, 1.96076])],\n",
       " 'angle': (0.7853981633877162+1.0536716622258602e-08j),\n",
       " 'visibility': (1-2.4117378494372017e-49j),\n",
       " 'projected': matrix([[ 0.5+0.j, -0. +0.j,  0. +0.j,  0.5+0.j],\n",
       "         [-0. -0.j,  0. +0.j,  0. -0.j, -0. -0.j],\n",
       "         [ 0. -0.j,  0. +0.j,  0. +0.j,  0. -0.j],\n",
       "         [ 0.5-0.j, -0. +0.j,  0. +0.j,  0.5+0.j]]),\n",
       " 'original': array([[0.5, 0. , 0. , 0.5],\n",
       "        [0. , 0. , 0. , 0. ],\n",
       "        [0. , 0. , 0. , 0. ],\n",
       "        [0.5, 0. , 0. , 0.5]]),\n",
       " 'target': 'distance',\n",
       " 'concurrence_org': 1.0}"
      ]
     },
     "execution_count": 5,
     "metadata": {},
     "output_type": "execute_result"
    }
   ],
   "source": [
    "phi_proj2(wer(pi/4,1, 'phip'),'distance')"
   ]
  },
  {
   "cell_type": "markdown",
   "metadata": {},
   "source": [
    "### Data generation & save & read"
   ]
  },
  {
   "cell_type": "code",
   "execution_count": 6,
   "metadata": {},
   "outputs": [],
   "source": [
    "non_opt_df = pd.DataFrame({'distance':[], 'concurrence':[],'fidelity':[], 'concurrence_org':[]})\n",
    "import warnings\n",
    "with warnings.catch_warnings():\n",
    "    warnings.filterwarnings('ignore')\n",
    "    for i in range(10000):\n",
    "        state = rand_PSDM(4)\n",
    "        res = non_opt_phi_proj(state)\n",
    "        non_opt_df.loc[len(non_opt_df)] = [res['distance'], res['concurrence'], res['fidelity'], res['concurrence_org']]"
   ]
  },
  {
   "cell_type": "code",
   "execution_count": null,
   "metadata": {},
   "outputs": [],
   "source": [
    "df_raw=pd.DataFrame({'distance':[], 'concurrence':[],'fidelity':[], 'target':[], 'concurrence_org':[]})"
   ]
  },
  {
   "cell_type": "code",
   "execution_count": 6,
   "metadata": {},
   "outputs": [
    {
     "name": "stdout",
     "output_type": "stream",
     "text": [
      "10 out of 10000 done\n",
      "20 out of 10000 done\n",
      "30 out of 10000 done\n",
      "40 out of 10000 done\n",
      "50 out of 10000 done\n",
      "60 out of 10000 done\n",
      "70 out of 10000 done\n",
      "80 out of 10000 done\n",
      "90 out of 10000 done\n",
      "100 out of 10000 done\n",
      "110 out of 10000 done\n",
      "120 out of 10000 done\n",
      "130 out of 10000 done\n",
      "140 out of 10000 done\n",
      "150 out of 10000 done\n",
      "160 out of 10000 done\n",
      "170 out of 10000 done\n",
      "180 out of 10000 done\n",
      "190 out of 10000 done\n",
      "200 out of 10000 done\n",
      "210 out of 10000 done\n",
      "220 out of 10000 done\n",
      "230 out of 10000 done\n",
      "240 out of 10000 done\n",
      "250 out of 10000 done\n",
      "260 out of 10000 done\n",
      "270 out of 10000 done\n",
      "280 out of 10000 done\n",
      "290 out of 10000 done\n",
      "300 out of 10000 done\n",
      "310 out of 10000 done\n",
      "320 out of 10000 done\n",
      "330 out of 10000 done\n",
      "340 out of 10000 done\n",
      "350 out of 10000 done\n",
      "360 out of 10000 done\n",
      "370 out of 10000 done\n",
      "380 out of 10000 done\n",
      "390 out of 10000 done\n",
      "400 out of 10000 done\n",
      "410 out of 10000 done\n",
      "420 out of 10000 done\n",
      "430 out of 10000 done\n",
      "440 out of 10000 done\n",
      "450 out of 10000 done\n",
      "460 out of 10000 done\n",
      "470 out of 10000 done\n",
      "480 out of 10000 done\n",
      "490 out of 10000 done\n",
      "500 out of 10000 done\n",
      "510 out of 10000 done\n",
      "520 out of 10000 done\n",
      "530 out of 10000 done\n",
      "540 out of 10000 done\n",
      "550 out of 10000 done\n",
      "560 out of 10000 done\n",
      "570 out of 10000 done\n",
      "580 out of 10000 done\n",
      "590 out of 10000 done\n",
      "600 out of 10000 done\n",
      "610 out of 10000 done\n",
      "620 out of 10000 done\n",
      "630 out of 10000 done\n",
      "640 out of 10000 done\n",
      "650 out of 10000 done\n",
      "660 out of 10000 done\n",
      "670 out of 10000 done\n",
      "680 out of 10000 done\n",
      "690 out of 10000 done\n",
      "700 out of 10000 done\n",
      "710 out of 10000 done\n",
      "720 out of 10000 done\n",
      "730 out of 10000 done\n",
      "740 out of 10000 done\n",
      "750 out of 10000 done\n",
      "760 out of 10000 done\n",
      "770 out of 10000 done\n",
      "780 out of 10000 done\n",
      "790 out of 10000 done\n",
      "800 out of 10000 done\n",
      "810 out of 10000 done\n",
      "820 out of 10000 done\n",
      "830 out of 10000 done\n",
      "840 out of 10000 done\n",
      "850 out of 10000 done\n",
      "860 out of 10000 done\n",
      "870 out of 10000 done\n",
      "880 out of 10000 done\n",
      "890 out of 10000 done\n",
      "900 out of 10000 done\n",
      "910 out of 10000 done\n",
      "920 out of 10000 done\n",
      "930 out of 10000 done\n",
      "940 out of 10000 done\n",
      "950 out of 10000 done\n",
      "960 out of 10000 done\n",
      "970 out of 10000 done\n",
      "980 out of 10000 done\n",
      "990 out of 10000 done\n",
      "1000 out of 10000 done\n",
      "1010 out of 10000 done\n",
      "1020 out of 10000 done\n",
      "1030 out of 10000 done\n",
      "1040 out of 10000 done\n",
      "1050 out of 10000 done\n",
      "1060 out of 10000 done\n",
      "1070 out of 10000 done\n",
      "1080 out of 10000 done\n",
      "1090 out of 10000 done\n",
      "1100 out of 10000 done\n",
      "1110 out of 10000 done\n",
      "1120 out of 10000 done\n",
      "1130 out of 10000 done\n",
      "1140 out of 10000 done\n",
      "1150 out of 10000 done\n",
      "1160 out of 10000 done\n",
      "1170 out of 10000 done\n",
      "1180 out of 10000 done\n",
      "1190 out of 10000 done\n",
      "1200 out of 10000 done\n",
      "1210 out of 10000 done\n",
      "1220 out of 10000 done\n",
      "1230 out of 10000 done\n",
      "1240 out of 10000 done\n",
      "1250 out of 10000 done\n",
      "1260 out of 10000 done\n",
      "1270 out of 10000 done\n",
      "1280 out of 10000 done\n",
      "1290 out of 10000 done\n",
      "1300 out of 10000 done\n",
      "1310 out of 10000 done\n",
      "1320 out of 10000 done\n",
      "1330 out of 10000 done\n",
      "1340 out of 10000 done\n",
      "1350 out of 10000 done\n",
      "1360 out of 10000 done\n",
      "1370 out of 10000 done\n",
      "1380 out of 10000 done\n",
      "1390 out of 10000 done\n",
      "1400 out of 10000 done\n",
      "1410 out of 10000 done\n",
      "1420 out of 10000 done\n",
      "1430 out of 10000 done\n",
      "1440 out of 10000 done\n",
      "1450 out of 10000 done\n",
      "1460 out of 10000 done\n",
      "1470 out of 10000 done\n",
      "1480 out of 10000 done\n",
      "1490 out of 10000 done\n",
      "1500 out of 10000 done\n",
      "1510 out of 10000 done\n",
      "1520 out of 10000 done\n",
      "1530 out of 10000 done\n",
      "1540 out of 10000 done\n",
      "1550 out of 10000 done\n",
      "1560 out of 10000 done\n",
      "1570 out of 10000 done\n",
      "1580 out of 10000 done\n",
      "1590 out of 10000 done\n",
      "1600 out of 10000 done\n",
      "1610 out of 10000 done\n",
      "1620 out of 10000 done\n",
      "1630 out of 10000 done\n",
      "1640 out of 10000 done\n",
      "1650 out of 10000 done\n",
      "1660 out of 10000 done\n",
      "1670 out of 10000 done\n",
      "1680 out of 10000 done\n",
      "1690 out of 10000 done\n",
      "1700 out of 10000 done\n",
      "1710 out of 10000 done\n",
      "1720 out of 10000 done\n",
      "1730 out of 10000 done\n",
      "1740 out of 10000 done\n",
      "1750 out of 10000 done\n",
      "1760 out of 10000 done\n",
      "1770 out of 10000 done\n",
      "1780 out of 10000 done\n",
      "1790 out of 10000 done\n",
      "1800 out of 10000 done\n",
      "1810 out of 10000 done\n",
      "1820 out of 10000 done\n",
      "1830 out of 10000 done\n",
      "1840 out of 10000 done\n",
      "1850 out of 10000 done\n",
      "1860 out of 10000 done\n",
      "1870 out of 10000 done\n",
      "1880 out of 10000 done\n",
      "1890 out of 10000 done\n",
      "1900 out of 10000 done\n",
      "1910 out of 10000 done\n",
      "1920 out of 10000 done\n",
      "1930 out of 10000 done\n",
      "1940 out of 10000 done\n",
      "1950 out of 10000 done\n",
      "1960 out of 10000 done\n",
      "1970 out of 10000 done\n",
      "1980 out of 10000 done\n",
      "1990 out of 10000 done\n",
      "2000 out of 10000 done\n",
      "2010 out of 10000 done\n",
      "2020 out of 10000 done\n",
      "2030 out of 10000 done\n",
      "2040 out of 10000 done\n",
      "2050 out of 10000 done\n",
      "2060 out of 10000 done\n",
      "2070 out of 10000 done\n",
      "2080 out of 10000 done\n",
      "2090 out of 10000 done\n",
      "2100 out of 10000 done\n",
      "2110 out of 10000 done\n",
      "2120 out of 10000 done\n",
      "2130 out of 10000 done\n",
      "2140 out of 10000 done\n",
      "2150 out of 10000 done\n",
      "2160 out of 10000 done\n",
      "2170 out of 10000 done\n",
      "2180 out of 10000 done\n",
      "2190 out of 10000 done\n",
      "2200 out of 10000 done\n",
      "2210 out of 10000 done\n",
      "2220 out of 10000 done\n",
      "2230 out of 10000 done\n",
      "2240 out of 10000 done\n",
      "2250 out of 10000 done\n",
      "2260 out of 10000 done\n",
      "2270 out of 10000 done\n",
      "2280 out of 10000 done\n",
      "2290 out of 10000 done\n",
      "2300 out of 10000 done\n",
      "2310 out of 10000 done\n",
      "2320 out of 10000 done\n",
      "2330 out of 10000 done\n",
      "2340 out of 10000 done\n",
      "2350 out of 10000 done\n",
      "2360 out of 10000 done\n",
      "2370 out of 10000 done\n",
      "2380 out of 10000 done\n",
      "2390 out of 10000 done\n",
      "2400 out of 10000 done\n",
      "2410 out of 10000 done\n",
      "2420 out of 10000 done\n",
      "2430 out of 10000 done\n",
      "2440 out of 10000 done\n",
      "2450 out of 10000 done\n",
      "2460 out of 10000 done\n",
      "2470 out of 10000 done\n",
      "2480 out of 10000 done\n",
      "2490 out of 10000 done\n",
      "2500 out of 10000 done\n",
      "2510 out of 10000 done\n",
      "2520 out of 10000 done\n",
      "2530 out of 10000 done\n",
      "2540 out of 10000 done\n",
      "2550 out of 10000 done\n",
      "2560 out of 10000 done\n",
      "2570 out of 10000 done\n",
      "2580 out of 10000 done\n",
      "2590 out of 10000 done\n",
      "2600 out of 10000 done\n",
      "2610 out of 10000 done\n",
      "2620 out of 10000 done\n",
      "2630 out of 10000 done\n",
      "2640 out of 10000 done\n",
      "2650 out of 10000 done\n",
      "2660 out of 10000 done\n",
      "2670 out of 10000 done\n",
      "2680 out of 10000 done\n",
      "2690 out of 10000 done\n",
      "2700 out of 10000 done\n",
      "2710 out of 10000 done\n",
      "2720 out of 10000 done\n",
      "2730 out of 10000 done\n",
      "2740 out of 10000 done\n",
      "2750 out of 10000 done\n",
      "2760 out of 10000 done\n",
      "2770 out of 10000 done\n",
      "2780 out of 10000 done\n",
      "2790 out of 10000 done\n",
      "2800 out of 10000 done\n",
      "2810 out of 10000 done\n",
      "2820 out of 10000 done\n",
      "2830 out of 10000 done\n",
      "2840 out of 10000 done\n",
      "2850 out of 10000 done\n",
      "2860 out of 10000 done\n",
      "2870 out of 10000 done\n",
      "2880 out of 10000 done\n",
      "2890 out of 10000 done\n",
      "2900 out of 10000 done\n",
      "2910 out of 10000 done\n",
      "2920 out of 10000 done\n",
      "2930 out of 10000 done\n",
      "2940 out of 10000 done\n",
      "2950 out of 10000 done\n",
      "2960 out of 10000 done\n",
      "2970 out of 10000 done\n",
      "2980 out of 10000 done\n",
      "2990 out of 10000 done\n",
      "3000 out of 10000 done\n",
      "3010 out of 10000 done\n",
      "3020 out of 10000 done\n",
      "3030 out of 10000 done\n",
      "3040 out of 10000 done\n",
      "3050 out of 10000 done\n",
      "3060 out of 10000 done\n",
      "3070 out of 10000 done\n",
      "3080 out of 10000 done\n",
      "3090 out of 10000 done\n",
      "3100 out of 10000 done\n",
      "3110 out of 10000 done\n",
      "3120 out of 10000 done\n",
      "3130 out of 10000 done\n",
      "3140 out of 10000 done\n",
      "3150 out of 10000 done\n",
      "3160 out of 10000 done\n",
      "3170 out of 10000 done\n",
      "3180 out of 10000 done\n",
      "3190 out of 10000 done\n",
      "3200 out of 10000 done\n",
      "3210 out of 10000 done\n",
      "3220 out of 10000 done\n",
      "3230 out of 10000 done\n",
      "3240 out of 10000 done\n",
      "3250 out of 10000 done\n",
      "3260 out of 10000 done\n",
      "3270 out of 10000 done\n",
      "3280 out of 10000 done\n",
      "3290 out of 10000 done\n",
      "3300 out of 10000 done\n",
      "3310 out of 10000 done\n",
      "3320 out of 10000 done\n",
      "3330 out of 10000 done\n",
      "3340 out of 10000 done\n",
      "3350 out of 10000 done\n",
      "3360 out of 10000 done\n",
      "3370 out of 10000 done\n",
      "3380 out of 10000 done\n",
      "3390 out of 10000 done\n",
      "3400 out of 10000 done\n",
      "3410 out of 10000 done\n",
      "3420 out of 10000 done\n",
      "3430 out of 10000 done\n",
      "3440 out of 10000 done\n",
      "3450 out of 10000 done\n",
      "3460 out of 10000 done\n",
      "3470 out of 10000 done\n",
      "3480 out of 10000 done\n",
      "3490 out of 10000 done\n",
      "3500 out of 10000 done\n",
      "3510 out of 10000 done\n",
      "3520 out of 10000 done\n",
      "3530 out of 10000 done\n",
      "3540 out of 10000 done\n",
      "3550 out of 10000 done\n",
      "3560 out of 10000 done\n",
      "3570 out of 10000 done\n",
      "3580 out of 10000 done\n",
      "3590 out of 10000 done\n",
      "3600 out of 10000 done\n",
      "3610 out of 10000 done\n",
      "3620 out of 10000 done\n",
      "3630 out of 10000 done\n",
      "3640 out of 10000 done\n",
      "3650 out of 10000 done\n",
      "3660 out of 10000 done\n",
      "3670 out of 10000 done\n",
      "3680 out of 10000 done\n",
      "3690 out of 10000 done\n",
      "3700 out of 10000 done\n",
      "3710 out of 10000 done\n",
      "3720 out of 10000 done\n",
      "3730 out of 10000 done\n",
      "3740 out of 10000 done\n",
      "3750 out of 10000 done\n",
      "3760 out of 10000 done\n",
      "3770 out of 10000 done\n",
      "3780 out of 10000 done\n",
      "3790 out of 10000 done\n",
      "3800 out of 10000 done\n",
      "3810 out of 10000 done\n",
      "3820 out of 10000 done\n",
      "3830 out of 10000 done\n",
      "3840 out of 10000 done\n",
      "3850 out of 10000 done\n",
      "3860 out of 10000 done\n",
      "3870 out of 10000 done\n",
      "3880 out of 10000 done\n",
      "3890 out of 10000 done\n",
      "3900 out of 10000 done\n",
      "3910 out of 10000 done\n",
      "3920 out of 10000 done\n",
      "3930 out of 10000 done\n",
      "3940 out of 10000 done\n",
      "3950 out of 10000 done\n",
      "3960 out of 10000 done\n",
      "3970 out of 10000 done\n",
      "3980 out of 10000 done\n",
      "3990 out of 10000 done\n",
      "4000 out of 10000 done\n",
      "4010 out of 10000 done\n",
      "4020 out of 10000 done\n",
      "4030 out of 10000 done\n",
      "4040 out of 10000 done\n",
      "4050 out of 10000 done\n",
      "4060 out of 10000 done\n",
      "4070 out of 10000 done\n",
      "4080 out of 10000 done\n",
      "4090 out of 10000 done\n",
      "4100 out of 10000 done\n"
     ]
    },
    {
     "ename": "KeyboardInterrupt",
     "evalue": "",
     "output_type": "error",
     "traceback": [
      "\u001b[1;31m---------------------------------------------------------------------------\u001b[0m",
      "\u001b[1;31mKeyboardInterrupt\u001b[0m                         Traceback (most recent call last)",
      "Cell \u001b[1;32mIn[6], line 9\u001b[0m\n\u001b[0;32m      7\u001b[0m res \u001b[38;5;241m=\u001b[39m phi_proj(state, target\u001b[38;5;241m=\u001b[39m\u001b[38;5;124m'\u001b[39m\u001b[38;5;124mfidelity\u001b[39m\u001b[38;5;124m'\u001b[39m)\n\u001b[0;32m      8\u001b[0m df_raw\u001b[38;5;241m.\u001b[39mloc[\u001b[38;5;28mlen\u001b[39m(df_raw)] \u001b[38;5;241m=\u001b[39m [res[\u001b[38;5;124m'\u001b[39m\u001b[38;5;124mdistance\u001b[39m\u001b[38;5;124m'\u001b[39m], res[\u001b[38;5;124m'\u001b[39m\u001b[38;5;124mconcurrence\u001b[39m\u001b[38;5;124m'\u001b[39m], res[\u001b[38;5;124m'\u001b[39m\u001b[38;5;124mfidelity\u001b[39m\u001b[38;5;124m'\u001b[39m], res[\u001b[38;5;124m'\u001b[39m\u001b[38;5;124mtarget\u001b[39m\u001b[38;5;124m'\u001b[39m], res[\u001b[38;5;124m'\u001b[39m\u001b[38;5;124mconcurrence_org\u001b[39m\u001b[38;5;124m'\u001b[39m]]\n\u001b[1;32m----> 9\u001b[0m res \u001b[38;5;241m=\u001b[39m phi_proj(state, target\u001b[38;5;241m=\u001b[39m\u001b[38;5;124m'\u001b[39m\u001b[38;5;124mconcurrence\u001b[39m\u001b[38;5;124m'\u001b[39m)\n\u001b[0;32m     10\u001b[0m df_raw\u001b[38;5;241m.\u001b[39mloc[\u001b[38;5;28mlen\u001b[39m(df_raw)] \u001b[38;5;241m=\u001b[39m [res[\u001b[38;5;124m'\u001b[39m\u001b[38;5;124mdistance\u001b[39m\u001b[38;5;124m'\u001b[39m], res[\u001b[38;5;124m'\u001b[39m\u001b[38;5;124mconcurrence\u001b[39m\u001b[38;5;124m'\u001b[39m], res[\u001b[38;5;124m'\u001b[39m\u001b[38;5;124mfidelity\u001b[39m\u001b[38;5;124m'\u001b[39m], res[\u001b[38;5;124m'\u001b[39m\u001b[38;5;124mtarget\u001b[39m\u001b[38;5;124m'\u001b[39m], res[\u001b[38;5;124m'\u001b[39m\u001b[38;5;124mconcurrence_org\u001b[39m\u001b[38;5;124m'\u001b[39m]]\n\u001b[0;32m     11\u001b[0m \u001b[38;5;28;01mif\u001b[39;00m i\u001b[38;5;241m%\u001b[39m\u001b[38;5;241m10\u001b[39m \u001b[38;5;241m==\u001b[39m \u001b[38;5;241m9\u001b[39m:\n",
      "Cell \u001b[1;32mIn[3], line 44\u001b[0m, in \u001b[0;36mphi_proj\u001b[1;34m(matrixA, target)\u001b[0m\n\u001b[0;32m     42\u001b[0m         \u001b[38;5;28;01mreturn\u001b[39;00m Frobenius_dist(matrixA, projected)\n\u001b[0;32m     43\u001b[0m bounds \u001b[38;5;241m=\u001b[39m [(\u001b[38;5;241m0\u001b[39m,\u001b[38;5;241m2\u001b[39m\u001b[38;5;241m*\u001b[39mpi), (\u001b[38;5;241m0\u001b[39m,\u001b[38;5;241m2\u001b[39m\u001b[38;5;241m*\u001b[39mpi), (\u001b[38;5;241m0\u001b[39m,\u001b[38;5;241m2\u001b[39m\u001b[38;5;241m*\u001b[39mpi), (\u001b[38;5;241m0\u001b[39m,\u001b[38;5;241m2\u001b[39m\u001b[38;5;241m*\u001b[39mpi), (\u001b[38;5;241m0\u001b[39m,\u001b[38;5;241m2\u001b[39m\u001b[38;5;241m*\u001b[39mpi), (\u001b[38;5;241m0\u001b[39m,\u001b[38;5;241m2\u001b[39m\u001b[38;5;241m*\u001b[39mpi)]\n\u001b[1;32m---> 44\u001b[0m res \u001b[38;5;241m=\u001b[39m differential_evolution(f, args\u001b[38;5;241m=\u001b[39m(matrixA,), bounds\u001b[38;5;241m=\u001b[39mbounds)\n\u001b[0;32m     46\u001b[0m \u001b[38;5;28;01mif\u001b[39;00m target\u001b[38;5;241m==\u001b[39m\u001b[38;5;124m'\u001b[39m\u001b[38;5;124mdistance\u001b[39m\u001b[38;5;124m'\u001b[39m:\n\u001b[0;32m     47\u001b[0m     res[\u001b[38;5;124m'\u001b[39m\u001b[38;5;124mfun\u001b[39m\u001b[38;5;124m'\u001b[39m] \u001b[38;5;241m=\u001b[39m \u001b[38;5;241m-\u001b[39mres[\u001b[38;5;124m'\u001b[39m\u001b[38;5;124mfun\u001b[39m\u001b[38;5;124m'\u001b[39m]\n",
      "File \u001b[1;32mc:\\Users\\Jan\\anaconda3\\Lib\\site-packages\\scipy\\optimize\\_differentialevolution.py:402\u001b[0m, in \u001b[0;36mdifferential_evolution\u001b[1;34m(func, bounds, args, strategy, maxiter, popsize, tol, mutation, recombination, seed, callback, disp, polish, init, atol, updating, workers, constraints, x0, integrality, vectorized)\u001b[0m\n\u001b[0;32m    385\u001b[0m \u001b[38;5;66;03m# using a context manager means that any created Pool objects are\u001b[39;00m\n\u001b[0;32m    386\u001b[0m \u001b[38;5;66;03m# cleared up.\u001b[39;00m\n\u001b[0;32m    387\u001b[0m \u001b[38;5;28;01mwith\u001b[39;00m DifferentialEvolutionSolver(func, bounds, args\u001b[38;5;241m=\u001b[39margs,\n\u001b[0;32m    388\u001b[0m                                  strategy\u001b[38;5;241m=\u001b[39mstrategy,\n\u001b[0;32m    389\u001b[0m                                  maxiter\u001b[38;5;241m=\u001b[39mmaxiter,\n\u001b[1;32m   (...)\u001b[0m\n\u001b[0;32m    400\u001b[0m                                  integrality\u001b[38;5;241m=\u001b[39mintegrality,\n\u001b[0;32m    401\u001b[0m                                  vectorized\u001b[38;5;241m=\u001b[39mvectorized) \u001b[38;5;28;01mas\u001b[39;00m solver:\n\u001b[1;32m--> 402\u001b[0m     ret \u001b[38;5;241m=\u001b[39m solver\u001b[38;5;241m.\u001b[39msolve()\n\u001b[0;32m    404\u001b[0m \u001b[38;5;28;01mreturn\u001b[39;00m ret\n",
      "File \u001b[1;32mc:\\Users\\Jan\\anaconda3\\Lib\\site-packages\\scipy\\optimize\\_differentialevolution.py:1022\u001b[0m, in \u001b[0;36mDifferentialEvolutionSolver.solve\u001b[1;34m(self)\u001b[0m\n\u001b[0;32m   1019\u001b[0m \u001b[38;5;28;01mfor\u001b[39;00m nit \u001b[38;5;129;01min\u001b[39;00m \u001b[38;5;28mrange\u001b[39m(\u001b[38;5;241m1\u001b[39m, \u001b[38;5;28mself\u001b[39m\u001b[38;5;241m.\u001b[39mmaxiter \u001b[38;5;241m+\u001b[39m \u001b[38;5;241m1\u001b[39m):\n\u001b[0;32m   1020\u001b[0m     \u001b[38;5;66;03m# evolve the population by a generation\u001b[39;00m\n\u001b[0;32m   1021\u001b[0m     \u001b[38;5;28;01mtry\u001b[39;00m:\n\u001b[1;32m-> 1022\u001b[0m         \u001b[38;5;28mnext\u001b[39m(\u001b[38;5;28mself\u001b[39m)\n\u001b[0;32m   1023\u001b[0m     \u001b[38;5;28;01mexcept\u001b[39;00m \u001b[38;5;167;01mStopIteration\u001b[39;00m:\n\u001b[0;32m   1024\u001b[0m         warning_flag \u001b[38;5;241m=\u001b[39m \u001b[38;5;28;01mTrue\u001b[39;00m\n",
      "File \u001b[1;32mc:\\Users\\Jan\\anaconda3\\Lib\\site-packages\\scipy\\optimize\\_differentialevolution.py:1409\u001b[0m, in \u001b[0;36mDifferentialEvolutionSolver.__next__\u001b[1;34m(self)\u001b[0m\n\u001b[0;32m   1407\u001b[0m     feasible \u001b[38;5;241m=\u001b[39m \u001b[38;5;28;01mTrue\u001b[39;00m\n\u001b[0;32m   1408\u001b[0m     cv \u001b[38;5;241m=\u001b[39m np\u001b[38;5;241m.\u001b[39matleast_2d([\u001b[38;5;241m0.\u001b[39m])\n\u001b[1;32m-> 1409\u001b[0m     energy \u001b[38;5;241m=\u001b[39m \u001b[38;5;28mself\u001b[39m\u001b[38;5;241m.\u001b[39mfunc(parameters)\n\u001b[0;32m   1410\u001b[0m     \u001b[38;5;28mself\u001b[39m\u001b[38;5;241m.\u001b[39m_nfev \u001b[38;5;241m+\u001b[39m\u001b[38;5;241m=\u001b[39m \u001b[38;5;241m1\u001b[39m\n\u001b[0;32m   1412\u001b[0m \u001b[38;5;66;03m# compare trial and population member\u001b[39;00m\n",
      "File \u001b[1;32mc:\\Users\\Jan\\anaconda3\\Lib\\site-packages\\scipy\\_lib\\_util.py:360\u001b[0m, in \u001b[0;36m_FunctionWrapper.__call__\u001b[1;34m(self, x)\u001b[0m\n\u001b[0;32m    359\u001b[0m \u001b[38;5;28;01mdef\u001b[39;00m \u001b[38;5;21m__call__\u001b[39m(\u001b[38;5;28mself\u001b[39m, x):\n\u001b[1;32m--> 360\u001b[0m     \u001b[38;5;28;01mreturn\u001b[39;00m \u001b[38;5;28mself\u001b[39m\u001b[38;5;241m.\u001b[39mf(x, \u001b[38;5;241m*\u001b[39m\u001b[38;5;28mself\u001b[39m\u001b[38;5;241m.\u001b[39margs)\n",
      "Cell \u001b[1;32mIn[3], line 40\u001b[0m, in \u001b[0;36mphi_proj.<locals>.f\u001b[1;34m(params, matrixA)\u001b[0m\n\u001b[0;32m     38\u001b[0m     \u001b[38;5;28;01mreturn\u001b[39;00m \u001b[38;5;241m-\u001b[39m\u001b[38;5;241m1\u001b[39m\u001b[38;5;241m*\u001b[39mmatrix_fidelity(density_matrix(projected), matrixA)\n\u001b[0;32m     39\u001b[0m \u001b[38;5;28;01mif\u001b[39;00m target\u001b[38;5;241m==\u001b[39m\u001b[38;5;124m'\u001b[39m\u001b[38;5;124mconcurrence\u001b[39m\u001b[38;5;124m'\u001b[39m:\n\u001b[1;32m---> 40\u001b[0m     \u001b[38;5;28;01mreturn\u001b[39;00m \u001b[38;5;241m-\u001b[39m\u001b[38;5;241m1\u001b[39m\u001b[38;5;241m*\u001b[39mconcurrence(projected)\n\u001b[0;32m     41\u001b[0m \u001b[38;5;28;01mif\u001b[39;00m target\u001b[38;5;241m==\u001b[39m\u001b[38;5;124m'\u001b[39m\u001b[38;5;124mdistance\u001b[39m\u001b[38;5;124m'\u001b[39m:\n\u001b[0;32m     42\u001b[0m     \u001b[38;5;28;01mreturn\u001b[39;00m Frobenius_dist(matrixA, projected)\n",
      "File \u001b[1;32mc:\\Users\\Jan\\Desktop\\Uni_Wrrr\\Kwantowa_informacja\\Magisterka\\WernerTomography2\\myPackage\\my_module.py:372\u001b[0m, in \u001b[0;36mconcurrence\u001b[1;34m(dm)\u001b[0m\n\u001b[0;32m    370\u001b[0m \u001b[38;5;28;01mdef\u001b[39;00m \u001b[38;5;21mconcurrence\u001b[39m(dm):\n\u001b[0;32m    371\u001b[0m     rho \u001b[38;5;241m=\u001b[39m dm\u001b[38;5;241m.\u001b[39mmatrix \u001b[38;5;28;01mif\u001b[39;00m \u001b[38;5;28mtype\u001b[39m(dm)\u001b[38;5;241m==\u001b[39mdensity_matrix \u001b[38;5;28;01melse\u001b[39;00m np\u001b[38;5;241m.\u001b[39marray(dm)  \u001b[38;5;66;03m#making sure rho is of np.array type\u001b[39;00m\n\u001b[1;32m--> 372\u001b[0m     rhod \u001b[38;5;241m=\u001b[39m tens_prod2d(Pauli[\u001b[38;5;241m2\u001b[39m], Pauli[\u001b[38;5;241m2\u001b[39m])\u001b[38;5;129m@np\u001b[39m\u001b[38;5;241m.\u001b[39mconjugate(rho)\u001b[38;5;129m@tens_prod2d\u001b[39m(Pauli[\u001b[38;5;241m2\u001b[39m], Pauli[\u001b[38;5;241m2\u001b[39m])\n\u001b[0;32m    373\u001b[0m     lambs \u001b[38;5;241m=\u001b[39m np\u001b[38;5;241m.\u001b[39mlinalg\u001b[38;5;241m.\u001b[39meigvals(rho\u001b[38;5;129m@rhod\u001b[39m)\n\u001b[0;32m    374\u001b[0m     lambs \u001b[38;5;241m=\u001b[39m np\u001b[38;5;241m.\u001b[39msqrt(lambs)\n",
      "File \u001b[1;32mc:\\Users\\Jan\\Desktop\\Uni_Wrrr\\Kwantowa_informacja\\Magisterka\\WernerTomography2\\myPackage\\my_module.py:44\u001b[0m, in \u001b[0;36mtens_prod2d\u001b[1;34m(u1, u2)\u001b[0m\n\u001b[0;32m     42\u001b[0m \u001b[38;5;28;01mdef\u001b[39;00m \u001b[38;5;21mtens_prod2d\u001b[39m(u1,u2):\n\u001b[1;32m---> 44\u001b[0m     U\u001b[38;5;241m=\u001b[39mnp\u001b[38;5;241m.\u001b[39mtensordot(u1,u2,\u001b[38;5;241m0\u001b[39m)\n\u001b[0;32m     45\u001b[0m     ua\u001b[38;5;241m=\u001b[39mnp\u001b[38;5;241m.\u001b[39mconcatenate((U[\u001b[38;5;241m0\u001b[39m][\u001b[38;5;241m0\u001b[39m],U[\u001b[38;5;241m0\u001b[39m][\u001b[38;5;241m1\u001b[39m]),\u001b[38;5;241m1\u001b[39m)\n\u001b[0;32m     46\u001b[0m     ub\u001b[38;5;241m=\u001b[39mnp\u001b[38;5;241m.\u001b[39mconcatenate((U[\u001b[38;5;241m1\u001b[39m][\u001b[38;5;241m0\u001b[39m],U[\u001b[38;5;241m1\u001b[39m][\u001b[38;5;241m1\u001b[39m]),\u001b[38;5;241m1\u001b[39m)\n",
      "File \u001b[1;32m<__array_function__ internals>:200\u001b[0m, in \u001b[0;36mtensordot\u001b[1;34m(*args, **kwargs)\u001b[0m\n",
      "File \u001b[1;32mc:\\Users\\Jan\\anaconda3\\Lib\\site-packages\\numpy\\core\\numeric.py:1139\u001b[0m, in \u001b[0;36mtensordot\u001b[1;34m(a, b, axes)\u001b[0m\n\u001b[0;32m   1137\u001b[0m at \u001b[38;5;241m=\u001b[39m a\u001b[38;5;241m.\u001b[39mtranspose(newaxes_a)\u001b[38;5;241m.\u001b[39mreshape(newshape_a)\n\u001b[0;32m   1138\u001b[0m bt \u001b[38;5;241m=\u001b[39m b\u001b[38;5;241m.\u001b[39mtranspose(newaxes_b)\u001b[38;5;241m.\u001b[39mreshape(newshape_b)\n\u001b[1;32m-> 1139\u001b[0m res \u001b[38;5;241m=\u001b[39m dot(at, bt)\n\u001b[0;32m   1140\u001b[0m \u001b[38;5;28;01mreturn\u001b[39;00m res\u001b[38;5;241m.\u001b[39mreshape(olda \u001b[38;5;241m+\u001b[39m oldb)\n",
      "File \u001b[1;32m<__array_function__ internals>:200\u001b[0m, in \u001b[0;36mdot\u001b[1;34m(*args, **kwargs)\u001b[0m\n",
      "\u001b[1;31mKeyboardInterrupt\u001b[0m: "
     ]
    }
   ],
   "source": [
    "import warnings\n",
    "with warnings.catch_warnings():\n",
    "    warnings.filterwarnings('ignore')\n",
    "    for i in range(10000):\n",
    "        state = rand_PSDM(4)\n",
    "        res = phi_proj(state, target='distance')\n",
    "        df_raw.loc[len(df_raw)] = [res['distance'], res['concurrence'], res['fidelity'], res['target'], res['concurrence_org']]\n",
    "        res = phi_proj(state, target='fidelity')\n",
    "        df_raw.loc[len(df_raw)] = [res['distance'], res['concurrence'], res['fidelity'], res['target'], res['concurrence_org']]\n",
    "        res = phi_proj(state, target='concurrence')\n",
    "        df_raw.loc[len(df_raw)] = [res['distance'], res['concurrence'], res['fidelity'], res['target'], res['concurrence_org']]\n",
    "        if i%10 == 99:\n",
    "            print(f'{i+1} out of 10000 done')    "
   ]
  },
  {
   "cell_type": "code",
   "execution_count": 8,
   "metadata": {},
   "outputs": [],
   "source": [
    "df_raw.to_csv('projection.csv', index=False)\n",
    "#non_opt_df.to_csv('non_opt_proj.csv', index=False)"
   ]
  },
  {
   "cell_type": "code",
   "execution_count": 23,
   "metadata": {},
   "outputs": [],
   "source": [
    "df_raw = pd.read_csv('projection.csv')\n",
    "non_opt_df = pd.read_csv('non_opt_proj.csv')\n",
    "rot_df = pd.read_csv('rot_test.csv')\n",
    "df = df_raw.copy(deep=True)"
   ]
  },
  {
   "cell_type": "markdown",
   "metadata": {},
   "source": [
    "### Projection by integration"
   ]
  },
  {
   "cell_type": "code",
   "execution_count": 27,
   "metadata": {},
   "outputs": [],
   "source": [
    "def matrix_print(func):\n",
    "    def wrapper(*args, **kwargs):\n",
    "        out=func(*args, **kwargs)\n",
    "        out = np.array(out) if type(out)=='numpy.matrix' else out\n",
    "        s = [[str(f'{e.real:.3f} + {e.imag:.3f}i ') for e in row] for row in out]\n",
    "        lens = [max(map(len, col)) for col in zip(*s)]\n",
    "        fmt = '\\t'.join('{{:{}}}'.format(x) for x in lens)\n",
    "        table = [fmt.format(*row) for row in s]\n",
    "        print('\\n'.join(table))\n",
    "    return wrapper\n",
    "\n",
    "def matrix_print_m(mat):\n",
    "    mat = np.array(mat) if type(mat)=='numpy.matrix' else mat\n",
    "    s = [[str(f'{e.real:.3f} + {e.imag:.3f}i ') for e in row] for row in mat]\n",
    "    lens = [max(map(len, col)) for col in zip(*s)]\n",
    "    fmt = '\\t'.join('{{:{}}}'.format(x) for x in lens)\n",
    "    table = [fmt.format(*row) for row in s]\n",
    "    print('\\n'.join(table))\n",
    "\n",
    "def projection(matrix):\n",
    "        return np.real(np.matrix([[matrix[0,0],0,0,matrix[0,3]/2+matrix[3,0]/2],\\\n",
    "                                    [0,matrix[2,2]/2+matrix[1,1]/2,0,0],\\\n",
    "                                    [0,0,matrix[2,2]/2+matrix[1,1]/2,0],\\\n",
    "                                    [matrix[0,3]/2+matrix[3,0]/2,0,0,matrix[3,3]]]))"
   ]
  },
  {
   "cell_type": "code",
   "execution_count": 30,
   "metadata": {},
   "outputs": [],
   "source": [
    "@matrix_print\n",
    "def int_projection(dm, N=10000):\n",
    "\n",
    "    qubit_switch = np.matrix([[1,0,0,0],[0,0,1,0],[0,1,0,0],[0,0,0,1]])\n",
    "        \n",
    "    def phase_rotation(phi=np.random.random()*2*pi):\n",
    "        from scipy.linalg import expm\n",
    "        sig_z = np.array([[1,0],[0,-1]], dtype='complex')\n",
    "        U = tens_prod2d(expm((1j * phi * sig_z)), expm((-1j * phi * sig_z)))\n",
    "        return U\n",
    "    \n",
    "    def phase_rotation_dag(phi=np.random.random()*2*pi):\n",
    "        return np.transpose(np.conjugate(phase_rotation(phi)))\n",
    "    \n",
    "    proj = np.zeros(shape=(4,4), dtype='complex')\n",
    "    dm = dm.matrix if type(dm)=='density_matrix' else dm\n",
    "    for i in range(N):\n",
    "        phi=np.random.random()*2*pi\n",
    "        rotated = phase_rotation(phi)@dm@phase_rotation_dag(phi)\n",
    "        switched = qubit_switch@rotated@qubit_switch\n",
    "        proj += (np.transpose(rotated + switched) + rotated + switched)/4\n",
    "    \n",
    "    proj = proj/N\n",
    "    return proj\n",
    "        \n",
    "    "
   ]
  },
  {
   "cell_type": "code",
   "execution_count": 33,
   "metadata": {},
   "outputs": [],
   "source": [
    "def int_projection_conv(dm, N=10000):\n",
    "\n",
    "    qubit_switch = np.matrix([[1,0,0,0],[0,0,1,0],[0,1,0,0],[0,0,0,1]])\n",
    "        \n",
    "    def phase_rotation(phi=np.random.random()*2*pi):\n",
    "        from scipy.linalg import expm\n",
    "        sig_z = np.array([[1,0],[0,-1]], dtype='complex')\n",
    "        U = tens_prod2d(expm((1j * phi * sig_z)), expm((-1j * phi * sig_z)))\n",
    "        return U\n",
    "    \n",
    "    def phase_rotation_dag(phi=np.random.random()*2*pi):\n",
    "        return np.transpose(np.conjugate(phase_rotation(phi)))\n",
    "    \n",
    "    def projection(matrix):\n",
    "        return np.real(np.matrix([[matrix[0,0],0,0,matrix[0,3]/2+matrix[3,0]/2],\\\n",
    "                                    [0,matrix[2,2]/2+matrix[1,1]/2,0,0],\\\n",
    "                                    [0,0,matrix[2,2]/2+matrix[1,1]/2,0],\\\n",
    "                                    [matrix[0,3]/2+matrix[3,0]/2,0,0,matrix[3,3]]]))        \n",
    "    \n",
    "    proj = np.zeros(shape=(4,4), dtype='complex')\n",
    "    errs = np.zeros(shape = N)\n",
    "    dm = dm.matrix if type(dm)=='density_matrix' else dm\n",
    "    for i in range(N):\n",
    "        phi=np.random.random()*2*pi\n",
    "        rotated = phase_rotation(phi)@dm@phase_rotation_dag(phi)\n",
    "        switched = qubit_switch@rotated@qubit_switch\n",
    "        proj += (np.transpose(rotated + switched) + rotated + switched)/4\n",
    "        errs[i] = Frobenius_dist(projection(dm), proj/(i+1))\n",
    "    \n",
    "    proj = proj/N\n",
    "    return errs\n",
    "        "
   ]
  },
  {
   "cell_type": "code",
   "execution_count": 21,
   "metadata": {},
   "outputs": [
    {
     "data": {
      "text/plain": [
       "array([[ 0.19092+0.j     , -0.05753-0.17173j, -0.13562-0.02747j,\n",
       "        -0.06064+0.04164j],\n",
       "       [-0.05753+0.17173j,  0.36085-0.j     ,  0.08276-0.09518j,\n",
       "         0.00302+0.01872j],\n",
       "       [-0.13562+0.02747j,  0.08276+0.09518j,  0.1587 -0.j     ,\n",
       "        -0.03304-0.08498j],\n",
       "       [-0.06064-0.04164j,  0.00302-0.01872j, -0.03304+0.08498j,\n",
       "         0.28953-0.j     ]])"
      ]
     },
     "execution_count": 21,
     "metadata": {},
     "output_type": "execute_result"
    }
   ],
   "source": [
    "rand_state=rand_PSDM(4)\n",
    "rand_state"
   ]
  },
  {
   "cell_type": "code",
   "execution_count": 49,
   "metadata": {},
   "outputs": [],
   "source": [
    "hist=[]\n",
    "for i in range(5):\n",
    "    hist.append(int_projection_conv(rand_state, N=1000000))"
   ]
  },
  {
   "cell_type": "code",
   "execution_count": 54,
   "metadata": {},
   "outputs": [
    {
     "data": {
      "image/png": "[encoded data removed]",
      "text/plain": [
       "<Figure size 640x480 with 1 Axes>"
      ]
     },
     "metadata": {},
     "output_type": "display_data"
    }
   ],
   "source": [
    "plt.yscale('log')\n",
    "plt.xscale('log')\n",
    "plt.grid(True)\n",
    "plt.xlabel('Number of iterations')\n",
    "plt.ylabel('Frobenius distance')\n",
    "plt.title('Convergence of integral projection')\n",
    "for i in range(3):\n",
    "    plt.plot(hist[-i-1])\n",
    "\n",
    "plt.show()"
   ]
  },
  {
   "cell_type": "markdown",
   "metadata": {},
   "source": [
    "### Data analysis"
   ]
  },
  {
   "cell_type": "code",
   "execution_count": 40,
   "metadata": {},
   "outputs": [
    {
     "data": {
      "image/png": "[encoded data removed]",
      "text/plain": [
       "<Figure size 640x480 with 1 Axes>"
      ]
     },
     "metadata": {},
     "output_type": "display_data"
    }
   ],
   "source": [
    "df['concurrence_diff'] = df.concurrence_org - df.concurrence\n",
    "df.loc[df['concurrence_org']==0, 'concurrence_diff']=np.nan\n",
    "df['1 - fidelity'] = 1 - df['fidelity']\n",
    "import seaborn as sns\n",
    "df_melt=df.melt(['target'], value_vars = ['1 - fidelity', 'distance', 'concurrence_diff'], var_name='method')\n",
    "df_melt['target'].astype('category')\n",
    "plt.ylim(-0.1,1)\n",
    "sns.barplot(data=df_melt,  orient='v', x='target', y='value', hue='method', errorbar='sd', estimator='median')\n",
    "plt.show()"
   ]
  },
  {
   "cell_type": "code",
   "execution_count": 25,
   "metadata": {},
   "outputs": [
    {
     "data": {
      "image/png": "[encoded data removed]",
      "text/plain": [
       "<Figure size 640x480 with 1 Axes>"
      ]
     },
     "metadata": {},
     "output_type": "display_data"
    }
   ],
   "source": [
    "df_melt.loc[np.logical_and(df_melt.target=='concurrence', df_melt.method=='concurrence_diff')].hist(bins = np.arange(0, 0.4, 0.025))\n",
    "plt.title('Concurrence difference while optimising for maximum concurrence')\n",
    "plt.xlabel('Concurrence difference')\n",
    "plt.ylabel('Counts')\n",
    "plt.grid(False)"
   ]
  },
  {
   "cell_type": "code",
   "execution_count": 41,
   "metadata": {},
   "outputs": [
    {
     "data": {
      "image/png": "[encoded data removed]",
      "text/plain": [
       "<Figure size 640x480 with 1 Axes>"
      ]
     },
     "metadata": {},
     "output_type": "display_data"
    }
   ],
   "source": [
    "df_melt.loc[np.logical_and(df_melt.target=='distance', df_melt.method=='distance')].hist(bins = np.arange(0, 0.4, 0.025))\n",
    "plt.title('Distance while optimising for distance')\n",
    "plt.xlabel('Distance')\n",
    "plt.ylabel('Counts')\n",
    "plt.grid(False)"
   ]
  },
  {
   "cell_type": "code",
   "execution_count": 44,
   "metadata": {},
   "outputs": [
    {
     "data": {
      "text/plain": [
       "count    23637.000000\n",
       "mean         0.461682\n",
       "std          0.121085\n",
       "min          0.155860\n",
       "25%          0.380356\n",
       "50%          0.438455\n",
       "75%          0.513772\n",
       "max          1.085513\n",
       "Name: distance, dtype: float64"
      ]
     },
     "execution_count": 44,
     "metadata": {},
     "output_type": "execute_result"
    }
   ],
   "source": [
    "df.distance.describe()"
   ]
  },
  {
   "cell_type": "code",
   "execution_count": 26,
   "metadata": {},
   "outputs": [
    {
     "data": {
      "text/html": [
       "<div>\n",
       "<style scoped>\n",
       "    .dataframe tbody tr th:only-of-type {\n",
       "        vertical-align: middle;\n",
       "    }\n",
       "\n",
       "    .dataframe tbody tr th {\n",
       "        vertical-align: top;\n",
       "    }\n",
       "\n",
       "    .dataframe thead th {\n",
       "        text-align: right;\n",
       "    }\n",
       "</style>\n",
       "<table border=\"1\" class=\"dataframe\">\n",
       "  <thead>\n",
       "    <tr style=\"text-align: right;\">\n",
       "      <th></th>\n",
       "      <th>value</th>\n",
       "    </tr>\n",
       "  </thead>\n",
       "  <tbody>\n",
       "    <tr>\n",
       "      <th>count</th>\n",
       "      <td>5957.000000</td>\n",
       "    </tr>\n",
       "    <tr>\n",
       "      <th>mean</th>\n",
       "      <td>0.062877</td>\n",
       "    </tr>\n",
       "    <tr>\n",
       "      <th>std</th>\n",
       "      <td>0.047206</td>\n",
       "    </tr>\n",
       "    <tr>\n",
       "      <th>min</th>\n",
       "      <td>0.000064</td>\n",
       "    </tr>\n",
       "    <tr>\n",
       "      <th>25%</th>\n",
       "      <td>0.026678</td>\n",
       "    </tr>\n",
       "    <tr>\n",
       "      <th>50%</th>\n",
       "      <td>0.052280</td>\n",
       "    </tr>\n",
       "    <tr>\n",
       "      <th>75%</th>\n",
       "      <td>0.088853</td>\n",
       "    </tr>\n",
       "    <tr>\n",
       "      <th>max</th>\n",
       "      <td>0.335414</td>\n",
       "    </tr>\n",
       "  </tbody>\n",
       "</table>\n",
       "</div>"
      ],
      "text/plain": [
       "             value\n",
       "count  5957.000000\n",
       "mean      0.062877\n",
       "std       0.047206\n",
       "min       0.000064\n",
       "25%       0.026678\n",
       "50%       0.052280\n",
       "75%       0.088853\n",
       "max       0.335414"
      ]
     },
     "execution_count": 26,
     "metadata": {},
     "output_type": "execute_result"
    }
   ],
   "source": [
    "df_melt.loc[np.logical_and(df_melt.target=='concurrence', df_melt.method=='concurrence_diff')].describe()"
   ]
  },
  {
   "cell_type": "code",
   "execution_count": 27,
   "metadata": {},
   "outputs": [
    {
     "data": {
      "text/html": [
       "<div>\n",
       "<style scoped>\n",
       "    .dataframe tbody tr th:only-of-type {\n",
       "        vertical-align: middle;\n",
       "    }\n",
       "\n",
       "    .dataframe tbody tr th {\n",
       "        vertical-align: top;\n",
       "    }\n",
       "\n",
       "    .dataframe thead th {\n",
       "        text-align: right;\n",
       "    }\n",
       "</style>\n",
       "<table border=\"1\" class=\"dataframe\">\n",
       "  <thead>\n",
       "    <tr style=\"text-align: right;\">\n",
       "      <th></th>\n",
       "      <th>target</th>\n",
       "      <th>method</th>\n",
       "      <th>value</th>\n",
       "    </tr>\n",
       "  </thead>\n",
       "  <tbody>\n",
       "    <tr>\n",
       "      <th>47274</th>\n",
       "      <td>distance</td>\n",
       "      <td>concurrence_diff</td>\n",
       "      <td>0.038715</td>\n",
       "    </tr>\n",
       "    <tr>\n",
       "      <th>47275</th>\n",
       "      <td>fidelity</td>\n",
       "      <td>concurrence_diff</td>\n",
       "      <td>0.038715</td>\n",
       "    </tr>\n",
       "    <tr>\n",
       "      <th>47277</th>\n",
       "      <td>distance</td>\n",
       "      <td>concurrence_diff</td>\n",
       "      <td>0.060500</td>\n",
       "    </tr>\n",
       "    <tr>\n",
       "      <th>47278</th>\n",
       "      <td>fidelity</td>\n",
       "      <td>concurrence_diff</td>\n",
       "      <td>0.060500</td>\n",
       "    </tr>\n",
       "    <tr>\n",
       "      <th>47280</th>\n",
       "      <td>distance</td>\n",
       "      <td>concurrence_diff</td>\n",
       "      <td>0.196274</td>\n",
       "    </tr>\n",
       "    <tr>\n",
       "      <th>...</th>\n",
       "      <td>...</td>\n",
       "      <td>...</td>\n",
       "      <td>...</td>\n",
       "    </tr>\n",
       "    <tr>\n",
       "      <th>70904</th>\n",
       "      <td>fidelity</td>\n",
       "      <td>concurrence_diff</td>\n",
       "      <td>0.076070</td>\n",
       "    </tr>\n",
       "    <tr>\n",
       "      <th>70906</th>\n",
       "      <td>distance</td>\n",
       "      <td>concurrence_diff</td>\n",
       "      <td>0.022180</td>\n",
       "    </tr>\n",
       "    <tr>\n",
       "      <th>70907</th>\n",
       "      <td>fidelity</td>\n",
       "      <td>concurrence_diff</td>\n",
       "      <td>0.022180</td>\n",
       "    </tr>\n",
       "    <tr>\n",
       "      <th>70909</th>\n",
       "      <td>distance</td>\n",
       "      <td>concurrence_diff</td>\n",
       "      <td>0.199354</td>\n",
       "    </tr>\n",
       "    <tr>\n",
       "      <th>70910</th>\n",
       "      <td>fidelity</td>\n",
       "      <td>concurrence_diff</td>\n",
       "      <td>0.135886</td>\n",
       "    </tr>\n",
       "  </tbody>\n",
       "</table>\n",
       "<p>15759 rows × 3 columns</p>\n",
       "</div>"
      ],
      "text/plain": [
       "         target            method     value\n",
       "47274  distance  concurrence_diff  0.038715\n",
       "47275  fidelity  concurrence_diff  0.038715\n",
       "47277  distance  concurrence_diff  0.060500\n",
       "47278  fidelity  concurrence_diff  0.060500\n",
       "47280  distance  concurrence_diff  0.196274\n",
       "...         ...               ...       ...\n",
       "70904  fidelity  concurrence_diff  0.076070\n",
       "70906  distance  concurrence_diff  0.022180\n",
       "70907  fidelity  concurrence_diff  0.022180\n",
       "70909  distance  concurrence_diff  0.199354\n",
       "70910  fidelity  concurrence_diff  0.135886\n",
       "\n",
       "[15759 rows x 3 columns]"
      ]
     },
     "execution_count": 27,
     "metadata": {},
     "output_type": "execute_result"
    }
   ],
   "source": [
    "df_melt.loc[np.logical_and(df_melt.method=='concurrence_diff', df_melt.target.isin(['distance','fidelity']))]"
   ]
  },
  {
   "cell_type": "code",
   "execution_count": 37,
   "metadata": {},
   "outputs": [
    {
     "data": {
      "text/plain": [
       "<Axes: >"
      ]
     },
     "execution_count": 37,
     "metadata": {},
     "output_type": "execute_result"
    },
    {
     "data": {
      "image/png": "[encoded data removed]",
      "text/plain": [
       "<Figure size 640x480 with 1 Axes>"
      ]
     },
     "metadata": {},
     "output_type": "display_data"
    }
   ],
   "source": [
    "df_dist = df.loc[df.target == 'distance'].reset_index(drop=True)\n",
    "df_fid = df.loc[df.target == 'fidelity'].reset_index(drop=True)\n",
    "df_conc = df.loc[df.target == 'concurrence'].reset_index(drop=True)\n",
    "\n",
    "(df_dist.concurrence_diff - df_conc.concurrence_diff)[:100].plot()"
   ]
  },
  {
   "cell_type": "code",
   "execution_count": null,
   "metadata": {},
   "outputs": [],
   "source": []
  },
  {
   "cell_type": "code",
   "execution_count": 55,
   "metadata": {},
   "outputs": [],
   "source": [
    "non_opt_df['conc_diff'] = non_opt_df.concurrence_org - non_opt_df.concurrence\n",
    "non_opt_df.conc_diff.loc[non_opt_df.concurrence_org == 0 ] = np.nan"
   ]
  },
  {
   "cell_type": "code",
   "execution_count": 63,
   "metadata": {},
   "outputs": [
    {
     "data": {
      "text/plain": [
       "<Axes: xlabel='Distance', ylabel='Counts'>"
      ]
     },
     "execution_count": 63,
     "metadata": {},
     "output_type": "execute_result"
    },
    {
     "data": {
      "image/png": "[encoded data removed]",
      "text/plain": [
       "<Figure size 640x480 with 1 Axes>"
      ]
     },
     "metadata": {},
     "output_type": "display_data"
    }
   ],
   "source": [
    "\n",
    "plt.xlabel('Distance')\n",
    "plt.ylabel('Counts')\n",
    "plt.grid(False)\n",
    "non_opt_df.distance.hist()"
   ]
  },
  {
   "cell_type": "code",
   "execution_count": 59,
   "metadata": {},
   "outputs": [
    {
     "data": {
      "text/plain": [
       "count    7602.000000\n",
       "mean        0.163414\n",
       "std         0.115842\n",
       "min         0.000032\n",
       "25%         0.071942\n",
       "50%         0.141412\n",
       "75%         0.231722\n",
       "max         0.737025\n",
       "Name: conc_diff, dtype: float64"
      ]
     },
     "execution_count": 59,
     "metadata": {},
     "output_type": "execute_result"
    }
   ],
   "source": [
    "non_opt_df.conc_diff.describe()"
   ]
  },
  {
   "cell_type": "code",
   "execution_count": 21,
   "metadata": {},
   "outputs": [
    {
     "data": {
      "image/png": "[encoded data removed]",
      "text/plain": [
       "<Figure size 640x480 with 1 Axes>"
      ]
     },
     "metadata": {},
     "output_type": "display_data"
    }
   ],
   "source": [
    "density_matrix(res['original']).histogram()"
   ]
  },
  {
   "cell_type": "code",
   "execution_count": 9,
   "metadata": {},
   "outputs": [
    {
     "data": {
      "text/plain": [
       "array([[0.75   , 0.     , 0.     , 0.43301],\n",
       "       [0.     , 0.     , 0.     , 0.     ],\n",
       "       [0.     , 0.     , 0.     , 0.     ],\n",
       "       [0.43301, 0.     , 0.     , 0.25   ]])"
      ]
     },
     "execution_count": 9,
     "metadata": {},
     "output_type": "execute_result"
    }
   ],
   "source": [
    "wer(pi/3, base ='phip')"
   ]
  },
  {
   "cell_type": "markdown",
   "metadata": {},
   "source": [
    "### Data from another experiment"
   ]
  },
  {
   "cell_type": "code",
   "execution_count": 39,
   "metadata": {},
   "outputs": [],
   "source": [
    "#tworzy instancje klasy z pięcioma pandas DataFrame\n",
    "samps = load_samples('all_complex')"
   ]
  },
  {
   "cell_type": "code",
   "execution_count": 3,
   "metadata": {},
   "outputs": [
    {
     "data": {
      "text/html": [
       "<div>\n",
       "<style scoped>\n",
       "    .dataframe tbody tr th:only-of-type {\n",
       "        vertical-align: middle;\n",
       "    }\n",
       "\n",
       "    .dataframe tbody tr th {\n",
       "        vertical-align: top;\n",
       "    }\n",
       "\n",
       "    .dataframe thead th {\n",
       "        text-align: right;\n",
       "    }\n",
       "</style>\n",
       "<table border=\"1\" class=\"dataframe\">\n",
       "  <thead>\n",
       "    <tr style=\"text-align: right;\">\n",
       "      <th></th>\n",
       "      <th>Angle</th>\n",
       "      <th>Visibility</th>\n",
       "    </tr>\n",
       "    <tr>\n",
       "      <th>Index</th>\n",
       "      <th></th>\n",
       "      <th></th>\n",
       "    </tr>\n",
       "  </thead>\n",
       "  <tbody>\n",
       "    <tr>\n",
       "      <th>0</th>\n",
       "      <td>0.285188</td>\n",
       "      <td>0.585148</td>\n",
       "    </tr>\n",
       "    <tr>\n",
       "      <th>1</th>\n",
       "      <td>0.460276</td>\n",
       "      <td>0.441305</td>\n",
       "    </tr>\n",
       "    <tr>\n",
       "      <th>2</th>\n",
       "      <td>0.437844</td>\n",
       "      <td>0.641831</td>\n",
       "    </tr>\n",
       "    <tr>\n",
       "      <th>3</th>\n",
       "      <td>0.107143</td>\n",
       "      <td>0.410110</td>\n",
       "    </tr>\n",
       "    <tr>\n",
       "      <th>4</th>\n",
       "      <td>0.217093</td>\n",
       "      <td>0.500638</td>\n",
       "    </tr>\n",
       "  </tbody>\n",
       "</table>\n",
       "</div>"
      ],
      "text/plain": [
       "          Angle  Visibility\n",
       "Index                      \n",
       "0      0.285188    0.585148\n",
       "1      0.460276    0.441305\n",
       "2      0.437844    0.641831\n",
       "3      0.107143    0.410110\n",
       "4      0.217093    0.500638"
      ]
     },
     "execution_count": 3,
     "metadata": {},
     "output_type": "execute_result"
    }
   ],
   "source": [
    "#DataFrame z kątem oraz widzialnością znalezionego optymalnego stanu\n",
    "samps.OptimalState.head()"
   ]
  },
  {
   "cell_type": "markdown",
   "metadata": {},
   "source": [
    "### Concurrence repair"
   ]
  },
  {
   "cell_type": "code",
   "execution_count": 4,
   "metadata": {},
   "outputs": [
    {
     "data": {
      "text/plain": [
       "0         0.108524\n",
       "1         0.071904\n",
       "2         0.313832\n",
       "3         0.000000\n",
       "4         0.000000\n",
       "            ...   \n",
       "720795    0.281406\n",
       "720796    0.000000\n",
       "720797    0.111709\n",
       "720798    0.193619\n",
       "720799    0.006491\n",
       "Length: 720800, dtype: float64"
      ]
     },
     "execution_count": 4,
     "metadata": {},
     "output_type": "execute_result"
    }
   ],
   "source": [
    "conc_opt = pd.Series(np.zeros_like(samps.OptimalState.Angle))\n",
    "for i in range(len(samps.OptimalState.Angle)):\n",
    "    ang = samps.OptimalState.Angle[i]\n",
    "    vis = samps.OptimalState.Visibility[i]\n",
    "    conc_opt[i] = concurrence(density_matrix(rho2(ang, vis)))\n",
    "samps.Measures.ConcurrenceOpt = conc_opt"
   ]
  },
  {
   "cell_type": "code",
   "execution_count": 30,
   "metadata": {},
   "outputs": [],
   "source": [
    "def row_to_dm(samps, idx):\n",
    "    return density_matrix(np.reshape(samps.Matrix.loc[idx], (4, 4)))\n",
    "conc = pd.Series(np.zeros_like(samps.Matrix['0,0']))\n",
    "for idx in range(len(samps.Matrix)):\n",
    "    conc[idx] = concurrence(row_to_dm(samps, idx))\n",
    "samps.Measures.ConcurrenceOriginal = conc"
   ]
  },
  {
   "cell_type": "code",
   "execution_count": 6,
   "metadata": {},
   "outputs": [],
   "source": [
    "samps.Measures.to_csv('allcomplexMeasures.csv', index='Index')"
   ]
  },
  {
   "cell_type": "markdown",
   "metadata": {},
   "source": [
    "### "
   ]
  },
  {
   "cell_type": "code",
   "execution_count": 9,
   "metadata": {},
   "outputs": [
    {
     "data": {
      "image/png": "[encoded data removed]",
      "text/plain": [
       "<Figure size 640x480 with 1 Axes>"
      ]
     },
     "metadata": {},
     "output_type": "display_data"
    }
   ],
   "source": [
    "# Metoda do wywoływania histogramu - pomarańczowe schodki to stan losowy, a niebieskie to dopasowany.\n",
    "# W argumencie jest index próbki\n",
    "samps.double_plot(0)"
   ]
  },
  {
   "cell_type": "code",
   "execution_count": 10,
   "metadata": {},
   "outputs": [
    {
     "data": {
      "image/png": "[encoded data removed]",
      "text/plain": [
       "<Figure size 640x480 with 1 Axes>"
      ]
     },
     "metadata": {},
     "output_type": "display_data"
    }
   ],
   "source": [
    "# Histogram tylko stanu losowego\n",
    "samps.histogram(0)"
   ]
  },
  {
   "cell_type": "code",
   "execution_count": 11,
   "metadata": {},
   "outputs": [
    {
     "data": {
      "image/png": "[encoded data removed]",
      "text/plain": [
       "<Figure size 640x480 with 1 Axes>"
      ]
     },
     "metadata": {},
     "output_type": "display_data"
    }
   ],
   "source": [
    "#Histogram tylko stanu dopasowanego\n",
    "samps.opt_histogram(0)"
   ]
  },
  {
   "cell_type": "code",
   "execution_count": 13,
   "metadata": {},
   "outputs": [],
   "source": [
    "# Tworzy instancję klasy density_matrix z macierzy stanu losowego\n",
    "dm = samps.density_matrix(0)"
   ]
  },
  {
   "cell_type": "code",
   "execution_count": 15,
   "metadata": {},
   "outputs": [],
   "source": [
    "# Tworzy instancję klasy density_matrix ze stanu Wernera o zadanym kącie th i widzialności vis\n",
    "th=pi/2\n",
    "vis = 1\n",
    "\n",
    "wer = density_matrix(rho2(th,vis))"
   ]
  },
  {
   "cell_type": "code",
   "execution_count": 18,
   "metadata": {},
   "outputs": [
    {
     "name": "stdout",
     "output_type": "stream",
     "text": [
      "0.4250876905292271\n",
      "0.8210858019295816\n",
      "1.2246467991473532e-16\n",
      "0.0\n"
     ]
    }
   ],
   "source": [
    "#różne funkcje korzystające z density_matrix\n",
    "print(matrix_fidelity(dm, wer))\n",
    "print(Frobenius_dist(dm, wer))\n",
    "print(concurrence(wer))\n",
    "print(CHSHviolation_measure(wer))"
   ]
  },
  {
   "cell_type": "code",
   "execution_count": 19,
   "metadata": {},
   "outputs": [
    {
     "data": {
      "image/png": "[encoded data removed]",
      "text/plain": [
       "<Figure size 640x480 with 1 Axes>"
      ]
     },
     "metadata": {},
     "output_type": "display_data"
    }
   ],
   "source": [
    "double_plot(dm, wer)"
   ]
  },
  {
   "cell_type": "code",
   "execution_count": 53,
   "metadata": {},
   "outputs": [],
   "source": [
    "def optimal_trace(dmA):\n",
    "    from scipy.optimize import differential_evolution, dual_annealing, brute, shgo\n",
    "    def f(matrixA, params):\n",
    "        matrixA = matrixA.matrix if type(matrixA) == density_matrix else matrixA\n",
    "        matrixB = rho2(-pi/4,1)\n",
    "        paramsA = params[:3]\n",
    "        paramsB = params[3:]\n",
    "        return -1*np.trace(np.matmul(matrixB, rotate_matrix(matrixA, paramsA, paramsB)))\n",
    "    bounds = [(0,2*pi), (0,2*pi), (0,2*pi), (0,2*pi), (0,2*pi), (0,2*pi)]\n",
    "    res = differential_evolution(f, args=(dmA,), bounds=bounds)\n",
    "    return {'value': -np.real(res['fun']), 'parameters': [res['x'][:3], res['x'][3:]]}\n"
   ]
  },
  {
   "cell_type": "code",
   "execution_count": 48,
   "metadata": {},
   "outputs": [],
   "source": [
    "def wer_projection(state):\n",
    "    import scipy.optimize\n",
    "    \n",
    "    def f(params):\n",
    "        paramsA = params[:3]\n",
    "        paramsB = params[3:]\n",
    "        return -1*np.real(np.trace(np.dot(rotate_matrix(state, paramsA, paramsB), rho2(-pi/4,1))))\n",
    "    res = scipy.optimize.differential_evolution(f, bounds=[(0,2*pi), (0,2*pi), (0,2*pi), (0,2*pi), (0,2*pi), (0,2*pi)])\n",
    "    trace = -1*res['fun']\n",
    "    \n",
    "    nonlconstraint = optimize.NonlinearConstraint(lambda x:(x[1]*np.cos(x[0]-np.pi/4)*np.cos(x[0]-np.pi/4)-x[1]/4+1/4-trace),lb=0,ub=0)\n",
    "    bounds = optimize.Bounds([-pi/4,0], [pi/4, 1])\n",
    "    def concurrencerho(x):\n",
    "        rho = rho2(x[0],x[1])  #making sure rho is of np.array type\n",
    "        rhod = tens_prod2d(Pauli[2], Pauli[2])@np.transpose(np.conjugate(rho))@tens_prod2d(Pauli[2], Pauli[2])\n",
    "        lambs = np.linalg.eigvals(rho@rhod)\n",
    "        lambs = np.sqrt(lambs)\n",
    "        l1 = max(lambs)\n",
    "        C = 2*l1 - np.sum(lambs)\n",
    "        return np.real(-C)\n",
    "    \n",
    "    return optimize.minimize(concurrencerho,x0=[-pi/4, 1], constraints=nonlconstraint, bounds=bounds, method='trust-constr')"
   ]
  },
  {
   "cell_type": "code",
   "execution_count": 12,
   "metadata": {},
   "outputs": [],
   "source": [
    "def optimal_trace(state):\n",
    "    from scipy.optimize import differential_evolution\n",
    "    def f(params):\n",
    "        paramsA = params[:3]\n",
    "        paramsB = params[3:]\n",
    "        return -1*np.real(np.trace(np.dot(rotate_matrix(state, paramsA, paramsB), rho2(-pi/4,1))))\n",
    "    res = differential_evolution(f, bounds=[(0,2*pi), (0,2*pi), (0,2*pi), (0,2*pi), (0,2*pi), (0,2*pi)])\n",
    "    return -res['fun']"
   ]
  },
  {
   "cell_type": "code",
   "execution_count": 13,
   "metadata": {},
   "outputs": [
    {
     "data": {
      "text/plain": [
       "0.9999999999185996"
      ]
     },
     "execution_count": 13,
     "metadata": {},
     "output_type": "execute_result"
    }
   ],
   "source": [
    "optimal_trace(rho2(-pi/4,1))"
   ]
  },
  {
   "cell_type": "code",
   "execution_count": 29,
   "metadata": {},
   "outputs": [],
   "source": [
    "def wer_projection_dist(state):\n",
    "    import scipy.optimize\n",
    "    \n",
    "    def f(params):\n",
    "        paramsA = params[:3]\n",
    "        paramsB = params[3:]\n",
    "        return -1*np.real(np.trace(np.dot(rotate_matrix(state, paramsA, paramsB), rho2(-pi/4,1))))\n",
    "    res = scipy.optimize.differential_evolution(f, bounds=[(0,2*pi), (0,2*pi), (0,2*pi), (0,2*pi), (0,2*pi), (0,2*pi)])\n",
    "    trace = -1*res['fun']\n",
    "    \n",
    "    nonlconstraint = optimize.NonlinearConstraint(lambda x:(x[1]*np.cos(x[0]-np.pi/4)*np.cos(x[0]-np.pi/4)-x[1]/4+1/4-trace),lb=0,ub=0)\n",
    "    bounds = optimize.Bounds([0,0,0,0,0,0], [2*pi,2*pi,2*pi,2*pi,2*pi,2*pi])\n",
    "    def dist(params): \n",
    "        paramsA = params[:3]\n",
    "        paramsB = params[3:]\n",
    "        D=rotate_matrix(state, paramsA, paramsB) - rho2(-pi/4,1)\n",
    "        dist=np.sqrt(np.real(np.trace(np.transpose(np.conjugate(D))@D)))\n",
    "        return dist\n",
    "    \n",
    "    return scipy.optimize.differential_evolution(dist, bounds=[(0,2*pi), (0,2*pi), (0,2*pi), (0,2*pi), (0,2*pi), (0,2*pi)])"
   ]
  },
  {
   "cell_type": "code",
   "execution_count": 30,
   "metadata": {},
   "outputs": [
    {
     "name": "stderr",
     "output_type": "stream",
     "text": [
      "c:\\Users\\Jan\\anaconda3\\Lib\\site-packages\\scipy\\optimize\\_hessian_update_strategy.py:182: UserWarning: delta_grad == 0.0. Check if the approximated function is linear. If the function is linear better results can be obtained by defining the Hessian as zero instead of using quasi-Newton approximations.\n",
      "  warn('delta_grad == 0.0. Check if the approximated '\n"
     ]
    },
    {
     "data": {
      "text/plain": [
       "           message: The maximum number of function evaluations is exceeded.\n",
       "           success: False\n",
       "            status: 0\n",
       "               fun: 8.804841303259117e-08\n",
       "                 x: [ 5.725e-02  2.442e+00  2.940e+00  5.725e-02  8.712e-01\n",
       "                      1.369e+00]\n",
       "               nit: 1000\n",
       "              nfev: 7350\n",
       "              njev: 1050\n",
       "              nhev: 0\n",
       "          cg_niter: 1064\n",
       "      cg_stop_cond: 2\n",
       "              grad: [ 1.408e+00  2.785e-01 -3.068e-03 -1.405e+00  2.795e-01\n",
       "                      5.450e-03]\n",
       "   lagrangian_grad: [-2.907e-03  2.296e-02 -3.228e-03 -5.720e-03  1.107e-01\n",
       "                     -3.233e-03]\n",
       "            constr: [array([ 1.110e-16]), array([ 5.725e-02,  2.442e+00,  2.940e+00,  5.725e-02,\n",
       "                            8.712e-01,  1.369e+00])]\n",
       "               jac: [array([[ 2.426e+00,  3.071e-01,  0.000e+00,\n",
       "                             0.000e+00,  0.000e+00,  0.000e+00]]), array([[ 1.000e+00,  0.000e+00, ...,  0.000e+00,\n",
       "                             0.000e+00],\n",
       "                           [ 0.000e+00,  1.000e+00, ...,  0.000e+00,\n",
       "                             0.000e+00],\n",
       "                           ...,\n",
       "                           [ 0.000e+00,  0.000e+00, ...,  1.000e+00,\n",
       "                             0.000e+00],\n",
       "                           [ 0.000e+00,  0.000e+00, ...,  0.000e+00,\n",
       "                             1.000e+00]])]\n",
       "       constr_nfev: [7350, 0]\n",
       "       constr_njev: [0, 0]\n",
       "       constr_nhev: [0, 0]\n",
       "                 v: [array([-8.046e-01]), array([ 5.407e-01, -8.390e-03, -1.600e-04,  1.399e+00,\n",
       "                           -1.688e-01, -8.683e-03])]\n",
       "            method: tr_interior_point\n",
       "        optimality: 0.11066155484578372\n",
       "  constr_violation: 1.1102230246251565e-16\n",
       "    execution_time: 3.102273941040039\n",
       "         tr_radius: 3.160145576839369e-08\n",
       "    constr_penalty: 1.0\n",
       " barrier_parameter: 0.020000000000000004\n",
       " barrier_tolerance: 0.020000000000000004\n",
       "             niter: 1000"
      ]
     },
     "execution_count": 30,
     "metadata": {},
     "output_type": "execute_result"
    }
   ],
   "source": [
    "wer_projection_dist(rho2(pi/4, 1))"
   ]
  },
  {
   "cell_type": "code",
   "execution_count": 113,
   "metadata": {},
   "outputs": [
    {
     "name": "stdout",
     "output_type": "stream",
     "text": [
      "0.308 + -0.000i  \t0.001 + 0.000i   \t-0.001 + 0.001i \t0.179 + -0.127i  \n",
      "0.001 + -0.000i  \t0.215 + 0.000i   \t-0.001 + 0.000i \t0.000 + -0.001i  \n",
      "-0.001 + -0.001i \t-0.001 + -0.000i \t0.255 + 0.000i  \t-0.001 + -0.001i \n",
      "0.179 + 0.127i   \t0.000 + 0.001i   \t-0.001 + 0.001i \t0.222 + 0.000i   \n"
     ]
    }
   ],
   "source": [
    "int_projection(rand_PSDM(4))"
   ]
  },
  {
   "cell_type": "code",
   "execution_count": 56,
   "metadata": {},
   "outputs": [
    {
     "name": "stdout",
     "output_type": "stream",
     "text": [
      "0.199 + -0.000i \t0.042 + 0.042i   \t0.009 + -0.005i \t0.029 + -0.079i  \n",
      "0.042 + -0.042i \t0.070 + -0.000i  \t-0.046 + 0.123i \t-0.015 + -0.048i \n",
      "0.009 + 0.005i  \t-0.046 + -0.123i \t0.511 + 0.000i  \t-0.156 + -0.004i \n",
      "0.029 + 0.079i  \t-0.015 + 0.048i  \t-0.156 + 0.004i \t0.220 + -0.000i  \n"
     ]
    }
   ],
   "source": []
  },
  {
   "cell_type": "code",
   "execution_count": null,
   "metadata": {},
   "outputs": [],
   "source": []
  },
  {
   "cell_type": "markdown",
   "metadata": {},
   "source": [
    "# Playground"
   ]
  },
  {
   "cell_type": "code",
   "execution_count": 21,
   "metadata": {},
   "outputs": [],
   "source": [
    "class experiment(density_matrix):\n",
    "    \n",
    "    def __init__(self, rho, name=''):\n",
    "        super().__init__(rho, name)\n",
    "    \n",
    "    def set_proj(self, N=1000000):\n",
    "        self.data = np.zeros(N)\n",
    "        n = N//1000\n",
    "        def phase_rotation(phi=np.random.random()*2*pi):\n",
    "            from scipy.linalg import expm\n",
    "            sig_z = np.array([[1,0],[0,-1]], dtype='complex')\n",
    "            U = tens_prod2d(expm((1j * phi * sig_z)), expm((-1j * phi * sig_z)))\n",
    "            return U\n",
    "    \n",
    "        def phase_rotation_dag(phi=np.random.random()*2*pi):\n",
    "            return np.transpose(np.conjugate(phase_rotation(phi)))\n",
    "\n",
    "        qubit_switch = np.matrix([[1,0,0,0],[0,0,1,0],[0,1,0,0],[0,0,0,1]])\n",
    "\n",
    "        for i in range(1000):\n",
    "            phi = np.random.random()*2*pi    \n",
    "            rotated = phase_rotation(phi)@self.matrix@phase_rotation_dag(phi)\n",
    "            switched = qubit_switch@rotated@qubit_switch\n",
    "            proj = (np.transpose(rotated + switched) + rotated + switched)/4                      \n",
    "                        \n",
    "            for j in range(n):\n",
    "                self.data[i*n + j] = obs(proj)\n",
    "        "
   ]
  },
  {
   "cell_type": "code",
   "execution_count": 22,
   "metadata": {},
   "outputs": [
    {
     "ename": "KeyboardInterrupt",
     "evalue": "",
     "output_type": "error",
     "traceback": [
      "\u001b[1;31m---------------------------------------------------------------------------\u001b[0m",
      "\u001b[1;31mKeyboardInterrupt\u001b[0m                         Traceback (most recent call last)",
      "Cell \u001b[1;32mIn[22], line 2\u001b[0m\n\u001b[0;32m      1\u001b[0m ex \u001b[38;5;241m=\u001b[39m experiment(rho2(pi\u001b[38;5;241m/\u001b[39m\u001b[38;5;241m4\u001b[39m, \u001b[38;5;241m1\u001b[39m))\n\u001b[1;32m----> 2\u001b[0m ex\u001b[38;5;241m.\u001b[39mset_proj()\n\u001b[0;32m      3\u001b[0m ex\u001b[38;5;241m.\u001b[39mhistogram()\n",
      "Cell \u001b[1;32mIn[21], line 27\u001b[0m, in \u001b[0;36mexperiment.set_proj\u001b[1;34m(self, N)\u001b[0m\n\u001b[0;32m     24\u001b[0m proj \u001b[38;5;241m=\u001b[39m (np\u001b[38;5;241m.\u001b[39mtranspose(rotated \u001b[38;5;241m+\u001b[39m switched) \u001b[38;5;241m+\u001b[39m rotated \u001b[38;5;241m+\u001b[39m switched)\u001b[38;5;241m/\u001b[39m\u001b[38;5;241m4\u001b[39m                      \n\u001b[0;32m     26\u001b[0m \u001b[38;5;28;01mfor\u001b[39;00m j \u001b[38;5;129;01min\u001b[39;00m \u001b[38;5;28mrange\u001b[39m(n):\n\u001b[1;32m---> 27\u001b[0m     \u001b[38;5;28mself\u001b[39m\u001b[38;5;241m.\u001b[39mdata[i\u001b[38;5;241m*\u001b[39mn \u001b[38;5;241m+\u001b[39m j] \u001b[38;5;241m=\u001b[39m obs(proj)\n",
      "File \u001b[1;32mc:\\Users\\Jan\\Desktop\\Uni_Wrrr\\Kwantowa_informacja\\Magisterka\\WernerTomography2\\myPackage\\my_module.py:110\u001b[0m, in \u001b[0;36mobs\u001b[1;34m(rho, parA, parB)\u001b[0m\n\u001b[0;32m    107\u001b[0m \u001b[38;5;250m\u001b[39m\u001b[38;5;124;03m'''Simulation of observation of density matrix with unitary matrices of given parameters (defaults to random) \u001b[39;00m\n\u001b[0;32m    108\u001b[0m \u001b[38;5;124;03m    returns probability of observation as being in 00 state'''\u001b[39;00m\n\u001b[0;32m    109\u001b[0m uA \u001b[38;5;241m=\u001b[39m unitary_mat2(parA)\n\u001b[1;32m--> 110\u001b[0m uB \u001b[38;5;241m=\u001b[39m unitary_mat2(parB)    \n\u001b[0;32m    111\u001b[0m u \u001b[38;5;241m=\u001b[39m tens_prod2d(uA,uB)\n\u001b[0;32m    112\u001b[0m zer \u001b[38;5;241m=\u001b[39m np\u001b[38;5;241m.\u001b[39mouter(ZeroZero,ZeroZero)\n",
      "File \u001b[1;32mc:\\Users\\Jan\\Desktop\\Uni_Wrrr\\Kwantowa_informacja\\Magisterka\\WernerTomography2\\myPackage\\my_module.py:63\u001b[0m, in \u001b[0;36munitary_mat2\u001b[1;34m(params)\u001b[0m\n\u001b[0;32m     61\u001b[0m \u001b[38;5;28;01mfrom\u001b[39;00m \u001b[38;5;21;01mscipy\u001b[39;00m \u001b[38;5;28;01mimport\u001b[39;00m stats\n\u001b[0;32m     62\u001b[0m mat \u001b[38;5;241m=\u001b[39m stats\u001b[38;5;241m.\u001b[39munitary_group\u001b[38;5;241m.\u001b[39mrvs(\u001b[38;5;241m2\u001b[39m)\n\u001b[1;32m---> 63\u001b[0m mat \u001b[38;5;241m=\u001b[39m mat \u001b[38;5;241m/\u001b[39m np\u001b[38;5;241m.\u001b[39mpower(np\u001b[38;5;241m.\u001b[39mlinalg\u001b[38;5;241m.\u001b[39mdet(mat), \u001b[38;5;241m1\u001b[39m\u001b[38;5;241m/\u001b[39m\u001b[38;5;241m2\u001b[39m)\n\u001b[0;32m     64\u001b[0m \u001b[38;5;28;01mreturn\u001b[39;00m np\u001b[38;5;241m.\u001b[39marray(mat)\n",
      "File \u001b[1;32m<__array_function__ internals>:177\u001b[0m, in \u001b[0;36mdet\u001b[1;34m(*args, **kwargs)\u001b[0m\n",
      "\u001b[1;31mKeyboardInterrupt\u001b[0m: "
     ]
    }
   ],
   "source": [
    "ex = experiment(rho2(pi/4, 1))\n",
    "ex.set_proj()\n",
    "ex.histogram()"
   ]
  },
  {
   "cell_type": "code",
   "execution_count": 20,
   "metadata": {},
   "outputs": [
    {
     "data": {
      "image/png": "[encoded data removed]",
      "text/plain": [
       "<Figure size 640x480 with 1 Axes>"
      ]
     },
     "metadata": {},
     "output_type": "display_data"
    }
   ],
   "source": [
    "ex.set()\n",
    "ex.histogram()"
   ]
  },
  {
   "cell_type": "code",
   "execution_count": 16,
   "metadata": {},
   "outputs": [
    {
     "data": {
      "image/png": "[encoded data removed]",
      "text/plain": [
       "<Figure size 640x480 with 1 Axes>"
      ]
     },
     "metadata": {},
     "output_type": "display_data"
    }
   ],
   "source": [
    "density_matrix(projection(rho2(pi/4,1))).histogram()"
   ]
  },
  {
   "cell_type": "code",
   "execution_count": 31,
   "metadata": {},
   "outputs": [],
   "source": [
    "all_complex = load_samples('all_complex')"
   ]
  },
  {
   "cell_type": "code",
   "execution_count": 36,
   "metadata": {},
   "outputs": [
    {
     "data": {
      "text/html": [
       "<div>\n",
       "<style scoped>\n",
       "    .dataframe tbody tr th:only-of-type {\n",
       "        vertical-align: middle;\n",
       "    }\n",
       "\n",
       "    .dataframe tbody tr th {\n",
       "        vertical-align: top;\n",
       "    }\n",
       "\n",
       "    .dataframe thead th {\n",
       "        text-align: right;\n",
       "    }\n",
       "</style>\n",
       "<table border=\"1\" class=\"dataframe\">\n",
       "  <thead>\n",
       "    <tr style=\"text-align: right;\">\n",
       "      <th></th>\n",
       "      <th>Distance</th>\n",
       "      <th>MatrixFidelity</th>\n",
       "      <th>HistogramFidelity</th>\n",
       "      <th>Covering</th>\n",
       "      <th>ConcurrenceOriginal</th>\n",
       "      <th>ConcurrenceOpt</th>\n",
       "      <th>CHSHViolationMOriginal</th>\n",
       "      <th>CHSHViolationMOpt</th>\n",
       "      <th>ConcurrenceDiff</th>\n",
       "    </tr>\n",
       "    <tr>\n",
       "      <th>Index</th>\n",
       "      <th></th>\n",
       "      <th></th>\n",
       "      <th></th>\n",
       "      <th></th>\n",
       "      <th></th>\n",
       "      <th></th>\n",
       "      <th></th>\n",
       "      <th></th>\n",
       "      <th></th>\n",
       "    </tr>\n",
       "  </thead>\n",
       "  <tbody>\n",
       "    <tr>\n",
       "      <th>0</th>\n",
       "      <td>0.134917</td>\n",
       "      <td>0.948760</td>\n",
       "      <td>0.937120</td>\n",
       "      <td>0.90876</td>\n",
       "      <td>0.114023</td>\n",
       "      <td>0.067022</td>\n",
       "      <td>0.0</td>\n",
       "      <td>0.0</td>\n",
       "      <td>0.047000</td>\n",
       "    </tr>\n",
       "    <tr>\n",
       "      <th>1</th>\n",
       "      <td>0.195771</td>\n",
       "      <td>0.911139</td>\n",
       "      <td>0.854492</td>\n",
       "      <td>0.79780</td>\n",
       "      <td>0.000000</td>\n",
       "      <td>0.000000</td>\n",
       "      <td>0.0</td>\n",
       "      <td>0.0</td>\n",
       "      <td>NaN</td>\n",
       "    </tr>\n",
       "    <tr>\n",
       "      <th>2</th>\n",
       "      <td>0.105442</td>\n",
       "      <td>0.957498</td>\n",
       "      <td>0.952583</td>\n",
       "      <td>0.93200</td>\n",
       "      <td>0.128604</td>\n",
       "      <td>0.086633</td>\n",
       "      <td>0.0</td>\n",
       "      <td>0.0</td>\n",
       "      <td>0.041971</td>\n",
       "    </tr>\n",
       "    <tr>\n",
       "      <th>3</th>\n",
       "      <td>0.256375</td>\n",
       "      <td>0.872250</td>\n",
       "      <td>0.795017</td>\n",
       "      <td>0.76882</td>\n",
       "      <td>0.000000</td>\n",
       "      <td>0.000000</td>\n",
       "      <td>0.0</td>\n",
       "      <td>0.0</td>\n",
       "      <td>NaN</td>\n",
       "    </tr>\n",
       "    <tr>\n",
       "      <th>4</th>\n",
       "      <td>0.169950</td>\n",
       "      <td>0.933961</td>\n",
       "      <td>0.917178</td>\n",
       "      <td>0.88762</td>\n",
       "      <td>0.000000</td>\n",
       "      <td>0.000000</td>\n",
       "      <td>0.0</td>\n",
       "      <td>0.0</td>\n",
       "      <td>NaN</td>\n",
       "    </tr>\n",
       "    <tr>\n",
       "      <th>...</th>\n",
       "      <td>...</td>\n",
       "      <td>...</td>\n",
       "      <td>...</td>\n",
       "      <td>...</td>\n",
       "      <td>...</td>\n",
       "      <td>...</td>\n",
       "      <td>...</td>\n",
       "      <td>...</td>\n",
       "      <td>...</td>\n",
       "    </tr>\n",
       "    <tr>\n",
       "      <th>720795</th>\n",
       "      <td>0.195064</td>\n",
       "      <td>0.911265</td>\n",
       "      <td>0.930393</td>\n",
       "      <td>0.90650</td>\n",
       "      <td>0.135458</td>\n",
       "      <td>0.100638</td>\n",
       "      <td>0.0</td>\n",
       "      <td>0.0</td>\n",
       "      <td>0.034819</td>\n",
       "    </tr>\n",
       "    <tr>\n",
       "      <th>720796</th>\n",
       "      <td>0.209321</td>\n",
       "      <td>0.911643</td>\n",
       "      <td>0.826893</td>\n",
       "      <td>0.78812</td>\n",
       "      <td>0.173558</td>\n",
       "      <td>0.000000</td>\n",
       "      <td>0.0</td>\n",
       "      <td>0.0</td>\n",
       "      <td>0.173558</td>\n",
       "    </tr>\n",
       "    <tr>\n",
       "      <th>720797</th>\n",
       "      <td>0.147484</td>\n",
       "      <td>0.930061</td>\n",
       "      <td>0.945797</td>\n",
       "      <td>0.92378</td>\n",
       "      <td>0.237974</td>\n",
       "      <td>0.110711</td>\n",
       "      <td>0.0</td>\n",
       "      <td>0.0</td>\n",
       "      <td>0.127263</td>\n",
       "    </tr>\n",
       "    <tr>\n",
       "      <th>720798</th>\n",
       "      <td>0.146628</td>\n",
       "      <td>0.955317</td>\n",
       "      <td>0.939554</td>\n",
       "      <td>0.92142</td>\n",
       "      <td>0.048573</td>\n",
       "      <td>0.000000</td>\n",
       "      <td>0.0</td>\n",
       "      <td>0.0</td>\n",
       "      <td>0.048573</td>\n",
       "    </tr>\n",
       "    <tr>\n",
       "      <th>720799</th>\n",
       "      <td>0.219425</td>\n",
       "      <td>0.864234</td>\n",
       "      <td>0.858865</td>\n",
       "      <td>0.79566</td>\n",
       "      <td>0.157606</td>\n",
       "      <td>0.048105</td>\n",
       "      <td>0.0</td>\n",
       "      <td>0.0</td>\n",
       "      <td>0.109502</td>\n",
       "    </tr>\n",
       "  </tbody>\n",
       "</table>\n",
       "<p>720800 rows × 9 columns</p>\n",
       "</div>"
      ],
      "text/plain": [
       "        Distance  MatrixFidelity  ...  CHSHViolationMOpt  ConcurrenceDiff\n",
       "Index                             ...                                    \n",
       "0       0.134917        0.948760  ...                0.0         0.047000\n",
       "1       0.195771        0.911139  ...                0.0              NaN\n",
       "2       0.105442        0.957498  ...                0.0         0.041971\n",
       "3       0.256375        0.872250  ...                0.0              NaN\n",
       "4       0.169950        0.933961  ...                0.0              NaN\n",
       "...          ...             ...  ...                ...              ...\n",
       "720795  0.195064        0.911265  ...                0.0         0.034819\n",
       "720796  0.209321        0.911643  ...                0.0         0.173558\n",
       "720797  0.147484        0.930061  ...                0.0         0.127263\n",
       "720798  0.146628        0.955317  ...                0.0         0.048573\n",
       "720799  0.219425        0.864234  ...                0.0         0.109502\n",
       "\n",
       "[720800 rows x 9 columns]"
      ]
     },
     "execution_count": 36,
     "metadata": {},
     "output_type": "execute_result"
    }
   ],
   "source": [
    "all_complex.Measures"
   ]
  },
  {
   "cell_type": "code",
   "execution_count": 32,
   "metadata": {},
   "outputs": [],
   "source": [
    "all_complex.Measures['ConcurrenceDiff'] = all_complex.Measures.ConcurrenceOriginal - all_complex.Measures.ConcurrenceOpt\n",
    "all_complex.Measures.ConcurrenceDiff.loc[np.logical_and(all_complex.Measures.ConcurrenceOriginal==0,all_complex.Measures.ConcurrenceOpt==0)] = np.nan"
   ]
  },
  {
   "cell_type": "code",
   "execution_count": 37,
   "metadata": {},
   "outputs": [],
   "source": [
    "all_complex.Measures['CHSHDiff'] = all_complex.Measures.CHSHViolationMOriginal - all_complex.Measures.CHSHViolationMOpt\n",
    "all_complex.Measures.CHSHDiff.loc[np.logical_and(all_complex.Measures.CHSHViolationMOriginal\t==0,all_complex.Measures.CHSHViolationMOriginal\t==0)] = np.nan"
   ]
  },
  {
   "cell_type": "code",
   "execution_count": 49,
   "metadata": {},
   "outputs": [
    {
     "data": {
      "text/plain": [
       "(array([    2.,    36.,   649.,  5450., 71012., 78695., 75142., 62304.,\n",
       "        45504., 30486., 18520., 10604.,  5846.,  2984.,  1293.,   602.,\n",
       "          207.,    82.,    25.]),\n",
       " array([-0.1  , -0.075, -0.05 , -0.025, -0.   ,  0.025,  0.05 ,  0.075,\n",
       "         0.1  ,  0.125,  0.15 ,  0.175,  0.2  ,  0.225,  0.25 ,  0.275,\n",
       "         0.3  ,  0.325,  0.35 ,  0.375]),\n",
       " <BarContainer object of 19 artists>)"
      ]
     },
     "execution_count": 49,
     "metadata": {},
     "output_type": "execute_result"
    },
    {
     "data": {
      "image/png": "[encoded data removed]",
      "text/plain": [
       "<Figure size 640x480 with 1 Axes>"
      ]
     },
     "metadata": {},
     "output_type": "display_data"
    }
   ],
   "source": [
    "plt.xlabel('Concurrence difference')\n",
    "plt.ylabel('Counts')\n",
    "plt.grid(False)\n",
    "plt.hist(all_complex.Measures.ConcurrenceDiff.values, bins = np.arange(-0.1, 0.4, 0.025))"
   ]
  },
  {
   "cell_type": "code",
   "execution_count": 60,
   "metadata": {},
   "outputs": [
    {
     "data": {
      "text/plain": [
       "count    409449.000000\n",
       "mean          0.074852\n",
       "std           0.054064\n",
       "min          -0.079200\n",
       "25%           0.033129\n",
       "50%           0.065878\n",
       "75%           0.106712\n",
       "max           0.419246\n",
       "Name: ConcurrenceDiff, dtype: float64"
      ]
     },
     "execution_count": 60,
     "metadata": {},
     "output_type": "execute_result"
    }
   ],
   "source": [
    "all_complex.Measures.ConcurrenceDiff.describe()"
   ]
  },
  {
   "cell_type": "code",
   "execution_count": 38,
   "metadata": {},
   "outputs": [
    {
     "data": {
      "text/plain": [
       "<Axes: xlabel='CHSH violation difference', ylabel='Counts'>"
      ]
     },
     "execution_count": 38,
     "metadata": {},
     "output_type": "execute_result"
    },
    {
     "data": {
      "image/png": "[encoded data removed]",
      "text/plain": [
       "<Figure size 640x480 with 1 Axes>"
      ]
     },
     "metadata": {},
     "output_type": "display_data"
    }
   ],
   "source": [
    "plt.xlabel('CHSH violation difference')\n",
    "plt.ylabel('Counts')\n",
    "all_complex.Measures.CHSHDiff.hist()"
   ]
  },
  {
   "cell_type": "code",
   "execution_count": 44,
   "metadata": {},
   "outputs": [
    {
     "data": {
      "text/plain": [
       "<myPackage.my_module.samples at 0x2b23c828350>"
      ]
     },
     "execution_count": 44,
     "metadata": {},
     "output_type": "execute_result"
    }
   ],
   "source": [
    "all_complex.Measures.ConcurrenceDiff"
   ]
  },
  {
   "cell_type": "code",
   "execution_count": null,
   "metadata": {},
   "outputs": [],
   "source": []
  }
 ],
 "metadata": {
  "kernelspec": {
   "display_name": "base",
   "language": "python",
   "name": "python3"
  },
  "language_info": {
   "codemirror_mode": {
    "name": "ipython",
    "version": 3
   },
   "file_extension": ".py",
   "mimetype": "text/x-python",
   "name": "python",
   "nbconvert_exporter": "python",
   "pygments_lexer": "ipython3",
   "version": "3.11.5"
  }
 },
 "nbformat": 4,
 "nbformat_minor": 2
}
