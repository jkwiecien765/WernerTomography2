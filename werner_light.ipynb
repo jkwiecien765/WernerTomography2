{
 "cells": [
  {
   "cell_type": "code",
   "execution_count": 1,
   "metadata": {},
   "outputs": [],
   "source": [
    "from myPackage.my_module import *\n",
    "from scipy import optimize"
   ]
  },
  {
   "cell_type": "code",
   "execution_count": 94,
   "metadata": {},
   "outputs": [
    {
     "data": {
      "text/plain": [
       "array([[ 0.22647+0.j     , -0.10166-0.06929j, -0.02165-0.04128j,\n",
       "         0.03746+0.10499j],\n",
       "       [-0.10166+0.06929j,  0.22044-0.j     ,  0.06521+0.05916j,\n",
       "        -0.02435-0.0833j ],\n",
       "       [-0.02165+0.04128j,  0.06521-0.05916j,  0.07782+0.j     ,\n",
       "         0.06175-0.01606j],\n",
       "       [ 0.03746-0.10499j, -0.02435+0.0833j ,  0.06175+0.01606j,\n",
       "         0.47527-0.j     ]])"
      ]
     },
     "execution_count": 94,
     "metadata": {},
     "output_type": "execute_result"
    }
   ],
   "source": [
    "#Random state is\n",
    "rand_PSDM(4)"
   ]
  },
  {
   "cell_type": "code",
   "execution_count": 95,
   "metadata": {},
   "outputs": [
    {
     "data": {
      "text/plain": [
       "array([[ 0.45583-0.j     , -0.05191-0.04682j, -0.08087+0.15078j,\n",
       "         0.0247 -0.00886j],\n",
       "       [-0.05191+0.04682j,  0.3519 -0.j     , -0.00628-0.02548j,\n",
       "        -0.06243+0.1164j ],\n",
       "       [-0.08087-0.15078j, -0.00628+0.02548j,  0.1085 +0.j     ,\n",
       "        -0.01236-0.01115j],\n",
       "       [ 0.0247 +0.00886j, -0.06243-0.1164j , -0.01236+0.01115j,\n",
       "         0.08376+0.j     ]])"
      ]
     },
     "execution_count": 95,
     "metadata": {},
     "output_type": "execute_result"
    }
   ],
   "source": [
    "#Random separable state is\n",
    "tens_prod2d(rand_PSDM(2), rand_PSDM(2))"
   ]
  },
  {
   "cell_type": "code",
   "execution_count": 84,
   "metadata": {},
   "outputs": [],
   "source": [
    "def wer(th, v=1, base='psim'):\n",
    "    '''\n",
    "    Creates Werner state based on parameters of angle, visibility and Bell state\n",
    "    Args:\n",
    "        th: angle\n",
    "        v: visibility (default=1)\n",
    "        base: which Bell state to choose. Accepts one of the strings: \"psip\", \"psim\", \"phip\", \"phim\"\n",
    "        which means phi/psi with plus (p) or minus (m) sign (default=\"psim\")\n",
    "    Returns:\n",
    "        4x4 np.ndarray\n",
    "    \n",
    "    '''\n",
    "    match base:\n",
    "        case 'psim':\n",
    "            vec = np.sin(th)*OneZero - np.cos(th)*ZeroOne\n",
    "        case 'psip':\n",
    "            vec = np.sin(th)*OneZero + np.cos(th)*ZeroOne\n",
    "        case 'phip':\n",
    "            vec = np.sin(th)*OneOne + np.cos(th)*ZeroZero\n",
    "        case 'phim':\n",
    "            vec =np.sin(th)*OneOne - np.cos(th)*ZeroZero\n",
    "        case _:\n",
    "            raise ValueError(\"You must choose one of the following: psip, psim, phip, phim\")\n",
    "    return v * np.outer(vec,vec) + (1-v)/4 * np.identity(4)"
   ]
  },
  {
   "cell_type": "code",
   "execution_count": 97,
   "metadata": {},
   "outputs": [],
   "source": [
    "def phi_proj(matrixA, target='fidelity'):\n",
    "    '''\n",
    "    Performs a unitary rotation and projects onto phi+ state (optimizes for fidelity, distance or concurrence)\n",
    "    Args:\n",
    "        matrixA: matrix to be projected\n",
    "        target: function to be optimizes for. One of the following: 'fidelity', 'distance' or 'concurrence'\n",
    "    Returns:\n",
    "        A dict object:\n",
    "            fidelity/distance/concurrence: optimal value of the target function\n",
    "            parameters: 2x3 angles of unitary rotation\n",
    "            angle: angle of resulting phi+ state\n",
    "            visiblity: visibility of resulting phi+ state\n",
    "            projected: np.matrix result of projection\n",
    "            original: np.matrix original matrix\n",
    "    '''\n",
    "    def get_params_phi(matrix):\n",
    "        v = 1 - 4*matrix[1,1]\n",
    "        if v==0:\n",
    "            return 0, 0\n",
    "        \n",
    "        alph = np.arcsin(matrix[0,3]/v/v*2)/2\n",
    "        return alph, v\n",
    "    from scipy.optimize import differential_evolution\n",
    "    def projection(matrix):\n",
    "        return np.real(np.matrix([[matrix[0,0],0,0,matrix[0,3]/2+matrix[3,0]/2],[0,matrix[2,2]/2+matrix[1,1]/2,0,0],[0,0,matrix[2,2]/2+matrix[1,1]/2,0],[matrix[0,3]/2+matrix[3,0]/2,0,0,matrix[3,3]]]))\n",
    "    def f(params, matrixA):\n",
    "        matrixA = matrixA.matrix if type(matrixA) == density_matrix else matrixA\n",
    "        paramsA = params[:3]\n",
    "        paramsB = params[3:]\n",
    "        rotated = rotate_matrix(matrixA, paramsA, paramsB)\n",
    "        projected = projection(rotated)\n",
    "        if target=='fidelity':\n",
    "            return -1*matrix_fidelity(density_matrix(projected), matrixA)\n",
    "        if target=='concurrence':\n",
    "            return -1*concurrence(projected)\n",
    "        if target=='distance':\n",
    "            return Frobenius_dist(matrixA, projected)\n",
    "    bounds = [(0,2*pi), (0,2*pi), (0,2*pi), (0,2*pi), (0,2*pi), (0,2*pi)]\n",
    "    res = differential_evolution(f, args=(matrixA,), bounds=bounds)\n",
    "    \n",
    "    if target=='distance':\n",
    "        res['fun'] = -res['fun']\n",
    "        \n",
    "    paramsA = res['x'][:3]\n",
    "    paramsB = res['x'][3:]\n",
    "    matrix = projection(rotate_matrix(matrixA, paramsA, paramsB))\n",
    "    angle, vis = get_params_phi(matrix)   \n",
    "    return {target: -np.real(res['fun']), 'parameters': [paramsA, paramsB], 'angle': angle, 'visibility': vis, 'projected': matrix, 'original': matrixA}"
   ]
  },
  {
   "cell_type": "code",
   "execution_count": 93,
   "metadata": {},
   "outputs": [
    {
     "data": {
      "text/plain": [
       "{'concurrence': 0.8659967636001281,\n",
       " 'parameters': [array([1.61371, 0.59932, 3.23519]),\n",
       "  array([4.66958, 4.20448, 1.47712])],\n",
       " 'angle': -0.5258337975217624,\n",
       " 'visibility': 0.9989913333733216,\n",
       " 'projected': matrix([[ 0.25067,  0.     ,  0.     , -0.43325],\n",
       "         [ 0.     ,  0.00025,  0.     ,  0.     ],\n",
       "         [ 0.     ,  0.     ,  0.00025,  0.     ],\n",
       "         [-0.43325,  0.     ,  0.     ,  0.74883]]),\n",
       " 'original': array([[0.75   , 0.     , 0.     , 0.43301],\n",
       "        [0.     , 0.     , 0.     , 0.     ],\n",
       "        [0.     , 0.     , 0.     , 0.     ],\n",
       "        [0.43301, 0.     , 0.     , 0.25   ]])}"
      ]
     },
     "execution_count": 93,
     "metadata": {},
     "output_type": "execute_result"
    }
   ],
   "source": [
    "phi_proj(wer(pi/3, base='phip'), target='concurrence')"
   ]
  },
  {
   "cell_type": "code",
   "execution_count": 98,
   "metadata": {},
   "outputs": [
    {
     "data": {
      "text/plain": [
       "{'distance': 2.8415752491530305e-33,\n",
       " 'parameters': [array([3.14159, 1.94514, 1.55382]),\n",
       "  array([3.14159, 4.33805, 4.72932])],\n",
       " 'angle': 0.523598775598299,\n",
       " 'visibility': 1.0,\n",
       " 'projected': matrix([[0.75   , 0.     , 0.     , 0.43301],\n",
       "         [0.     , 0.     , 0.     , 0.     ],\n",
       "         [0.     , 0.     , 0.     , 0.     ],\n",
       "         [0.43301, 0.     , 0.     , 0.25   ]]),\n",
       " 'original': array([[0.75   , 0.     , 0.     , 0.43301],\n",
       "        [0.     , 0.     , 0.     , 0.     ],\n",
       "        [0.     , 0.     , 0.     , 0.     ],\n",
       "        [0.43301, 0.     , 0.     , 0.25   ]])}"
      ]
     },
     "execution_count": 98,
     "metadata": {},
     "output_type": "execute_result"
    }
   ],
   "source": [
    "phi_proj(wer(pi/3, base='phip'), target='distance')"
   ]
  },
  {
   "cell_type": "code",
   "execution_count": 6,
   "metadata": {},
   "outputs": [],
   "source": [
    "#tworzy instancje klasy z pięcioma pandas DataFrame\n",
    "samps = load_samples('all_complex')"
   ]
  },
  {
   "cell_type": "code",
   "execution_count": 3,
   "metadata": {},
   "outputs": [
    {
     "data": {
      "text/html": [
       "<div>\n",
       "<style scoped>\n",
       "    .dataframe tbody tr th:only-of-type {\n",
       "        vertical-align: middle;\n",
       "    }\n",
       "\n",
       "    .dataframe tbody tr th {\n",
       "        vertical-align: top;\n",
       "    }\n",
       "\n",
       "    .dataframe thead th {\n",
       "        text-align: right;\n",
       "    }\n",
       "</style>\n",
       "<table border=\"1\" class=\"dataframe\">\n",
       "  <thead>\n",
       "    <tr style=\"text-align: right;\">\n",
       "      <th></th>\n",
       "      <th>Angle</th>\n",
       "      <th>Visibility</th>\n",
       "    </tr>\n",
       "    <tr>\n",
       "      <th>Index</th>\n",
       "      <th></th>\n",
       "      <th></th>\n",
       "    </tr>\n",
       "  </thead>\n",
       "  <tbody>\n",
       "    <tr>\n",
       "      <th>0</th>\n",
       "      <td>0.285188</td>\n",
       "      <td>0.585148</td>\n",
       "    </tr>\n",
       "    <tr>\n",
       "      <th>1</th>\n",
       "      <td>0.460276</td>\n",
       "      <td>0.441305</td>\n",
       "    </tr>\n",
       "    <tr>\n",
       "      <th>2</th>\n",
       "      <td>0.437844</td>\n",
       "      <td>0.641831</td>\n",
       "    </tr>\n",
       "    <tr>\n",
       "      <th>3</th>\n",
       "      <td>0.107143</td>\n",
       "      <td>0.410110</td>\n",
       "    </tr>\n",
       "    <tr>\n",
       "      <th>4</th>\n",
       "      <td>0.217093</td>\n",
       "      <td>0.500638</td>\n",
       "    </tr>\n",
       "  </tbody>\n",
       "</table>\n",
       "</div>"
      ],
      "text/plain": [
       "          Angle  Visibility\n",
       "Index                      \n",
       "0      0.285188    0.585148\n",
       "1      0.460276    0.441305\n",
       "2      0.437844    0.641831\n",
       "3      0.107143    0.410110\n",
       "4      0.217093    0.500638"
      ]
     },
     "execution_count": 3,
     "metadata": {},
     "output_type": "execute_result"
    }
   ],
   "source": [
    "#DataFrame z kątem oraz widzialnością znalezionego optymalnego stanu\n",
    "samps.OptimalState.head()"
   ]
  },
  {
   "cell_type": "code",
   "execution_count": 5,
   "metadata": {},
   "outputs": [
    {
     "data": {
      "text/html": [
       "<div>\n",
       "<style scoped>\n",
       "    .dataframe tbody tr th:only-of-type {\n",
       "        vertical-align: middle;\n",
       "    }\n",
       "\n",
       "    .dataframe tbody tr th {\n",
       "        vertical-align: top;\n",
       "    }\n",
       "\n",
       "    .dataframe thead th {\n",
       "        text-align: right;\n",
       "    }\n",
       "</style>\n",
       "<table border=\"1\" class=\"dataframe\">\n",
       "  <thead>\n",
       "    <tr style=\"text-align: right;\">\n",
       "      <th></th>\n",
       "      <th>0,0</th>\n",
       "      <th>0,1</th>\n",
       "      <th>0,2</th>\n",
       "      <th>0,3</th>\n",
       "      <th>1,0</th>\n",
       "      <th>1,1</th>\n",
       "      <th>1,2</th>\n",
       "      <th>1,3</th>\n",
       "      <th>2,0</th>\n",
       "      <th>2,1</th>\n",
       "      <th>2,2</th>\n",
       "      <th>2,3</th>\n",
       "      <th>3,0</th>\n",
       "      <th>3,1</th>\n",
       "      <th>3,2</th>\n",
       "      <th>3,3</th>\n",
       "    </tr>\n",
       "    <tr>\n",
       "      <th>Index</th>\n",
       "      <th></th>\n",
       "      <th></th>\n",
       "      <th></th>\n",
       "      <th></th>\n",
       "      <th></th>\n",
       "      <th></th>\n",
       "      <th></th>\n",
       "      <th></th>\n",
       "      <th></th>\n",
       "      <th></th>\n",
       "      <th></th>\n",
       "      <th></th>\n",
       "      <th></th>\n",
       "      <th></th>\n",
       "      <th></th>\n",
       "      <th></th>\n",
       "    </tr>\n",
       "  </thead>\n",
       "  <tbody>\n",
       "    <tr>\n",
       "      <th>0</th>\n",
       "      <td>0.233679+0.000000j</td>\n",
       "      <td>-0.062283-0.043711j</td>\n",
       "      <td>0.138566-0.148810j</td>\n",
       "      <td>0.127721+0.031173j</td>\n",
       "      <td>-0.062283+0.043711j</td>\n",
       "      <td>0.150021+0.000000j</td>\n",
       "      <td>-0.013792+0.062795j</td>\n",
       "      <td>-0.000057-0.028551j</td>\n",
       "      <td>0.138566+0.148810j</td>\n",
       "      <td>-0.013792-0.062795j</td>\n",
       "      <td>0.425088+0.000000j</td>\n",
       "      <td>0.172618+0.125806j</td>\n",
       "      <td>0.127721-0.031173j</td>\n",
       "      <td>-0.000057+0.028551j</td>\n",
       "      <td>0.172618-0.125806j</td>\n",
       "      <td>0.191212+0.000000j</td>\n",
       "    </tr>\n",
       "    <tr>\n",
       "      <th>1</th>\n",
       "      <td>0.232214+0.000000j</td>\n",
       "      <td>0.063032-0.155730j</td>\n",
       "      <td>0.120695-0.050568j</td>\n",
       "      <td>0.113719+0.049571j</td>\n",
       "      <td>0.063032+0.155730j</td>\n",
       "      <td>0.366617+0.000000j</td>\n",
       "      <td>0.057062+0.076860j</td>\n",
       "      <td>-0.005565+0.036089j</td>\n",
       "      <td>0.120695+0.050568j</td>\n",
       "      <td>0.057062-0.076860j</td>\n",
       "      <td>0.111678+0.000000j</td>\n",
       "      <td>-0.005644+0.059368j</td>\n",
       "      <td>0.113719-0.049571j</td>\n",
       "      <td>-0.005565-0.036089j</td>\n",
       "      <td>-0.005644-0.059368j</td>\n",
       "      <td>0.289491+0.000000j</td>\n",
       "    </tr>\n",
       "    <tr>\n",
       "      <th>2</th>\n",
       "      <td>0.247616+0.000000j</td>\n",
       "      <td>-0.049387+0.040941j</td>\n",
       "      <td>0.073163-0.174477j</td>\n",
       "      <td>-0.050199-0.047633j</td>\n",
       "      <td>-0.049387-0.040941j</td>\n",
       "      <td>0.119367+0.000000j</td>\n",
       "      <td>-0.190204+0.045026j</td>\n",
       "      <td>-0.011427+0.089134j</td>\n",
       "      <td>0.073163+0.174477j</td>\n",
       "      <td>-0.190204-0.045026j</td>\n",
       "      <td>0.507887+0.000000j</td>\n",
       "      <td>0.080024-0.113257j</td>\n",
       "      <td>-0.050199+0.047633j</td>\n",
       "      <td>-0.011427-0.089134j</td>\n",
       "      <td>0.080024+0.113257j</td>\n",
       "      <td>0.125130+0.000000j</td>\n",
       "    </tr>\n",
       "    <tr>\n",
       "      <th>3</th>\n",
       "      <td>0.137583+0.000000j</td>\n",
       "      <td>0.039205+0.050675j</td>\n",
       "      <td>0.005024-0.075012j</td>\n",
       "      <td>0.044930-0.084346j</td>\n",
       "      <td>0.039205-0.050675j</td>\n",
       "      <td>0.303204+0.000000j</td>\n",
       "      <td>0.074109+0.061001j</td>\n",
       "      <td>0.038989-0.123985j</td>\n",
       "      <td>0.005024+0.075012j</td>\n",
       "      <td>0.074109-0.061001j</td>\n",
       "      <td>0.308768+0.000000j</td>\n",
       "      <td>0.202200-0.021050j</td>\n",
       "      <td>0.044930+0.084346j</td>\n",
       "      <td>0.038989+0.123985j</td>\n",
       "      <td>0.202200+0.021050j</td>\n",
       "      <td>0.250445+0.000000j</td>\n",
       "    </tr>\n",
       "    <tr>\n",
       "      <th>4</th>\n",
       "      <td>0.357644+0.000000j</td>\n",
       "      <td>-0.025868+0.091033j</td>\n",
       "      <td>0.164496+0.044290j</td>\n",
       "      <td>0.033732+0.078348j</td>\n",
       "      <td>-0.025868-0.091033j</td>\n",
       "      <td>0.240480+0.000000j</td>\n",
       "      <td>0.155648-0.121341j</td>\n",
       "      <td>0.048310+0.001038j</td>\n",
       "      <td>0.164496-0.044290j</td>\n",
       "      <td>0.155648+0.121341j</td>\n",
       "      <td>0.276546+0.000000j</td>\n",
       "      <td>0.073937+0.047693j</td>\n",
       "      <td>0.033732-0.078348j</td>\n",
       "      <td>0.048310-0.001038j</td>\n",
       "      <td>0.073937-0.047693j</td>\n",
       "      <td>0.125330+0.000000j</td>\n",
       "    </tr>\n",
       "  </tbody>\n",
       "</table>\n",
       "</div>"
      ],
      "text/plain": [
       "                      0,0                 0,1                 0,2  \\\n",
       "Index                                                               \n",
       "0      0.233679+0.000000j -0.062283-0.043711j  0.138566-0.148810j   \n",
       "1      0.232214+0.000000j  0.063032-0.155730j  0.120695-0.050568j   \n",
       "2      0.247616+0.000000j -0.049387+0.040941j  0.073163-0.174477j   \n",
       "3      0.137583+0.000000j  0.039205+0.050675j  0.005024-0.075012j   \n",
       "4      0.357644+0.000000j -0.025868+0.091033j  0.164496+0.044290j   \n",
       "\n",
       "                      0,3                 1,0                 1,1  \\\n",
       "Index                                                               \n",
       "0      0.127721+0.031173j -0.062283+0.043711j  0.150021+0.000000j   \n",
       "1      0.113719+0.049571j  0.063032+0.155730j  0.366617+0.000000j   \n",
       "2     -0.050199-0.047633j -0.049387-0.040941j  0.119367+0.000000j   \n",
       "3      0.044930-0.084346j  0.039205-0.050675j  0.303204+0.000000j   \n",
       "4      0.033732+0.078348j -0.025868-0.091033j  0.240480+0.000000j   \n",
       "\n",
       "                      1,2                 1,3                 2,0  \\\n",
       "Index                                                               \n",
       "0     -0.013792+0.062795j -0.000057-0.028551j  0.138566+0.148810j   \n",
       "1      0.057062+0.076860j -0.005565+0.036089j  0.120695+0.050568j   \n",
       "2     -0.190204+0.045026j -0.011427+0.089134j  0.073163+0.174477j   \n",
       "3      0.074109+0.061001j  0.038989-0.123985j  0.005024+0.075012j   \n",
       "4      0.155648-0.121341j  0.048310+0.001038j  0.164496-0.044290j   \n",
       "\n",
       "                      2,1                 2,2                 2,3  \\\n",
       "Index                                                               \n",
       "0     -0.013792-0.062795j  0.425088+0.000000j  0.172618+0.125806j   \n",
       "1      0.057062-0.076860j  0.111678+0.000000j -0.005644+0.059368j   \n",
       "2     -0.190204-0.045026j  0.507887+0.000000j  0.080024-0.113257j   \n",
       "3      0.074109-0.061001j  0.308768+0.000000j  0.202200-0.021050j   \n",
       "4      0.155648+0.121341j  0.276546+0.000000j  0.073937+0.047693j   \n",
       "\n",
       "                      3,0                 3,1                 3,2  \\\n",
       "Index                                                               \n",
       "0      0.127721-0.031173j -0.000057+0.028551j  0.172618-0.125806j   \n",
       "1      0.113719-0.049571j -0.005565-0.036089j -0.005644-0.059368j   \n",
       "2     -0.050199+0.047633j -0.011427-0.089134j  0.080024+0.113257j   \n",
       "3      0.044930+0.084346j  0.038989+0.123985j  0.202200+0.021050j   \n",
       "4      0.033732-0.078348j  0.048310-0.001038j  0.073937-0.047693j   \n",
       "\n",
       "                      3,3  \n",
       "Index                      \n",
       "0      0.191212+0.000000j  \n",
       "1      0.289491+0.000000j  \n",
       "2      0.125130+0.000000j  \n",
       "3      0.250445+0.000000j  \n",
       "4      0.125330+0.000000j  "
      ]
     },
     "execution_count": 5,
     "metadata": {},
     "output_type": "execute_result"
    }
   ],
   "source": [
    "#DataFrame z macierzą losowego stanu\n",
    "samps.Matrix.head()"
   ]
  },
  {
   "cell_type": "code",
   "execution_count": 5,
   "metadata": {},
   "outputs": [
    {
     "data": {
      "text/html": [
       "<div>\n",
       "<style scoped>\n",
       "    .dataframe tbody tr th:only-of-type {\n",
       "        vertical-align: middle;\n",
       "    }\n",
       "\n",
       "    .dataframe tbody tr th {\n",
       "        vertical-align: top;\n",
       "    }\n",
       "\n",
       "    .dataframe thead th {\n",
       "        text-align: right;\n",
       "    }\n",
       "</style>\n",
       "<table border=\"1\" class=\"dataframe\">\n",
       "  <thead>\n",
       "    <tr style=\"text-align: right;\">\n",
       "      <th></th>\n",
       "      <th>0</th>\n",
       "      <th>1</th>\n",
       "      <th>2</th>\n",
       "      <th>3</th>\n",
       "      <th>4</th>\n",
       "      <th>5</th>\n",
       "    </tr>\n",
       "    <tr>\n",
       "      <th>Index</th>\n",
       "      <th></th>\n",
       "      <th></th>\n",
       "      <th></th>\n",
       "      <th></th>\n",
       "      <th></th>\n",
       "      <th></th>\n",
       "    </tr>\n",
       "  </thead>\n",
       "  <tbody>\n",
       "    <tr>\n",
       "      <th>0</th>\n",
       "      <td>4.301653</td>\n",
       "      <td>2.876516</td>\n",
       "      <td>2.138744</td>\n",
       "      <td>1.975735</td>\n",
       "      <td>0.452765</td>\n",
       "      <td>1.257931</td>\n",
       "    </tr>\n",
       "    <tr>\n",
       "      <th>1</th>\n",
       "      <td>5.969293</td>\n",
       "      <td>1.222776</td>\n",
       "      <td>5.349506</td>\n",
       "      <td>5.615224</td>\n",
       "      <td>1.263626</td>\n",
       "      <td>0.320845</td>\n",
       "    </tr>\n",
       "    <tr>\n",
       "      <th>2</th>\n",
       "      <td>1.956183</td>\n",
       "      <td>3.113735</td>\n",
       "      <td>5.142175</td>\n",
       "      <td>1.432167</td>\n",
       "      <td>4.922827</td>\n",
       "      <td>0.557264</td>\n",
       "    </tr>\n",
       "    <tr>\n",
       "      <th>3</th>\n",
       "      <td>4.248243</td>\n",
       "      <td>0.355534</td>\n",
       "      <td>5.855609</td>\n",
       "      <td>5.541380</td>\n",
       "      <td>3.069616</td>\n",
       "      <td>2.800975</td>\n",
       "    </tr>\n",
       "    <tr>\n",
       "      <th>4</th>\n",
       "      <td>5.599575</td>\n",
       "      <td>1.396426</td>\n",
       "      <td>4.851141</td>\n",
       "      <td>1.023605</td>\n",
       "      <td>4.511035</td>\n",
       "      <td>2.519872</td>\n",
       "    </tr>\n",
       "  </tbody>\n",
       "</table>\n",
       "</div>"
      ],
      "text/plain": [
       "              0         1         2         3         4         5\n",
       "Index                                                            \n",
       "0      4.301653  2.876516  2.138744  1.975735  0.452765  1.257931\n",
       "1      5.969293  1.222776  5.349506  5.615224  1.263626  0.320845\n",
       "2      1.956183  3.113735  5.142175  1.432167  4.922827  0.557264\n",
       "3      4.248243  0.355534  5.855609  5.541380  3.069616  2.800975\n",
       "4      5.599575  1.396426  4.851141  1.023605  4.511035  2.519872"
      ]
     },
     "execution_count": 5,
     "metadata": {},
     "output_type": "execute_result"
    }
   ],
   "source": [
    "# DataFrame z parametrami obrotu, który maksymalizuje fidelity (3 parametry razy 2 kubity)\n",
    "samps.Rotation.head()"
   ]
  },
  {
   "cell_type": "code",
   "execution_count": 8,
   "metadata": {},
   "outputs": [
    {
     "data": {
      "text/html": [
       "<div>\n",
       "<style scoped>\n",
       "    .dataframe tbody tr th:only-of-type {\n",
       "        vertical-align: middle;\n",
       "    }\n",
       "\n",
       "    .dataframe tbody tr th {\n",
       "        vertical-align: top;\n",
       "    }\n",
       "\n",
       "    .dataframe thead th {\n",
       "        text-align: right;\n",
       "    }\n",
       "</style>\n",
       "<table border=\"1\" class=\"dataframe\">\n",
       "  <thead>\n",
       "    <tr style=\"text-align: right;\">\n",
       "      <th></th>\n",
       "      <th>Distance</th>\n",
       "      <th>MatrixFidelity</th>\n",
       "      <th>HistogramFidelity</th>\n",
       "      <th>Covering</th>\n",
       "      <th>ConcurrenceOriginal</th>\n",
       "      <th>ConcurrenceOpt</th>\n",
       "      <th>CHSHViolationMOriginal</th>\n",
       "      <th>CHSHViolationMOpt</th>\n",
       "    </tr>\n",
       "    <tr>\n",
       "      <th>Index</th>\n",
       "      <th></th>\n",
       "      <th></th>\n",
       "      <th></th>\n",
       "      <th></th>\n",
       "      <th></th>\n",
       "      <th></th>\n",
       "      <th></th>\n",
       "      <th></th>\n",
       "    </tr>\n",
       "  </thead>\n",
       "  <tbody>\n",
       "    <tr>\n",
       "      <th>0</th>\n",
       "      <td>0.134917</td>\n",
       "      <td>0.948760</td>\n",
       "      <td>0.937120</td>\n",
       "      <td>0.90876</td>\n",
       "      <td>0.114023</td>\n",
       "      <td>0.067022</td>\n",
       "      <td>0.0</td>\n",
       "      <td>0.0</td>\n",
       "    </tr>\n",
       "    <tr>\n",
       "      <th>1</th>\n",
       "      <td>0.195771</td>\n",
       "      <td>0.911139</td>\n",
       "      <td>0.854492</td>\n",
       "      <td>0.79780</td>\n",
       "      <td>0.000000</td>\n",
       "      <td>0.000000</td>\n",
       "      <td>0.0</td>\n",
       "      <td>0.0</td>\n",
       "    </tr>\n",
       "    <tr>\n",
       "      <th>2</th>\n",
       "      <td>0.105442</td>\n",
       "      <td>0.957498</td>\n",
       "      <td>0.952583</td>\n",
       "      <td>0.93200</td>\n",
       "      <td>0.128604</td>\n",
       "      <td>0.086633</td>\n",
       "      <td>0.0</td>\n",
       "      <td>0.0</td>\n",
       "    </tr>\n",
       "    <tr>\n",
       "      <th>3</th>\n",
       "      <td>0.256375</td>\n",
       "      <td>0.872250</td>\n",
       "      <td>0.795017</td>\n",
       "      <td>0.76882</td>\n",
       "      <td>0.000000</td>\n",
       "      <td>0.000000</td>\n",
       "      <td>0.0</td>\n",
       "      <td>0.0</td>\n",
       "    </tr>\n",
       "    <tr>\n",
       "      <th>4</th>\n",
       "      <td>0.169950</td>\n",
       "      <td>0.933961</td>\n",
       "      <td>0.917178</td>\n",
       "      <td>0.88762</td>\n",
       "      <td>0.000000</td>\n",
       "      <td>0.000000</td>\n",
       "      <td>0.0</td>\n",
       "      <td>0.0</td>\n",
       "    </tr>\n",
       "  </tbody>\n",
       "</table>\n",
       "</div>"
      ],
      "text/plain": [
       "       Distance  MatrixFidelity  HistogramFidelity  Covering  \\\n",
       "Index                                                          \n",
       "0      0.134917        0.948760           0.937120   0.90876   \n",
       "1      0.195771        0.911139           0.854492   0.79780   \n",
       "2      0.105442        0.957498           0.952583   0.93200   \n",
       "3      0.256375        0.872250           0.795017   0.76882   \n",
       "4      0.169950        0.933961           0.917178   0.88762   \n",
       "\n",
       "       ConcurrenceOriginal  ConcurrenceOpt  CHSHViolationMOriginal  \\\n",
       "Index                                                                \n",
       "0                 0.114023        0.067022                     0.0   \n",
       "1                 0.000000        0.000000                     0.0   \n",
       "2                 0.128604        0.086633                     0.0   \n",
       "3                 0.000000        0.000000                     0.0   \n",
       "4                 0.000000        0.000000                     0.0   \n",
       "\n",
       "       CHSHViolationMOpt  \n",
       "Index                     \n",
       "0                    0.0  \n",
       "1                    0.0  \n",
       "2                    0.0  \n",
       "3                    0.0  \n",
       "4                    0.0  "
      ]
     },
     "execution_count": 8,
     "metadata": {},
     "output_type": "execute_result"
    }
   ],
   "source": [
    "#DataFrame z różnymi miarami\n",
    "samps.Measures.head()"
   ]
  },
  {
   "cell_type": "code",
   "execution_count": 7,
   "metadata": {},
   "outputs": [
    {
     "data": {
      "text/html": [
       "<div>\n",
       "<style scoped>\n",
       "    .dataframe tbody tr th:only-of-type {\n",
       "        vertical-align: middle;\n",
       "    }\n",
       "\n",
       "    .dataframe tbody tr th {\n",
       "        vertical-align: top;\n",
       "    }\n",
       "\n",
       "    .dataframe thead th {\n",
       "        text-align: right;\n",
       "    }\n",
       "</style>\n",
       "<table border=\"1\" class=\"dataframe\">\n",
       "  <thead>\n",
       "    <tr style=\"text-align: right;\">\n",
       "      <th></th>\n",
       "      <th>[0.0, 0.01]</th>\n",
       "      <th>[0.01, 0.02]</th>\n",
       "      <th>[0.02, 0.03]</th>\n",
       "      <th>[0.03, 0.04]</th>\n",
       "      <th>[0.04, 0.05]</th>\n",
       "      <th>[0.05, 0.06]</th>\n",
       "      <th>[0.06, 0.07]</th>\n",
       "      <th>[0.07, 0.08]</th>\n",
       "      <th>[0.08, 0.09]</th>\n",
       "      <th>[0.09, 0.1]</th>\n",
       "      <th>...</th>\n",
       "      <th>[0.9, 0.91]</th>\n",
       "      <th>[0.91, 0.92]</th>\n",
       "      <th>[0.92, 0.93]</th>\n",
       "      <th>[0.93, 0.94]</th>\n",
       "      <th>[0.94, 0.95]</th>\n",
       "      <th>[0.95, 0.96]</th>\n",
       "      <th>[0.96, 0.97]</th>\n",
       "      <th>[0.97, 0.98]</th>\n",
       "      <th>[0.98, 0.99]</th>\n",
       "      <th>[0.99, 1.0]</th>\n",
       "    </tr>\n",
       "    <tr>\n",
       "      <th>Index</th>\n",
       "      <th></th>\n",
       "      <th></th>\n",
       "      <th></th>\n",
       "      <th></th>\n",
       "      <th></th>\n",
       "      <th></th>\n",
       "      <th></th>\n",
       "      <th></th>\n",
       "      <th></th>\n",
       "      <th></th>\n",
       "      <th></th>\n",
       "      <th></th>\n",
       "      <th></th>\n",
       "      <th></th>\n",
       "      <th></th>\n",
       "      <th></th>\n",
       "      <th></th>\n",
       "      <th></th>\n",
       "      <th></th>\n",
       "      <th></th>\n",
       "      <th></th>\n",
       "    </tr>\n",
       "  </thead>\n",
       "  <tbody>\n",
       "    <tr>\n",
       "      <th>0</th>\n",
       "      <td>0.0</td>\n",
       "      <td>0.0</td>\n",
       "      <td>0.00000</td>\n",
       "      <td>0.00002</td>\n",
       "      <td>0.00118</td>\n",
       "      <td>0.00300</td>\n",
       "      <td>0.00608</td>\n",
       "      <td>0.01040</td>\n",
       "      <td>0.01472</td>\n",
       "      <td>0.01902</td>\n",
       "      <td>...</td>\n",
       "      <td>0.0</td>\n",
       "      <td>0.0</td>\n",
       "      <td>0.0</td>\n",
       "      <td>0.0</td>\n",
       "      <td>0.0</td>\n",
       "      <td>0.0</td>\n",
       "      <td>0.0</td>\n",
       "      <td>0.0</td>\n",
       "      <td>0.0</td>\n",
       "      <td>0.0</td>\n",
       "    </tr>\n",
       "    <tr>\n",
       "      <th>1</th>\n",
       "      <td>0.0</td>\n",
       "      <td>0.0</td>\n",
       "      <td>0.00062</td>\n",
       "      <td>0.00218</td>\n",
       "      <td>0.00356</td>\n",
       "      <td>0.00502</td>\n",
       "      <td>0.00734</td>\n",
       "      <td>0.00900</td>\n",
       "      <td>0.01196</td>\n",
       "      <td>0.01374</td>\n",
       "      <td>...</td>\n",
       "      <td>0.0</td>\n",
       "      <td>0.0</td>\n",
       "      <td>0.0</td>\n",
       "      <td>0.0</td>\n",
       "      <td>0.0</td>\n",
       "      <td>0.0</td>\n",
       "      <td>0.0</td>\n",
       "      <td>0.0</td>\n",
       "      <td>0.0</td>\n",
       "      <td>0.0</td>\n",
       "    </tr>\n",
       "    <tr>\n",
       "      <th>2</th>\n",
       "      <td>0.0</td>\n",
       "      <td>0.0</td>\n",
       "      <td>0.00000</td>\n",
       "      <td>0.00138</td>\n",
       "      <td>0.00368</td>\n",
       "      <td>0.00668</td>\n",
       "      <td>0.00990</td>\n",
       "      <td>0.01352</td>\n",
       "      <td>0.01664</td>\n",
       "      <td>0.02240</td>\n",
       "      <td>...</td>\n",
       "      <td>0.0</td>\n",
       "      <td>0.0</td>\n",
       "      <td>0.0</td>\n",
       "      <td>0.0</td>\n",
       "      <td>0.0</td>\n",
       "      <td>0.0</td>\n",
       "      <td>0.0</td>\n",
       "      <td>0.0</td>\n",
       "      <td>0.0</td>\n",
       "      <td>0.0</td>\n",
       "    </tr>\n",
       "    <tr>\n",
       "      <th>3</th>\n",
       "      <td>0.0</td>\n",
       "      <td>0.0</td>\n",
       "      <td>0.00112</td>\n",
       "      <td>0.00288</td>\n",
       "      <td>0.00502</td>\n",
       "      <td>0.00668</td>\n",
       "      <td>0.01002</td>\n",
       "      <td>0.01400</td>\n",
       "      <td>0.01512</td>\n",
       "      <td>0.01790</td>\n",
       "      <td>...</td>\n",
       "      <td>0.0</td>\n",
       "      <td>0.0</td>\n",
       "      <td>0.0</td>\n",
       "      <td>0.0</td>\n",
       "      <td>0.0</td>\n",
       "      <td>0.0</td>\n",
       "      <td>0.0</td>\n",
       "      <td>0.0</td>\n",
       "      <td>0.0</td>\n",
       "      <td>0.0</td>\n",
       "    </tr>\n",
       "    <tr>\n",
       "      <th>4</th>\n",
       "      <td>0.0</td>\n",
       "      <td>0.0</td>\n",
       "      <td>0.00000</td>\n",
       "      <td>0.00000</td>\n",
       "      <td>0.00000</td>\n",
       "      <td>0.00000</td>\n",
       "      <td>0.00024</td>\n",
       "      <td>0.00230</td>\n",
       "      <td>0.00618</td>\n",
       "      <td>0.01264</td>\n",
       "      <td>...</td>\n",
       "      <td>0.0</td>\n",
       "      <td>0.0</td>\n",
       "      <td>0.0</td>\n",
       "      <td>0.0</td>\n",
       "      <td>0.0</td>\n",
       "      <td>0.0</td>\n",
       "      <td>0.0</td>\n",
       "      <td>0.0</td>\n",
       "      <td>0.0</td>\n",
       "      <td>0.0</td>\n",
       "    </tr>\n",
       "  </tbody>\n",
       "</table>\n",
       "<p>5 rows × 100 columns</p>\n",
       "</div>"
      ],
      "text/plain": [
       "       [0.0, 0.01]  [0.01, 0.02]  [0.02, 0.03]  [0.03, 0.04]  [0.04, 0.05]  \\\n",
       "Index                                                                        \n",
       "0              0.0           0.0       0.00000       0.00002       0.00118   \n",
       "1              0.0           0.0       0.00062       0.00218       0.00356   \n",
       "2              0.0           0.0       0.00000       0.00138       0.00368   \n",
       "3              0.0           0.0       0.00112       0.00288       0.00502   \n",
       "4              0.0           0.0       0.00000       0.00000       0.00000   \n",
       "\n",
       "       [0.05, 0.06]  [0.06, 0.07]  [0.07, 0.08]  [0.08, 0.09]  [0.09, 0.1]  \\\n",
       "Index                                                                        \n",
       "0           0.00300       0.00608       0.01040       0.01472      0.01902   \n",
       "1           0.00502       0.00734       0.00900       0.01196      0.01374   \n",
       "2           0.00668       0.00990       0.01352       0.01664      0.02240   \n",
       "3           0.00668       0.01002       0.01400       0.01512      0.01790   \n",
       "4           0.00000       0.00024       0.00230       0.00618      0.01264   \n",
       "\n",
       "       ...  [0.9, 0.91]  [0.91, 0.92]  [0.92, 0.93]  [0.93, 0.94]  \\\n",
       "Index  ...                                                          \n",
       "0      ...          0.0           0.0           0.0           0.0   \n",
       "1      ...          0.0           0.0           0.0           0.0   \n",
       "2      ...          0.0           0.0           0.0           0.0   \n",
       "3      ...          0.0           0.0           0.0           0.0   \n",
       "4      ...          0.0           0.0           0.0           0.0   \n",
       "\n",
       "       [0.94, 0.95]  [0.95, 0.96]  [0.96, 0.97]  [0.97, 0.98]  [0.98, 0.99]  \\\n",
       "Index                                                                         \n",
       "0               0.0           0.0           0.0           0.0           0.0   \n",
       "1               0.0           0.0           0.0           0.0           0.0   \n",
       "2               0.0           0.0           0.0           0.0           0.0   \n",
       "3               0.0           0.0           0.0           0.0           0.0   \n",
       "4               0.0           0.0           0.0           0.0           0.0   \n",
       "\n",
       "       [0.99, 1.0]  \n",
       "Index               \n",
       "0              0.0  \n",
       "1              0.0  \n",
       "2              0.0  \n",
       "3              0.0  \n",
       "4              0.0  \n",
       "\n",
       "[5 rows x 100 columns]"
      ]
     },
     "execution_count": 7,
     "metadata": {},
     "output_type": "execute_result"
    }
   ],
   "source": [
    "#DataFrame z kubełkami dla każdego badanego stanu\n",
    "samps.Bins.head()"
   ]
  },
  {
   "cell_type": "code",
   "execution_count": 9,
   "metadata": {},
   "outputs": [
    {
     "data": {
      "image/png": "[encoded data removed]",
      "text/plain": [
       "<Figure size 640x480 with 1 Axes>"
      ]
     },
     "metadata": {},
     "output_type": "display_data"
    }
   ],
   "source": [
    "# Metoda do wywoływania histogramu - pomarańczowe schodki to stan losowy, a niebieskie to dopasowany.\n",
    "# W argumencie jest index próbki\n",
    "samps.double_plot(0)"
   ]
  },
  {
   "cell_type": "code",
   "execution_count": 10,
   "metadata": {},
   "outputs": [
    {
     "data": {
      "image/png": "[encoded data removed]",
      "text/plain": [
       "<Figure size 640x480 with 1 Axes>"
      ]
     },
     "metadata": {},
     "output_type": "display_data"
    }
   ],
   "source": [
    "# Histogram tylko stanu losowego\n",
    "samps.histogram(0)"
   ]
  },
  {
   "cell_type": "code",
   "execution_count": 11,
   "metadata": {},
   "outputs": [
    {
     "data": {
      "image/png": "[encoded data removed]",
      "text/plain": [
       "<Figure size 640x480 with 1 Axes>"
      ]
     },
     "metadata": {},
     "output_type": "display_data"
    }
   ],
   "source": [
    "#Histogram tylko stanu dopasowanego\n",
    "samps.opt_histogram(0)"
   ]
  },
  {
   "cell_type": "code",
   "execution_count": 13,
   "metadata": {},
   "outputs": [],
   "source": [
    "# Tworzy instancję klasy density_matrix z macierzy stanu losowego\n",
    "\n",
    "dm = samps.density_matrix(0)"
   ]
  },
  {
   "cell_type": "code",
   "execution_count": 15,
   "metadata": {},
   "outputs": [],
   "source": [
    "# Tworzy instancję klasy density_matrix ze stanu Wernera o zadanym kącie th i widzialności vis\n",
    "th=pi/2\n",
    "vis = 1\n",
    "\n",
    "wer = density_matrix(rho2(th,vis))"
   ]
  },
  {
   "cell_type": "code",
   "execution_count": 2,
   "metadata": {},
   "outputs": [
    {
     "data": {
      "text/plain": [
       "array([[ 0.4336 +0.j     , -0.15985-0.0569j , -0.06363-0.15729j,\n",
       "        -0.01839-0.43321j],\n",
       "       [-0.15985+0.0569j ,  0.0664 +0.j     ,  0.0441 +0.04964j,\n",
       "         0.06363+0.15729j],\n",
       "       [-0.06363+0.15729j,  0.0441 -0.04964j,  0.0664 -0.j     ,\n",
       "         0.15985+0.0569j ],\n",
       "       [-0.01839+0.43321j,  0.06363-0.15729j,  0.15985-0.0569j ,\n",
       "         0.4336 -0.j     ]])"
      ]
     },
     "execution_count": 2,
     "metadata": {},
     "output_type": "execute_result"
    }
   ],
   "source": [
    "mean_over_unitars(rho2(pi/4,1))"
   ]
  },
  {
   "cell_type": "code",
   "execution_count": 14,
   "metadata": {},
   "outputs": [
    {
     "data": {
      "text/plain": [
       "(1.0000000000000004+1.6653345369377356e-16j)"
      ]
     },
     "execution_count": 14,
     "metadata": {},
     "output_type": "execute_result"
    }
   ],
   "source": []
  },
  {
   "cell_type": "code",
   "execution_count": 18,
   "metadata": {},
   "outputs": [
    {
     "name": "stdout",
     "output_type": "stream",
     "text": [
      "0.4250876905292271\n",
      "0.8210858019295816\n",
      "1.2246467991473532e-16\n",
      "0.0\n"
     ]
    }
   ],
   "source": [
    "#różne funkcje korzystające z density_matrix\n",
    "print(matrix_fidelity(dm, wer))\n",
    "print(Frobenius_dist(dm, wer))\n",
    "print(concurrence(wer))\n",
    "print(CHSHviolation_measure(wer))"
   ]
  },
  {
   "cell_type": "code",
   "execution_count": 19,
   "metadata": {},
   "outputs": [
    {
     "data": {
      "image/png": "[encoded data removed]",
      "text/plain": [
       "<Figure size 640x480 with 1 Axes>"
      ]
     },
     "metadata": {},
     "output_type": "display_data"
    }
   ],
   "source": [
    "double_plot(dm, wer)"
   ]
  },
  {
   "cell_type": "code",
   "execution_count": 53,
   "metadata": {},
   "outputs": [],
   "source": [
    "def optimal_trace(dmA):\n",
    "    from scipy.optimize import differential_evolution, dual_annealing, brute, shgo\n",
    "    def f(matrixA, params):\n",
    "        matrixA = matrixA.matrix if type(matrixA) == density_matrix else matrixA\n",
    "        matrixB = rho2(-pi/4,1)\n",
    "        paramsA = params[:3]\n",
    "        paramsB = params[3:]\n",
    "        return -1*np.trace(np.matmul(matrixB, rotate_matrix(matrixA, paramsA, paramsB)))\n",
    "    bounds = [(0,2*pi), (0,2*pi), (0,2*pi), (0,2*pi), (0,2*pi), (0,2*pi)]\n",
    "    res = differential_evolution(f, args=(dmA,), bounds=bounds)\n",
    "    return {'value': -np.real(res['fun']), 'parameters': [res['x'][:3], res['x'][3:]]}\n"
   ]
  },
  {
   "cell_type": "code",
   "execution_count": 55,
   "metadata": {},
   "outputs": [],
   "source": [
    "def optimal_trace_shgo(dmA):\n",
    "    from scipy.optimize import differential_evolution, dual_annealing, brute, shgo\n",
    "    def f(params, matrixA):\n",
    "        matrixA = matrixA.matrix if type(matrixA) == density_matrix else matrixA\n",
    "        matrixB = rho2(-pi/4,1)\n",
    "        paramsA = params[:3]\n",
    "        paramsB = params[3:]\n",
    "        return -1*np.trace(np.matmul(matrixB, rotate_matrix(matrixA, paramsA, paramsB)))\n",
    "    bounds = [(0,2*pi), (0,2*pi), (0,2*pi), (0,2*pi), (0,2*pi), (0,2*pi)]\n",
    "    res = shgo(f, args=(dmA,), bounds=bounds)\n",
    "    return {'value': -np.real(res['fun']), 'parameters': [res['x'][:3], res['x'][3:]]}\n"
   ]
  },
  {
   "cell_type": "code",
   "execution_count": 56,
   "metadata": {},
   "outputs": [
    {
     "ename": "ValueError",
     "evalue": "The truth value of an array with more than one element is ambiguous. Use a.any() or a.all()",
     "output_type": "error",
     "traceback": [
      "\u001b[1;31m---------------------------------------------------------------------------\u001b[0m",
      "\u001b[1;31mValueError\u001b[0m                                Traceback (most recent call last)",
      "Cell \u001b[1;32mIn[56], line 1\u001b[0m\n\u001b[1;32m----> 1\u001b[0m ans \u001b[38;5;241m=\u001b[39m optimal_trace_shgo(rho2(pi,\u001b[38;5;241m1\u001b[39m))\n\u001b[0;32m      2\u001b[0m ans\n",
      "Cell \u001b[1;32mIn[55], line 10\u001b[0m, in \u001b[0;36moptimal_trace_shgo\u001b[1;34m(dmA)\u001b[0m\n\u001b[0;32m      8\u001b[0m     \u001b[38;5;28;01mreturn\u001b[39;00m \u001b[38;5;241m-\u001b[39m\u001b[38;5;241m1\u001b[39m\u001b[38;5;241m*\u001b[39mnp\u001b[38;5;241m.\u001b[39mtrace(np\u001b[38;5;241m.\u001b[39mmatmul(matrixB, rotate_matrix(matrixA, paramsA, paramsB)))\n\u001b[0;32m      9\u001b[0m bounds \u001b[38;5;241m=\u001b[39m [(\u001b[38;5;241m0\u001b[39m,\u001b[38;5;241m2\u001b[39m\u001b[38;5;241m*\u001b[39mpi), (\u001b[38;5;241m0\u001b[39m,\u001b[38;5;241m2\u001b[39m\u001b[38;5;241m*\u001b[39mpi), (\u001b[38;5;241m0\u001b[39m,\u001b[38;5;241m2\u001b[39m\u001b[38;5;241m*\u001b[39mpi), (\u001b[38;5;241m0\u001b[39m,\u001b[38;5;241m2\u001b[39m\u001b[38;5;241m*\u001b[39mpi), (\u001b[38;5;241m0\u001b[39m,\u001b[38;5;241m2\u001b[39m\u001b[38;5;241m*\u001b[39mpi), (\u001b[38;5;241m0\u001b[39m,\u001b[38;5;241m2\u001b[39m\u001b[38;5;241m*\u001b[39mpi)]\n\u001b[1;32m---> 10\u001b[0m res \u001b[38;5;241m=\u001b[39m shgo(f, args\u001b[38;5;241m=\u001b[39m(dmA,), bounds\u001b[38;5;241m=\u001b[39mbounds)\n\u001b[0;32m     11\u001b[0m \u001b[38;5;28;01mreturn\u001b[39;00m {\u001b[38;5;124m'\u001b[39m\u001b[38;5;124mvalue\u001b[39m\u001b[38;5;124m'\u001b[39m: \u001b[38;5;241m-\u001b[39mnp\u001b[38;5;241m.\u001b[39mreal(res[\u001b[38;5;124m'\u001b[39m\u001b[38;5;124mfun\u001b[39m\u001b[38;5;124m'\u001b[39m]), \u001b[38;5;124m'\u001b[39m\u001b[38;5;124mparameters\u001b[39m\u001b[38;5;124m'\u001b[39m: [res[\u001b[38;5;124m'\u001b[39m\u001b[38;5;124mx\u001b[39m\u001b[38;5;124m'\u001b[39m][:\u001b[38;5;241m3\u001b[39m], res[\u001b[38;5;124m'\u001b[39m\u001b[38;5;124mx\u001b[39m\u001b[38;5;124m'\u001b[39m][\u001b[38;5;241m3\u001b[39m:]]}\n",
      "File \u001b[1;32mc:\\Users\\Jan\\anaconda3\\Lib\\site-packages\\scipy\\optimize\\_shgo.py:454\u001b[0m, in \u001b[0;36mshgo\u001b[1;34m(func, bounds, args, constraints, n, iters, callback, minimizer_kwargs, options, sampling_method, workers)\u001b[0m\n\u001b[0;32m    445\u001b[0m \u001b[38;5;66;03m# Initiate SHGO class\u001b[39;00m\n\u001b[0;32m    446\u001b[0m \u001b[38;5;66;03m# use in context manager to make sure that any parallelization\u001b[39;00m\n\u001b[0;32m    447\u001b[0m \u001b[38;5;66;03m# resources are freed.\u001b[39;00m\n\u001b[0;32m    448\u001b[0m \u001b[38;5;28;01mwith\u001b[39;00m SHGO(func, bounds, args\u001b[38;5;241m=\u001b[39margs, constraints\u001b[38;5;241m=\u001b[39mconstraints, n\u001b[38;5;241m=\u001b[39mn,\n\u001b[0;32m    449\u001b[0m            iters\u001b[38;5;241m=\u001b[39miters, callback\u001b[38;5;241m=\u001b[39mcallback,\n\u001b[0;32m    450\u001b[0m            minimizer_kwargs\u001b[38;5;241m=\u001b[39mminimizer_kwargs,\n\u001b[0;32m    451\u001b[0m            options\u001b[38;5;241m=\u001b[39moptions, sampling_method\u001b[38;5;241m=\u001b[39msampling_method,\n\u001b[0;32m    452\u001b[0m            workers\u001b[38;5;241m=\u001b[39mworkers) \u001b[38;5;28;01mas\u001b[39;00m shc:\n\u001b[0;32m    453\u001b[0m     \u001b[38;5;66;03m# Run the algorithm, process results and test success\u001b[39;00m\n\u001b[1;32m--> 454\u001b[0m     shc\u001b[38;5;241m.\u001b[39miterate_all()\n\u001b[0;32m    456\u001b[0m \u001b[38;5;28;01mif\u001b[39;00m \u001b[38;5;129;01mnot\u001b[39;00m shc\u001b[38;5;241m.\u001b[39mbreak_routine:\n\u001b[0;32m    457\u001b[0m     \u001b[38;5;28;01mif\u001b[39;00m shc\u001b[38;5;241m.\u001b[39mdisp:\n",
      "File \u001b[1;32mc:\\Users\\Jan\\anaconda3\\Lib\\site-packages\\scipy\\optimize\\_shgo.py:832\u001b[0m, in \u001b[0;36mSHGO.iterate_all\u001b[1;34m(self)\u001b[0m\n\u001b[0;32m    830\u001b[0m         \u001b[38;5;28;01mbreak\u001b[39;00m\n\u001b[0;32m    831\u001b[0m     \u001b[38;5;66;03m# Iterate complex, process minimisers\u001b[39;00m\n\u001b[1;32m--> 832\u001b[0m     \u001b[38;5;28mself\u001b[39m\u001b[38;5;241m.\u001b[39miterate()\n\u001b[0;32m    833\u001b[0m     \u001b[38;5;28mself\u001b[39m\u001b[38;5;241m.\u001b[39mstopping_criteria()\n\u001b[0;32m    835\u001b[0m \u001b[38;5;66;03m# Build minimiser pool\u001b[39;00m\n\u001b[0;32m    836\u001b[0m \u001b[38;5;66;03m# Final iteration only needed if pools weren't minimised every\u001b[39;00m\n\u001b[0;32m    837\u001b[0m \u001b[38;5;66;03m# iteration\u001b[39;00m\n",
      "File \u001b[1;32mc:\\Users\\Jan\\anaconda3\\Lib\\site-packages\\scipy\\optimize\\_shgo.py:1004\u001b[0m, in \u001b[0;36mSHGO.iterate\u001b[1;34m(self)\u001b[0m\n\u001b[0;32m   1003\u001b[0m \u001b[38;5;28;01mdef\u001b[39;00m \u001b[38;5;21miterate\u001b[39m(\u001b[38;5;28mself\u001b[39m):\n\u001b[1;32m-> 1004\u001b[0m     \u001b[38;5;28mself\u001b[39m\u001b[38;5;241m.\u001b[39miterate_complex()\n\u001b[0;32m   1006\u001b[0m     \u001b[38;5;66;03m# Build minimizer pool\u001b[39;00m\n\u001b[0;32m   1007\u001b[0m     \u001b[38;5;28;01mif\u001b[39;00m \u001b[38;5;28mself\u001b[39m\u001b[38;5;241m.\u001b[39mminimize_every_iter:\n",
      "File \u001b[1;32mc:\\Users\\Jan\\anaconda3\\Lib\\site-packages\\scipy\\optimize\\_shgo.py:1053\u001b[0m, in \u001b[0;36mSHGO.iterate_hypercube\u001b[1;34m(self)\u001b[0m\n\u001b[0;32m   1041\u001b[0m             v_near \u001b[38;5;241m=\u001b[39m v_near\u001b[38;5;241m.\u001b[39munion(v\u001b[38;5;241m.\u001b[39mnn)\n\u001b[0;32m   1042\u001b[0m         \u001b[38;5;66;03m# Reconnect vertices to complex\u001b[39;00m\n\u001b[0;32m   1043\u001b[0m         \u001b[38;5;66;03m# if self.HC.connect_vertex_non_symm(tuple(self.LMC[xl].x_l),\u001b[39;00m\n\u001b[0;32m   1044\u001b[0m         \u001b[38;5;66;03m#                                   near=v_near):\u001b[39;00m\n\u001b[1;32m   (...)\u001b[0m\n\u001b[0;32m   1051\u001b[0m \n\u001b[0;32m   1052\u001b[0m \u001b[38;5;66;03m# Evaluate all constraints and functions\u001b[39;00m\n\u001b[1;32m-> 1053\u001b[0m \u001b[38;5;28mself\u001b[39m\u001b[38;5;241m.\u001b[39mHC\u001b[38;5;241m.\u001b[39mV\u001b[38;5;241m.\u001b[39mprocess_pools()\n\u001b[0;32m   1054\u001b[0m \u001b[38;5;28;01mif\u001b[39;00m \u001b[38;5;28mself\u001b[39m\u001b[38;5;241m.\u001b[39mdisp:\n\u001b[0;32m   1055\u001b[0m     logging\u001b[38;5;241m.\u001b[39minfo(\u001b[38;5;124m'\u001b[39m\u001b[38;5;124mEvaluations completed.\u001b[39m\u001b[38;5;124m'\u001b[39m)\n",
      "File \u001b[1;32mc:\\Users\\Jan\\anaconda3\\Lib\\site-packages\\scipy\\optimize\\_shgo_lib\\_vertex.py:327\u001b[0m, in \u001b[0;36mVertexCacheField.process_pools\u001b[1;34m(self)\u001b[0m\n\u001b[0;32m    325\u001b[0m \u001b[38;5;28;01mif\u001b[39;00m \u001b[38;5;28mself\u001b[39m\u001b[38;5;241m.\u001b[39mg_cons \u001b[38;5;129;01mis\u001b[39;00m \u001b[38;5;129;01mnot\u001b[39;00m \u001b[38;5;28;01mNone\u001b[39;00m:\n\u001b[0;32m    326\u001b[0m     \u001b[38;5;28mself\u001b[39m\u001b[38;5;241m.\u001b[39mprocess_gpool()\n\u001b[1;32m--> 327\u001b[0m \u001b[38;5;28mself\u001b[39m\u001b[38;5;241m.\u001b[39mprocess_fpool()\n\u001b[0;32m    328\u001b[0m \u001b[38;5;28mself\u001b[39m\u001b[38;5;241m.\u001b[39mproc_minimisers()\n",
      "File \u001b[1;32mc:\\Users\\Jan\\anaconda3\\Lib\\site-packages\\scipy\\optimize\\_shgo_lib\\_vertex.py:384\u001b[0m, in \u001b[0;36mVertexCacheField.proc_fpool_nog\u001b[1;34m(self)\u001b[0m\n\u001b[0;32m    382\u001b[0m \u001b[38;5;250m\u001b[39m\u001b[38;5;124;03m\"\"\"Process all field functions with no constraints supplied.\"\"\"\u001b[39;00m\n\u001b[0;32m    383\u001b[0m \u001b[38;5;28;01mfor\u001b[39;00m v \u001b[38;5;129;01min\u001b[39;00m \u001b[38;5;28mself\u001b[39m\u001b[38;5;241m.\u001b[39mfpool:\n\u001b[1;32m--> 384\u001b[0m     \u001b[38;5;28mself\u001b[39m\u001b[38;5;241m.\u001b[39mcompute_sfield(v)\n\u001b[0;32m    385\u001b[0m \u001b[38;5;66;03m# Clean the pool\u001b[39;00m\n\u001b[0;32m    386\u001b[0m \u001b[38;5;28mself\u001b[39m\u001b[38;5;241m.\u001b[39mfpool \u001b[38;5;241m=\u001b[39m \u001b[38;5;28mset\u001b[39m()\n",
      "File \u001b[1;32mc:\\Users\\Jan\\anaconda3\\Lib\\site-packages\\scipy\\optimize\\_shgo_lib\\_vertex.py:347\u001b[0m, in \u001b[0;36mVertexCacheField.compute_sfield\u001b[1;34m(self, v)\u001b[0m\n\u001b[0;32m    340\u001b[0m \u001b[38;5;250m\u001b[39m\u001b[38;5;124;03m\"\"\"Compute the scalar field values of a vertex object `v`.\u001b[39;00m\n\u001b[0;32m    341\u001b[0m \n\u001b[0;32m    342\u001b[0m \u001b[38;5;124;03mParameters\u001b[39;00m\n\u001b[0;32m    343\u001b[0m \u001b[38;5;124;03m----------\u001b[39;00m\n\u001b[0;32m    344\u001b[0m \u001b[38;5;124;03mv : VertexBase or VertexScalarField object\u001b[39;00m\n\u001b[0;32m    345\u001b[0m \u001b[38;5;124;03m\"\"\"\u001b[39;00m\n\u001b[0;32m    346\u001b[0m \u001b[38;5;28;01mtry\u001b[39;00m:\n\u001b[1;32m--> 347\u001b[0m     v\u001b[38;5;241m.\u001b[39mf \u001b[38;5;241m=\u001b[39m \u001b[38;5;28mself\u001b[39m\u001b[38;5;241m.\u001b[39mfield(v\u001b[38;5;241m.\u001b[39mx_a, \u001b[38;5;241m*\u001b[39m\u001b[38;5;28mself\u001b[39m\u001b[38;5;241m.\u001b[39mfield_args)\n\u001b[0;32m    348\u001b[0m     \u001b[38;5;28mself\u001b[39m\u001b[38;5;241m.\u001b[39mnfev \u001b[38;5;241m+\u001b[39m\u001b[38;5;241m=\u001b[39m \u001b[38;5;241m1\u001b[39m\n\u001b[0;32m    349\u001b[0m \u001b[38;5;28;01mexcept\u001b[39;00m \u001b[38;5;167;01mAttributeError\u001b[39;00m:\n",
      "File \u001b[1;32mc:\\Users\\Jan\\anaconda3\\Lib\\site-packages\\scipy\\_lib\\_util.py:360\u001b[0m, in \u001b[0;36m_FunctionWrapper.__call__\u001b[1;34m(self, x)\u001b[0m\n\u001b[0;32m    359\u001b[0m \u001b[38;5;28;01mdef\u001b[39;00m \u001b[38;5;21m__call__\u001b[39m(\u001b[38;5;28mself\u001b[39m, x):\n\u001b[1;32m--> 360\u001b[0m     \u001b[38;5;28;01mreturn\u001b[39;00m \u001b[38;5;28mself\u001b[39m\u001b[38;5;241m.\u001b[39mf(x, \u001b[38;5;241m*\u001b[39m\u001b[38;5;28mself\u001b[39m\u001b[38;5;241m.\u001b[39margs)\n",
      "Cell \u001b[1;32mIn[55], line 8\u001b[0m, in \u001b[0;36moptimal_trace_shgo.<locals>.f\u001b[1;34m(params, matrixA)\u001b[0m\n\u001b[0;32m      6\u001b[0m paramsA \u001b[38;5;241m=\u001b[39m params[:\u001b[38;5;241m3\u001b[39m]\n\u001b[0;32m      7\u001b[0m paramsB \u001b[38;5;241m=\u001b[39m params[\u001b[38;5;241m3\u001b[39m:]\n\u001b[1;32m----> 8\u001b[0m \u001b[38;5;28;01mreturn\u001b[39;00m \u001b[38;5;241m-\u001b[39m\u001b[38;5;241m1\u001b[39m\u001b[38;5;241m*\u001b[39mnp\u001b[38;5;241m.\u001b[39mtrace(np\u001b[38;5;241m.\u001b[39mmatmul(matrixB, rotate_matrix(matrixA, paramsA, paramsB)))\n",
      "File \u001b[1;32mc:\\Users\\Jan\\Desktop\\Uni_Wrrr\\Kwantowa_informacja\\Magisterka\\WernerTomography2\\myPackage\\my_module.py:101\u001b[0m, in \u001b[0;36mrotate_matrix\u001b[1;34m(matrix, paramsA, paramsB)\u001b[0m\n\u001b[0;32m     99\u001b[0m \u001b[38;5;28;01mdef\u001b[39;00m \u001b[38;5;21mrotate_matrix\u001b[39m(matrix, paramsA\u001b[38;5;241m=\u001b[39m\u001b[38;5;28;01mNone\u001b[39;00m, paramsB\u001b[38;5;241m=\u001b[39m\u001b[38;5;28;01mNone\u001b[39;00m):\n\u001b[0;32m    100\u001b[0m     matrix \u001b[38;5;241m=\u001b[39m matrix\u001b[38;5;241m.\u001b[39mmatrix \u001b[38;5;28;01mif\u001b[39;00m \u001b[38;5;28mtype\u001b[39m(matrix) \u001b[38;5;241m==\u001b[39m density_matrix \u001b[38;5;28;01melse\u001b[39;00m matrix\n\u001b[1;32m--> 101\u001b[0m     uA \u001b[38;5;241m=\u001b[39m unitary_mat2(paramsA)\n\u001b[0;32m    102\u001b[0m     uB \u001b[38;5;241m=\u001b[39m unitary_mat2(paramsB)\n\u001b[0;32m    103\u001b[0m     uAB \u001b[38;5;241m=\u001b[39m tens_prod2d(uA, uB)\n",
      "File \u001b[1;32mc:\\Users\\Jan\\Desktop\\Uni_Wrrr\\Kwantowa_informacja\\Magisterka\\WernerTomography2\\myPackage\\my_module.py:53\u001b[0m, in \u001b[0;36munitary_mat2\u001b[1;34m(params)\u001b[0m\n\u001b[0;32m     51\u001b[0m \u001b[38;5;28;01mdef\u001b[39;00m \u001b[38;5;21munitary_mat2\u001b[39m(params\u001b[38;5;241m=\u001b[39m\u001b[38;5;28;01mNone\u001b[39;00m):\n\u001b[1;32m---> 53\u001b[0m     \u001b[38;5;28;01mif\u001b[39;00m(params\u001b[38;5;241m!=\u001b[39m\u001b[38;5;28;01mNone\u001b[39;00m):\n\u001b[0;32m     54\u001b[0m         th \u001b[38;5;241m=\u001b[39m params[\u001b[38;5;241m0\u001b[39m]\n\u001b[0;32m     55\u001b[0m         alpha \u001b[38;5;241m=\u001b[39m params[\u001b[38;5;241m1\u001b[39m]\n",
      "\u001b[1;31mValueError\u001b[0m: The truth value of an array with more than one element is ambiguous. Use a.any() or a.all()"
     ]
    }
   ],
   "source": [
    "ans = optimal_trace_shgo(rho2(pi,1))\n",
    "ans"
   ]
  },
  {
   "cell_type": "code",
   "execution_count": 53,
   "metadata": {},
   "outputs": [],
   "source": [
    "phip = np.matrix([[0.5,0,0,0.5],[0,0,0,0],[0,0,0,0],[0.5,0,0,0.5]])\n",
    "phim = np.matrix([[0.5,0,0,-0.5],[0,0,0,0],[0,0,0,0],[-0.5,0,0,0.5]])"
   ]
  },
  {
   "cell_type": "code",
   "execution_count": 59,
   "metadata": {},
   "outputs": [
    {
     "data": {
      "text/plain": [
       "{'value': 1.0000000000000002,\n",
       " 'parameters': [array([2.12558, 3.12156, 1.59394]),\n",
       "  array([2.58681, 6.26005, 1.59083])]}"
      ]
     },
     "execution_count": 59,
     "metadata": {},
     "output_type": "execute_result"
    }
   ],
   "source": [
    "ans = optimal_trace(phim)\n",
    "ans"
   ]
  },
  {
   "cell_type": "code",
   "execution_count": 64,
   "metadata": {},
   "outputs": [
    {
     "name": "stderr",
     "output_type": "stream",
     "text": [
      "c:\\Users\\Jan\\anaconda3\\Lib\\site-packages\\scipy\\optimize\\_differentialevolution.py:1165: ComplexWarning: Casting complex values to real discards the imaginary part\n",
      "  energies[0:S] = calc_energies\n",
      "c:\\Users\\Jan\\anaconda3\\Lib\\site-packages\\scipy\\optimize\\_differentialevolution.py:1418: ComplexWarning: Casting complex values to real discards the imaginary part\n",
      "  self.population_energies[candidate] = np.squeeze(energy)\n",
      "c:\\Users\\Jan\\anaconda3\\Lib\\site-packages\\scipy\\optimize\\_numdiff.py:598: ComplexWarning: Casting complex values to real discards the imaginary part\n",
      "  J_transposed[i] = df / dx\n",
      "c:\\Users\\Jan\\anaconda3\\Lib\\site-packages\\scipy\\optimize\\_lbfgsb_py.py:356: ComplexWarning: Casting complex values to real discards the imaginary part\n",
      "  _lbfgsb.setulb(m, x, low_bnd, upper_bnd, nbd, f, g, factr,\n",
      "c:\\Users\\Jan\\anaconda3\\Lib\\site-packages\\scipy\\optimize\\_differentialevolution.py:1102: ComplexWarning: Casting complex values to real discards the imaginary part\n",
      "  self.population_energies[0] = result.fun\n"
     ]
    },
    {
     "data": {
      "text/plain": [
       "{'value': 0.5790848686035593,\n",
       " 'parameters': [array([2.40665, 0.16564, 2.28091]),\n",
       "  array([1.4232 , 5.2923 , 1.02036])]}"
      ]
     },
     "execution_count": 64,
     "metadata": {},
     "output_type": "execute_result"
    }
   ],
   "source": [
    "state = rand_PSDM(4)\n",
    "optimal_trace(state)"
   ]
  },
  {
   "cell_type": "code",
   "execution_count": 14,
   "metadata": {},
   "outputs": [],
   "source": [
    "def wer_projection(state):\n",
    "    import scipy.optimize\n",
    "    \n",
    "    def f(params):\n",
    "        paramsA = params[:3]\n",
    "        paramsB = params[3:]\n",
    "        return -1*np.real(np.trace(np.dot(rotate_matrix(state, paramsA, paramsB), rho2(-pi/4,1))))\n",
    "    res = scipy.optimize.differential_evolution(f, bounds=[(0,2*pi), (0,2*pi), (0,2*pi), (0,2*pi), (0,2*pi), (0,2*pi)])\n",
    "    trace = -1*res['fun']\n",
    "    \n",
    "    nonlconstraint = optimize.NonlinearConstraint(lambda x:(x[1]*np.cos(x[0]-np.pi/4)*np.cos(x[0]-np.pi/4)-x[1]/4+1/4-trace),lb=0,ub=0)\n",
    "    bounds = optimize.Bounds([-pi/4,0], [pi/4, 1])\n",
    "    def concurrencerho(x):\n",
    "        rho = rho2(x[0],x[1])  #making sure rho is of np.array type\n",
    "        rhod = tens_prod2d(Pauli[2], Pauli[2])@np.transpose(np.conjugate(rho))@tens_prod2d(Pauli[2], Pauli[2])\n",
    "        lambs = np.linalg.eigvals(rho@rhod)\n",
    "        lambs = np.sqrt(lambs)\n",
    "        l1 = max(lambs)\n",
    "        C = 2*l1 - np.sum(lambs)\n",
    "        return np.real(-C)\n",
    "    \n",
    "    return optimize.minimize(concurrencerho,x0=[-pi/4, 1], constraints=nonlconstraint, bounds=bounds, method='trust-constr')"
   ]
  },
  {
   "cell_type": "code",
   "execution_count": 20,
   "metadata": {},
   "outputs": [
    {
     "data": {
      "text/plain": [
       "array([[ 0.25331-0.j     , -0.012  +0.07886j, -0.02686+0.12513j,\n",
       "         0.03723+0.01038j],\n",
       "       [-0.012  -0.07886j,  0.45474+0.j     ,  0.01738+0.0059j ,\n",
       "        -0.13507+0.05069j],\n",
       "       [-0.02686-0.12513j,  0.01738-0.0059j ,  0.21918-0.j     ,\n",
       "         0.02476-0.06482j],\n",
       "       [ 0.03723-0.01038j, -0.13507-0.05069j,  0.02476+0.06482j,\n",
       "         0.07278-0.j     ]])"
      ]
     },
     "execution_count": 20,
     "metadata": {},
     "output_type": "execute_result"
    }
   ],
   "source": [
    "state = rand_PSDM(4)\n",
    "state"
   ]
  },
  {
   "cell_type": "code",
   "execution_count": 21,
   "metadata": {},
   "outputs": [
    {
     "data": {
      "text/plain": [
       "           message: `gtol` termination condition is satisfied.\n",
       "           success: True\n",
       "            status: 1\n",
       "               fun: 0.1515025426282831\n",
       "                 x: [ 2.666e-02  6.299e-01]\n",
       "               nit: 15\n",
       "              nfev: 18\n",
       "              njev: 6\n",
       "              nhev: 0\n",
       "          cg_niter: 5\n",
       "      cg_stop_cond: 0\n",
       "              grad: [-1.258e+00 -5.533e-01]\n",
       "   lagrangian_grad: [-2.239e-09  5.090e-09]\n",
       "            constr: [array([-8.348e-13]), array([ 2.666e-02,  6.299e-01])]\n",
       "               jac: [array([[ 6.290e-01,  2.767e-01]]), array([[ 1.000e+00,  0.000e+00],\n",
       "                           [ 0.000e+00,  1.000e+00]])]\n",
       "       constr_nfev: [18, 0]\n",
       "       constr_njev: [0, 0]\n",
       "       constr_nhev: [0, 0]\n",
       "                 v: [array([ 2.000e+00]), array([ 1.172e-08,  7.054e-09])]\n",
       "            method: tr_interior_point\n",
       "        optimality: 5.089858408990417e-09\n",
       "  constr_violation: 8.348322033668865e-13\n",
       "    execution_time: 0.01673293113708496\n",
       "         tr_radius: 12985823.433812018\n",
       "    constr_penalty: 1.0\n",
       " barrier_parameter: 5.120000000000003e-08\n",
       " barrier_tolerance: 5.120000000000003e-08\n",
       "             niter: 15"
      ]
     },
     "execution_count": 21,
     "metadata": {},
     "output_type": "execute_result"
    }
   ],
   "source": [
    "wer_projection(state)"
   ]
  },
  {
   "cell_type": "code",
   "execution_count": 16,
   "metadata": {},
   "outputs": [
    {
     "data": {
      "text/plain": [
       "           message: `gtol` termination condition is satisfied.\n",
       "           success: True\n",
       "            status: 1\n",
       "               fun: -0.999999991740099\n",
       "                 x: [ 7.853e-01  1.000e+00]\n",
       "               nit: 37\n",
       "              nfev: 87\n",
       "              njev: 29\n",
       "              nhev: 0\n",
       "          cg_niter: 28\n",
       "      cg_stop_cond: 1\n",
       "              grad: [-2.321e-04 -3.319e-01]\n",
       "   lagrangian_grad: [-1.723e-12 -7.105e-15]\n",
       "            constr: [array([-3.524e-09]), array([ 7.853e-01,  1.000e+00])]\n",
       "               jac: [array([[ 1.160e-04,  7.500e-01]]), array([[ 1.000e+00,  0.000e+00],\n",
       "                           [ 0.000e+00,  1.000e+00]])]\n",
       "       constr_nfev: [87, 0]\n",
       "       constr_njev: [0, 0]\n",
       "       constr_nhev: [0, 0]\n",
       "                 v: [array([-4.043e+01]), array([ 4.923e-03,  3.065e+01])]\n",
       "            method: tr_interior_point\n",
       "        optimality: 1.7234980803637612e-12\n",
       "  constr_violation: 3.523628500090581e-09\n",
       "    execution_time: 0.13340139389038086\n",
       "         tr_radius: 474371.52471982635\n",
       "    constr_penalty: 60.673102121458946\n",
       " barrier_parameter: 2.560000000000001e-07\n",
       " barrier_tolerance: 2.560000000000001e-07\n",
       "             niter: 37"
      ]
     },
     "execution_count": 16,
     "metadata": {},
     "output_type": "execute_result"
    }
   ],
   "source": [
    "wer_projection(rho2(pi/4, 1))"
   ]
  },
  {
   "cell_type": "code",
   "execution_count": 17,
   "metadata": {},
   "outputs": [
    {
     "data": {
      "text/plain": [
       "           message: `gtol` termination condition is satisfied.\n",
       "           success: True\n",
       "            status: 1\n",
       "               fun: -0.9999999847646485\n",
       "                 x: [ 7.853e-01  1.000e+00]\n",
       "               nit: 47\n",
       "              nfev: 102\n",
       "              njev: 34\n",
       "              nhev: 0\n",
       "          cg_niter: 37\n",
       "      cg_stop_cond: 1\n",
       "              grad: [-3.490e-04  3.441e-01]\n",
       "   lagrangian_grad: [-1.707e-15  1.110e-16]\n",
       "            constr: [array([-6.073e-09]), array([ 7.853e-01,  1.000e+00])]\n",
       "               jac: [array([[ 1.745e-04,  7.500e-01]]), array([[ 1.000e+00,  0.000e+00],\n",
       "                           [ 0.000e+00,  1.000e+00]])]\n",
       "       constr_nfev: [102, 0]\n",
       "       constr_njev: [0, 0]\n",
       "       constr_nhev: [0, 0]\n",
       "                 v: [array([-1.364e+00]), array([ 5.870e-04,  6.791e-01])]\n",
       "            method: tr_interior_point\n",
       "        optimality: 1.7072931610129238e-15\n",
       "  constr_violation: 6.072750968755258e-09\n",
       "    execution_time: 0.10255813598632812\n",
       "         tr_radius: 38.86128997888635\n",
       "    constr_penalty: 221.47984143078324\n",
       " barrier_parameter: 5.120000000000003e-08\n",
       " barrier_tolerance: 5.120000000000003e-08\n",
       "             niter: 47"
      ]
     },
     "execution_count": 17,
     "metadata": {},
     "output_type": "execute_result"
    }
   ],
   "source": [
    "wer_projection(rho2(pi/4, 1))"
   ]
  },
  {
   "cell_type": "code",
   "execution_count": 2,
   "metadata": {},
   "outputs": [
    {
     "data": {
      "text/plain": [
       "0.0"
      ]
     },
     "execution_count": 2,
     "metadata": {},
     "output_type": "execute_result"
    }
   ],
   "source": [
    "np.trace(np.dot(rho2(-pi/4, 1), rho2(pi/4,1)))"
   ]
  },
  {
   "cell_type": "code",
   "execution_count": 12,
   "metadata": {},
   "outputs": [],
   "source": [
    "def optimal_trace(state):\n",
    "    from scipy.optimize import differential_evolution\n",
    "    def f(params):\n",
    "        paramsA = params[:3]\n",
    "        paramsB = params[3:]\n",
    "        return -1*np.real(np.trace(np.dot(rotate_matrix(state, paramsA, paramsB), rho2(-pi/4,1))))\n",
    "    res = differential_evolution(f, bounds=[(0,2*pi), (0,2*pi), (0,2*pi), (0,2*pi), (0,2*pi), (0,2*pi)])\n",
    "    return -res['fun']"
   ]
  },
  {
   "cell_type": "code",
   "execution_count": 13,
   "metadata": {},
   "outputs": [
    {
     "data": {
      "text/plain": [
       "0.9999999999185996"
      ]
     },
     "execution_count": 13,
     "metadata": {},
     "output_type": "execute_result"
    }
   ],
   "source": [
    "optimal_trace(rho2(-pi/4,1))"
   ]
  },
  {
   "cell_type": "code",
   "execution_count": 29,
   "metadata": {},
   "outputs": [],
   "source": [
    "def wer_projection_dist(state):\n",
    "    import scipy.optimize\n",
    "    \n",
    "    def f(params):\n",
    "        paramsA = params[:3]\n",
    "        paramsB = params[3:]\n",
    "        return -1*np.real(np.trace(np.dot(rotate_matrix(state, paramsA, paramsB), rho2(-pi/4,1))))\n",
    "    res = scipy.optimize.differential_evolution(f, bounds=[(0,2*pi), (0,2*pi), (0,2*pi), (0,2*pi), (0,2*pi), (0,2*pi)])\n",
    "    trace = -1*res['fun']\n",
    "    \n",
    "    nonlconstraint = optimize.NonlinearConstraint(lambda x:(x[1]*np.cos(x[0]-np.pi/4)*np.cos(x[0]-np.pi/4)-x[1]/4+1/4-trace),lb=0,ub=0)\n",
    "    bounds = optimize.Bounds([0,0,0,0,0,0], [2*pi,2*pi,2*pi,2*pi,2*pi,2*pi])\n",
    "    def dist(params): \n",
    "        paramsA = params[:3]\n",
    "        paramsB = params[3:]\n",
    "        D=rotate_matrix(state, paramsA, paramsB) - rho2(-pi/4,1)\n",
    "        dist=np.sqrt(np.real(np.trace(np.transpose(np.conjugate(D))@D)))\n",
    "        return dist\n",
    "    \n",
    "    return scipy.optimize.differential_evolution(dist, bounds=[(0,2*pi), (0,2*pi), (0,2*pi), (0,2*pi), (0,2*pi), (0,2*pi)])"
   ]
  },
  {
   "cell_type": "code",
   "execution_count": 30,
   "metadata": {},
   "outputs": [
    {
     "name": "stderr",
     "output_type": "stream",
     "text": [
      "c:\\Users\\Jan\\anaconda3\\Lib\\site-packages\\scipy\\optimize\\_hessian_update_strategy.py:182: UserWarning: delta_grad == 0.0. Check if the approximated function is linear. If the function is linear better results can be obtained by defining the Hessian as zero instead of using quasi-Newton approximations.\n",
      "  warn('delta_grad == 0.0. Check if the approximated '\n"
     ]
    },
    {
     "data": {
      "text/plain": [
       "           message: The maximum number of function evaluations is exceeded.\n",
       "           success: False\n",
       "            status: 0\n",
       "               fun: 8.804841303259117e-08\n",
       "                 x: [ 5.725e-02  2.442e+00  2.940e+00  5.725e-02  8.712e-01\n",
       "                      1.369e+00]\n",
       "               nit: 1000\n",
       "              nfev: 7350\n",
       "              njev: 1050\n",
       "              nhev: 0\n",
       "          cg_niter: 1064\n",
       "      cg_stop_cond: 2\n",
       "              grad: [ 1.408e+00  2.785e-01 -3.068e-03 -1.405e+00  2.795e-01\n",
       "                      5.450e-03]\n",
       "   lagrangian_grad: [-2.907e-03  2.296e-02 -3.228e-03 -5.720e-03  1.107e-01\n",
       "                     -3.233e-03]\n",
       "            constr: [array([ 1.110e-16]), array([ 5.725e-02,  2.442e+00,  2.940e+00,  5.725e-02,\n",
       "                            8.712e-01,  1.369e+00])]\n",
       "               jac: [array([[ 2.426e+00,  3.071e-01,  0.000e+00,\n",
       "                             0.000e+00,  0.000e+00,  0.000e+00]]), array([[ 1.000e+00,  0.000e+00, ...,  0.000e+00,\n",
       "                             0.000e+00],\n",
       "                           [ 0.000e+00,  1.000e+00, ...,  0.000e+00,\n",
       "                             0.000e+00],\n",
       "                           ...,\n",
       "                           [ 0.000e+00,  0.000e+00, ...,  1.000e+00,\n",
       "                             0.000e+00],\n",
       "                           [ 0.000e+00,  0.000e+00, ...,  0.000e+00,\n",
       "                             1.000e+00]])]\n",
       "       constr_nfev: [7350, 0]\n",
       "       constr_njev: [0, 0]\n",
       "       constr_nhev: [0, 0]\n",
       "                 v: [array([-8.046e-01]), array([ 5.407e-01, -8.390e-03, -1.600e-04,  1.399e+00,\n",
       "                           -1.688e-01, -8.683e-03])]\n",
       "            method: tr_interior_point\n",
       "        optimality: 0.11066155484578372\n",
       "  constr_violation: 1.1102230246251565e-16\n",
       "    execution_time: 3.102273941040039\n",
       "         tr_radius: 3.160145576839369e-08\n",
       "    constr_penalty: 1.0\n",
       " barrier_parameter: 0.020000000000000004\n",
       " barrier_tolerance: 0.020000000000000004\n",
       "             niter: 1000"
      ]
     },
     "execution_count": 30,
     "metadata": {},
     "output_type": "execute_result"
    }
   ],
   "source": [
    "wer_projection_dist(rho2(pi/4, 1))"
   ]
  },
  {
   "cell_type": "code",
   "execution_count": null,
   "metadata": {},
   "outputs": [],
   "source": []
  }
 ],
 "metadata": {
  "kernelspec": {
   "display_name": "base",
   "language": "python",
   "name": "python3"
  },
  "language_info": {
   "codemirror_mode": {
    "name": "ipython",
    "version": 3
   },
   "file_extension": ".py",
   "mimetype": "text/x-python",
   "name": "python",
   "nbconvert_exporter": "python",
   "pygments_lexer": "ipython3",
   "version": "3.11.5"
  }
 },
 "nbformat": 4,
 "nbformat_minor": 2
}
