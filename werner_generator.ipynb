{
 "cells": [
  {
   "cell_type": "code",
   "execution_count": 2,
   "metadata": {},
   "outputs": [
    {
     "ename": "KeyboardInterrupt",
     "evalue": "",
     "output_type": "error",
     "traceback": [
      "\u001b[1;31m---------------------------------------------------------------------------\u001b[0m",
      "\u001b[1;31mKeyboardInterrupt\u001b[0m                         Traceback (most recent call last)",
      "Cell \u001b[1;32mIn[2], line 3\u001b[0m\n\u001b[0;32m      1\u001b[0m \u001b[38;5;28;01mfrom\u001b[39;00m \u001b[38;5;21;01mmyPackage\u001b[39;00m\u001b[38;5;21;01m.\u001b[39;00m\u001b[38;5;21;01mmy_module\u001b[39;00m \u001b[38;5;28;01mimport\u001b[39;00m \u001b[38;5;241m*\u001b[39m\n\u001b[1;32m----> 3\u001b[0m data_save_iterator(N\u001b[38;5;241m=\u001b[39m\u001b[38;5;241m1000\u001b[39m, n\u001b[38;5;241m=\u001b[39m\u001b[38;5;241m1000\u001b[39m, Prefix\u001b[38;5;241m=\u001b[39m\u001b[38;5;124m'\u001b[39m\u001b[38;5;124mA\u001b[39m\u001b[38;5;124m'\u001b[39m)\n",
      "File \u001b[1;32mc:\\Users\\Jan\\Desktop\\Uni_Wrrr\\Kwantowa_informacja\\Magisterka\\WernerTomography2\\myPackage\\my_module.py:630\u001b[0m, in \u001b[0;36mdata_save_iterator\u001b[1;34m(N, n, Prefix)\u001b[0m\n\u001b[0;32m    628\u001b[0m \u001b[38;5;28;01mdef\u001b[39;00m \u001b[38;5;21mdata_save_iterator\u001b[39m(N\u001b[38;5;241m=\u001b[39m\u001b[38;5;241m1000\u001b[39m, n\u001b[38;5;241m=\u001b[39m\u001b[38;5;241m1000\u001b[39m, Prefix\u001b[38;5;241m=\u001b[39m\u001b[38;5;124m'\u001b[39m\u001b[38;5;124m'\u001b[39m):\n\u001b[0;32m    629\u001b[0m     \u001b[38;5;28;01mfor\u001b[39;00m i \u001b[38;5;129;01min\u001b[39;00m \u001b[38;5;28mrange\u001b[39m(N):\n\u001b[1;32m--> 630\u001b[0m         data_saver(\u001b[38;5;124m'\u001b[39m\u001b[38;5;124mdataJK/\u001b[39m\u001b[38;5;124m'\u001b[39m\u001b[38;5;241m+\u001b[39mPrefix\u001b[38;5;241m+\u001b[39m\u001b[38;5;124m'\u001b[39m\u001b[38;5;124mdata\u001b[39m\u001b[38;5;124m'\u001b[39m\u001b[38;5;241m+\u001b[39m\u001b[38;5;28mstr\u001b[39m(i)\u001b[38;5;241m+\u001b[39m\u001b[38;5;124m'\u001b[39m\u001b[38;5;124m.csv\u001b[39m\u001b[38;5;124m'\u001b[39m, n)\n",
      "File \u001b[1;32mc:\\Users\\Jan\\Desktop\\Uni_Wrrr\\Kwantowa_informacja\\Magisterka\\WernerTomography2\\myPackage\\my_module.py:618\u001b[0m, in \u001b[0;36mdata_saver\u001b[1;34m(name, N)\u001b[0m\n\u001b[0;32m    617\u001b[0m \u001b[38;5;28;01mdef\u001b[39;00m \u001b[38;5;21mdata_saver\u001b[39m(name, N\u001b[38;5;241m=\u001b[39m\u001b[38;5;241m1000\u001b[39m):\n\u001b[1;32m--> 618\u001b[0m     df \u001b[38;5;241m=\u001b[39m data_order(data_generator())\n\u001b[0;32m    619\u001b[0m     \u001b[38;5;28;01mfor\u001b[39;00m i \u001b[38;5;129;01min\u001b[39;00m \u001b[38;5;28mrange\u001b[39m(N\u001b[38;5;241m-\u001b[39m\u001b[38;5;241m1\u001b[39m):\n\u001b[0;32m    620\u001b[0m         df\u001b[38;5;241m=\u001b[39mpd\u001b[38;5;241m.\u001b[39mconcat((df, data_order(data_generator())))\n",
      "File \u001b[1;32mc:\\Users\\Jan\\Desktop\\Uni_Wrrr\\Kwantowa_informacja\\Magisterka\\WernerTomography2\\myPackage\\my_module.py:550\u001b[0m, in \u001b[0;36mdata_generator\u001b[1;34m(dm)\u001b[0m\n\u001b[0;32m    548\u001b[0m dm \u001b[38;5;241m=\u001b[39m density_matrix(rand_PSDM()) \u001b[38;5;28;01mif\u001b[39;00m dm\u001b[38;5;241m==\u001b[39m\u001b[38;5;28;01mNone\u001b[39;00m \u001b[38;5;28;01melse\u001b[39;00m dm\n\u001b[0;32m    549\u001b[0m dm\u001b[38;5;241m.\u001b[39mname \u001b[38;5;241m=\u001b[39m \u001b[38;5;124m'\u001b[39m\u001b[38;5;124mrand_PSDM\u001b[39m\u001b[38;5;124m'\u001b[39m\n\u001b[1;32m--> 550\u001b[0m ans \u001b[38;5;241m=\u001b[39m optimal_matrix_fidelity(dm)\n\u001b[0;32m    551\u001b[0m angle \u001b[38;5;241m=\u001b[39m ans[\u001b[38;5;124m'\u001b[39m\u001b[38;5;124mangle\u001b[39m\u001b[38;5;124m'\u001b[39m]\n\u001b[0;32m    552\u001b[0m rotation \u001b[38;5;241m=\u001b[39m ans[\u001b[38;5;124m'\u001b[39m\u001b[38;5;124mparameters\u001b[39m\u001b[38;5;124m'\u001b[39m]\n",
      "File \u001b[1;32mc:\\Users\\Jan\\Desktop\\Uni_Wrrr\\Kwantowa_informacja\\Magisterka\\WernerTomography2\\myPackage\\my_module.py:190\u001b[0m, in \u001b[0;36moptimal_matrix_fidelity\u001b[1;34m(dmA)\u001b[0m\n\u001b[0;32m    188\u001b[0m     \u001b[38;5;28;01mreturn\u001b[39;00m \u001b[38;5;241m-\u001b[39m\u001b[38;5;241m1\u001b[39m\u001b[38;5;241m*\u001b[39mmatrix_fidelity(rotate_matrix(matrixB, paramsA, paramsB), matrixA)\n\u001b[0;32m    189\u001b[0m bounds \u001b[38;5;241m=\u001b[39m [(\u001b[38;5;241m0\u001b[39m,\u001b[38;5;241m2\u001b[39m\u001b[38;5;241m*\u001b[39mpi), (\u001b[38;5;241m0\u001b[39m,\u001b[38;5;241m2\u001b[39m\u001b[38;5;241m*\u001b[39mpi), (\u001b[38;5;241m0\u001b[39m,\u001b[38;5;241m2\u001b[39m\u001b[38;5;241m*\u001b[39mpi), (\u001b[38;5;241m0\u001b[39m,\u001b[38;5;241m2\u001b[39m\u001b[38;5;241m*\u001b[39mpi), (\u001b[38;5;241m0\u001b[39m,\u001b[38;5;241m2\u001b[39m\u001b[38;5;241m*\u001b[39mpi), (\u001b[38;5;241m0\u001b[39m,\u001b[38;5;241m2\u001b[39m\u001b[38;5;241m*\u001b[39mpi), (\u001b[38;5;241m0\u001b[39m, pi\u001b[38;5;241m/\u001b[39m\u001b[38;5;241m4\u001b[39m)]\n\u001b[1;32m--> 190\u001b[0m res \u001b[38;5;241m=\u001b[39m differential_evolution(f, args\u001b[38;5;241m=\u001b[39m(dmA,), bounds\u001b[38;5;241m=\u001b[39mbounds)\n\u001b[0;32m    191\u001b[0m \u001b[38;5;28;01mreturn\u001b[39;00m {\u001b[38;5;124m'\u001b[39m\u001b[38;5;124mvalue\u001b[39m\u001b[38;5;124m'\u001b[39m: \u001b[38;5;241m-\u001b[39mres[\u001b[38;5;124m'\u001b[39m\u001b[38;5;124mfun\u001b[39m\u001b[38;5;124m'\u001b[39m], \u001b[38;5;124m'\u001b[39m\u001b[38;5;124mangle\u001b[39m\u001b[38;5;124m'\u001b[39m: res[\u001b[38;5;124m'\u001b[39m\u001b[38;5;124mx\u001b[39m\u001b[38;5;124m'\u001b[39m][\u001b[38;5;241m-\u001b[39m\u001b[38;5;241m1\u001b[39m], \u001b[38;5;124m'\u001b[39m\u001b[38;5;124mparameters\u001b[39m\u001b[38;5;124m'\u001b[39m: [res[\u001b[38;5;124m'\u001b[39m\u001b[38;5;124mx\u001b[39m\u001b[38;5;124m'\u001b[39m][:\u001b[38;5;241m3\u001b[39m]\u001b[38;5;241m.\u001b[39mtolist(), res[\u001b[38;5;124m'\u001b[39m\u001b[38;5;124mx\u001b[39m\u001b[38;5;124m'\u001b[39m][\u001b[38;5;241m3\u001b[39m:\u001b[38;5;241m6\u001b[39m]\u001b[38;5;241m.\u001b[39mtolist()]}\n",
      "File \u001b[1;32mc:\\Users\\Jan\\anaconda3\\Lib\\site-packages\\scipy\\optimize\\_differentialevolution.py:402\u001b[0m, in \u001b[0;36mdifferential_evolution\u001b[1;34m(func, bounds, args, strategy, maxiter, popsize, tol, mutation, recombination, seed, callback, disp, polish, init, atol, updating, workers, constraints, x0, integrality, vectorized)\u001b[0m\n\u001b[0;32m    385\u001b[0m \u001b[38;5;66;03m# using a context manager means that any created Pool objects are\u001b[39;00m\n\u001b[0;32m    386\u001b[0m \u001b[38;5;66;03m# cleared up.\u001b[39;00m\n\u001b[0;32m    387\u001b[0m \u001b[38;5;28;01mwith\u001b[39;00m DifferentialEvolutionSolver(func, bounds, args\u001b[38;5;241m=\u001b[39margs,\n\u001b[0;32m    388\u001b[0m                                  strategy\u001b[38;5;241m=\u001b[39mstrategy,\n\u001b[0;32m    389\u001b[0m                                  maxiter\u001b[38;5;241m=\u001b[39mmaxiter,\n\u001b[1;32m   (...)\u001b[0m\n\u001b[0;32m    400\u001b[0m                                  integrality\u001b[38;5;241m=\u001b[39mintegrality,\n\u001b[0;32m    401\u001b[0m                                  vectorized\u001b[38;5;241m=\u001b[39mvectorized) \u001b[38;5;28;01mas\u001b[39;00m solver:\n\u001b[1;32m--> 402\u001b[0m     ret \u001b[38;5;241m=\u001b[39m solver\u001b[38;5;241m.\u001b[39msolve()\n\u001b[0;32m    404\u001b[0m \u001b[38;5;28;01mreturn\u001b[39;00m ret\n",
      "File \u001b[1;32mc:\\Users\\Jan\\anaconda3\\Lib\\site-packages\\scipy\\optimize\\_differentialevolution.py:1022\u001b[0m, in \u001b[0;36mDifferentialEvolutionSolver.solve\u001b[1;34m(self)\u001b[0m\n\u001b[0;32m   1019\u001b[0m \u001b[38;5;28;01mfor\u001b[39;00m nit \u001b[38;5;129;01min\u001b[39;00m \u001b[38;5;28mrange\u001b[39m(\u001b[38;5;241m1\u001b[39m, \u001b[38;5;28mself\u001b[39m\u001b[38;5;241m.\u001b[39mmaxiter \u001b[38;5;241m+\u001b[39m \u001b[38;5;241m1\u001b[39m):\n\u001b[0;32m   1020\u001b[0m     \u001b[38;5;66;03m# evolve the population by a generation\u001b[39;00m\n\u001b[0;32m   1021\u001b[0m     \u001b[38;5;28;01mtry\u001b[39;00m:\n\u001b[1;32m-> 1022\u001b[0m         \u001b[38;5;28mnext\u001b[39m(\u001b[38;5;28mself\u001b[39m)\n\u001b[0;32m   1023\u001b[0m     \u001b[38;5;28;01mexcept\u001b[39;00m \u001b[38;5;167;01mStopIteration\u001b[39;00m:\n\u001b[0;32m   1024\u001b[0m         warning_flag \u001b[38;5;241m=\u001b[39m \u001b[38;5;28;01mTrue\u001b[39;00m\n",
      "File \u001b[1;32mc:\\Users\\Jan\\anaconda3\\Lib\\site-packages\\scipy\\optimize\\_differentialevolution.py:1409\u001b[0m, in \u001b[0;36mDifferentialEvolutionSolver.__next__\u001b[1;34m(self)\u001b[0m\n\u001b[0;32m   1407\u001b[0m     feasible \u001b[38;5;241m=\u001b[39m \u001b[38;5;28;01mTrue\u001b[39;00m\n\u001b[0;32m   1408\u001b[0m     cv \u001b[38;5;241m=\u001b[39m np\u001b[38;5;241m.\u001b[39matleast_2d([\u001b[38;5;241m0.\u001b[39m])\n\u001b[1;32m-> 1409\u001b[0m     energy \u001b[38;5;241m=\u001b[39m \u001b[38;5;28mself\u001b[39m\u001b[38;5;241m.\u001b[39mfunc(parameters)\n\u001b[0;32m   1410\u001b[0m     \u001b[38;5;28mself\u001b[39m\u001b[38;5;241m.\u001b[39m_nfev \u001b[38;5;241m+\u001b[39m\u001b[38;5;241m=\u001b[39m \u001b[38;5;241m1\u001b[39m\n\u001b[0;32m   1412\u001b[0m \u001b[38;5;66;03m# compare trial and population member\u001b[39;00m\n",
      "File \u001b[1;32mc:\\Users\\Jan\\anaconda3\\Lib\\site-packages\\scipy\\_lib\\_util.py:360\u001b[0m, in \u001b[0;36m_FunctionWrapper.__call__\u001b[1;34m(self, x)\u001b[0m\n\u001b[0;32m    359\u001b[0m \u001b[38;5;28;01mdef\u001b[39;00m \u001b[38;5;21m__call__\u001b[39m(\u001b[38;5;28mself\u001b[39m, x):\n\u001b[1;32m--> 360\u001b[0m     \u001b[38;5;28;01mreturn\u001b[39;00m \u001b[38;5;28mself\u001b[39m\u001b[38;5;241m.\u001b[39mf(x, \u001b[38;5;241m*\u001b[39m\u001b[38;5;28mself\u001b[39m\u001b[38;5;241m.\u001b[39margs)\n",
      "File \u001b[1;32mc:\\Users\\Jan\\Desktop\\Uni_Wrrr\\Kwantowa_informacja\\Magisterka\\WernerTomography2\\myPackage\\my_module.py:188\u001b[0m, in \u001b[0;36moptimal_matrix_fidelity.<locals>.f\u001b[1;34m(params, matrixA)\u001b[0m\n\u001b[0;32m    186\u001b[0m paramsA \u001b[38;5;241m=\u001b[39m params[:\u001b[38;5;241m3\u001b[39m]\n\u001b[0;32m    187\u001b[0m paramsB \u001b[38;5;241m=\u001b[39m params[\u001b[38;5;241m3\u001b[39m:\u001b[38;5;241m-\u001b[39m\u001b[38;5;241m1\u001b[39m]\n\u001b[1;32m--> 188\u001b[0m \u001b[38;5;28;01mreturn\u001b[39;00m \u001b[38;5;241m-\u001b[39m\u001b[38;5;241m1\u001b[39m\u001b[38;5;241m*\u001b[39mmatrix_fidelity(rotate_matrix(matrixB, paramsA, paramsB), matrixA)\n",
      "File \u001b[1;32mc:\\Users\\Jan\\Desktop\\Uni_Wrrr\\Kwantowa_informacja\\Magisterka\\WernerTomography2\\myPackage\\my_module.py:175\u001b[0m, in \u001b[0;36mmatrix_fidelity\u001b[1;34m(matrixA, matrixB)\u001b[0m\n\u001b[0;32m    172\u001b[0m \u001b[38;5;28;01mif\u001b[39;00m np\u001b[38;5;241m.\u001b[39misnan(sqrtm(matrixA))\u001b[38;5;241m.\u001b[39many():\n\u001b[0;32m    173\u001b[0m     \u001b[38;5;28mprint\u001b[39m(\u001b[38;5;124m'\u001b[39m\u001b[38;5;124mFaulty Matrices:\u001b[39m\u001b[38;5;124m'\u001b[39m, matrixA, matrixB)\n\u001b[1;32m--> 175\u001b[0m fid \u001b[38;5;241m=\u001b[39m \u001b[38;5;28mmin\u001b[39m(np\u001b[38;5;241m.\u001b[39mreal(np\u001b[38;5;241m.\u001b[39mtrace(sqrtm(sqrtm(matrixA)\u001b[38;5;129m@matrixB\u001b[39m\u001b[38;5;129m@sqrtm\u001b[39m(matrixA))))\u001b[38;5;241m*\u001b[39m\u001b[38;5;241m*\u001b[39m\u001b[38;5;241m2\u001b[39m,\u001b[38;5;241m1\u001b[39m)\n\u001b[0;32m    179\u001b[0m \u001b[38;5;28;01mreturn\u001b[39;00m fid\n",
      "File \u001b[1;32mc:\\Users\\Jan\\anaconda3\\Lib\\site-packages\\scipy\\linalg\\_matfuncs_sqrtm.py:183\u001b[0m, in \u001b[0;36msqrtm\u001b[1;34m(A, disp, blocksize)\u001b[0m\n\u001b[0;32m    181\u001b[0m R \u001b[38;5;241m=\u001b[39m _sqrtm_triu(T, blocksize\u001b[38;5;241m=\u001b[39mblocksize)\n\u001b[0;32m    182\u001b[0m ZH \u001b[38;5;241m=\u001b[39m np\u001b[38;5;241m.\u001b[39mconjugate(Z)\u001b[38;5;241m.\u001b[39mT\n\u001b[1;32m--> 183\u001b[0m X \u001b[38;5;241m=\u001b[39m Z\u001b[38;5;241m.\u001b[39mdot(R)\u001b[38;5;241m.\u001b[39mdot(ZH)\n\u001b[0;32m    184\u001b[0m \u001b[38;5;28;01mif\u001b[39;00m \u001b[38;5;129;01mnot\u001b[39;00m np\u001b[38;5;241m.\u001b[39miscomplexobj(X):\n\u001b[0;32m    185\u001b[0m     \u001b[38;5;66;03m# float byte size range: f2 ~ f16\u001b[39;00m\n\u001b[0;32m    186\u001b[0m     X \u001b[38;5;241m=\u001b[39m X\u001b[38;5;241m.\u001b[39mastype(\u001b[38;5;124mf\u001b[39m\u001b[38;5;124m\"\u001b[39m\u001b[38;5;124mf\u001b[39m\u001b[38;5;132;01m{\u001b[39;00mnp\u001b[38;5;241m.\u001b[39mclip(byte_size,\u001b[38;5;250m \u001b[39m\u001b[38;5;241m2\u001b[39m,\u001b[38;5;250m \u001b[39m\u001b[38;5;241m16\u001b[39m)\u001b[38;5;132;01m}\u001b[39;00m\u001b[38;5;124m\"\u001b[39m, copy\u001b[38;5;241m=\u001b[39m\u001b[38;5;28;01mFalse\u001b[39;00m)\n",
      "\u001b[1;31mKeyboardInterrupt\u001b[0m: "
     ]
    }
   ],
   "source": [
    "from myPackage.my_module import *\n",
    "\n",
    "data_save_iterator(N=1000, n=1000, Prefix='A')"
   ]
  },
  {
   "cell_type": "code",
   "execution_count": 10,
   "metadata": {},
   "outputs": [
    {
     "data": {
      "text/plain": [
       "array([[0.37229, 0.34193, 0.14419, 0.22468],\n",
       "       [0.34193, 0.46072, 0.20036, 0.09364],\n",
       "       [0.14419, 0.20036, 0.32868, 0.05917],\n",
       "       [0.22468, 0.09364, 0.05917, 0.24476]])"
      ]
     },
     "execution_count": 10,
     "metadata": {},
     "output_type": "execute_result"
    }
   ],
   "source": [
    "sqrtm(\n",
    "[[0.32679, 0.33476, 0.18288, 0.17919],       \n",
    " [0.33476, 0.37809, 0.21301, 0.15474],\n",
    " [0.18288, 0.21301, 0.17247, 0.08509],\n",
    " [0.17919, 0.15474, 0.08509, 0.12266]])"
   ]
  },
  {
   "cell_type": "code",
   "execution_count": null,
   "metadata": {},
   "outputs": [],
   "source": []
  }
 ],
 "metadata": {
  "kernelspec": {
   "display_name": "base",
   "language": "python",
   "name": "python3"
  },
  "language_info": {
   "codemirror_mode": {
    "name": "ipython",
    "version": 3
   },
   "file_extension": ".py",
   "mimetype": "text/x-python",
   "name": "python",
   "nbconvert_exporter": "python",
   "pygments_lexer": "ipython3",
   "version": "3.11.5"
  }
 },
 "nbformat": 4,
 "nbformat_minor": 2
}
